{
  "nbformat": 4,
  "nbformat_minor": 0,
  "metadata": {
    "colab": {
      "provenance": [],
      "authorship_tag": "ABX9TyNfH5VgzBbRfm9TAG2LBzUG",
      "include_colab_link": true
    },
    "kernelspec": {
      "name": "python3",
      "display_name": "Python 3"
    },
    "language_info": {
      "name": "python"
    }
  },
  "cells": [
    {
      "cell_type": "markdown",
      "metadata": {
        "id": "view-in-github",
        "colab_type": "text"
      },
      "source": [
        "<a href=\"https://colab.research.google.com/github/AnuAsai22/Lead_Scoring_CaseStudy/blob/main/Lead_Scoring_AnuFinal.ipynb\" target=\"_parent\"><img src=\"https://colab.research.google.com/assets/colab-badge.svg\" alt=\"Open In Colab\"/></a>"
      ]
    },
    {
      "cell_type": "code",
      "execution_count": 1,
      "metadata": {
        "id": "GJzobMdtsSp7"
      },
      "outputs": [],
      "source": [
        "# Import Warnings\n",
        "\n",
        "import warnings\n",
        "warnings.filterwarnings('ignore')"
      ]
    },
    {
      "cell_type": "code",
      "source": [
        "#Import the required Libraries.\n",
        "import numpy as np\n",
        "import pandas as pd\n",
        "import seaborn as sns\n",
        "import matplotlib.pyplot as plt\n",
        "import scipy.stats as ss\n",
        "\n",
        "%matplotlib inline\n",
        "import sklearn\n",
        "from sklearn.model_selection import train_test_split\n",
        "from sklearn.preprocessing import MinMaxScaler\n",
        "\n",
        "from sklearn.feature_selection import RFE\n",
        "from sklearn.linear_model import LinearRegression\n",
        "\n",
        "import statsmodels.api as sm\n",
        "from statsmodels.stats.outliers_influence import variance_inflation_factor\n",
        "\n",
        "from google.colab import drive\n",
        "drive.mount('/content/drive')"
      ],
      "metadata": {
        "id": "uplRcN7Zssfw",
        "colab": {
          "base_uri": "https://localhost:8080/"
        },
        "outputId": "e6115b8d-d0a4-45dc-cd8b-9c529ac0d939"
      },
      "execution_count": 2,
      "outputs": [
        {
          "output_type": "stream",
          "name": "stdout",
          "text": [
            "Mounted at /content/drive\n"
          ]
        }
      ]
    },
    {
      "cell_type": "code",
      "source": [
        "import os\n",
        "os.chdir('/content/drive/My Drive/Colab Notebooks/lead_scoring')"
      ],
      "metadata": {
        "id": "-VGd6GCSsyj3"
      },
      "execution_count": 3,
      "outputs": []
    },
    {
      "cell_type": "markdown",
      "source": [
        "**Step-1: CREATING DATA FRAME**"
      ],
      "metadata": {
        "id": "AbN6uUECs281"
      }
    },
    {
      "cell_type": "code",
      "source": [
        "ls=pd.read_csv('Leads.csv')"
      ],
      "metadata": {
        "id": "ssCcPMxAvbh4"
      },
      "execution_count": 4,
      "outputs": []
    },
    {
      "cell_type": "code",
      "source": [
        "ls.head()"
      ],
      "metadata": {
        "colab": {
          "base_uri": "https://localhost:8080/",
          "height": 629
        },
        "id": "Y-Ew_7N5x-Tm",
        "outputId": "7b79cd0a-d0d8-4813-f46f-d73ede090687"
      },
      "execution_count": 5,
      "outputs": [
        {
          "output_type": "execute_result",
          "data": {
            "text/plain": [
              "                            Prospect ID  Lead Number              Lead Origin  \\\n",
              "0  7927b2df-8bba-4d29-b9a2-b6e0beafe620       660737                      API   \n",
              "1  2a272436-5132-4136-86fa-dcc88c88f482       660728                      API   \n",
              "2  8cc8c611-a219-4f35-ad23-fdfd2656bd8a       660727  Landing Page Submission   \n",
              "3  0cc2df48-7cf4-4e39-9de9-19797f9b38cc       660719  Landing Page Submission   \n",
              "4  3256f628-e534-4826-9d63-4a8b88782852       660681  Landing Page Submission   \n",
              "\n",
              "      Lead Source Do Not Email Do Not Call  Converted  TotalVisits  \\\n",
              "0      Olark Chat           No          No          0          0.0   \n",
              "1  Organic Search           No          No          0          5.0   \n",
              "2  Direct Traffic           No          No          1          2.0   \n",
              "3  Direct Traffic           No          No          0          1.0   \n",
              "4          Google           No          No          1          2.0   \n",
              "\n",
              "   Total Time Spent on Website  Page Views Per Visit  ...  \\\n",
              "0                            0                   0.0  ...   \n",
              "1                          674                   2.5  ...   \n",
              "2                         1532                   2.0  ...   \n",
              "3                          305                   1.0  ...   \n",
              "4                         1428                   1.0  ...   \n",
              "\n",
              "  Get updates on DM Content    Lead Profile    City  \\\n",
              "0                        No          Select  Select   \n",
              "1                        No          Select  Select   \n",
              "2                        No  Potential Lead  Mumbai   \n",
              "3                        No          Select  Mumbai   \n",
              "4                        No          Select  Mumbai   \n",
              "\n",
              "  Asymmetrique Activity Index Asymmetrique Profile Index  \\\n",
              "0                   02.Medium                  02.Medium   \n",
              "1                   02.Medium                  02.Medium   \n",
              "2                   02.Medium                    01.High   \n",
              "3                   02.Medium                    01.High   \n",
              "4                   02.Medium                    01.High   \n",
              "\n",
              "  Asymmetrique Activity Score Asymmetrique Profile Score  \\\n",
              "0                        15.0                       15.0   \n",
              "1                        15.0                       15.0   \n",
              "2                        14.0                       20.0   \n",
              "3                        13.0                       17.0   \n",
              "4                        15.0                       18.0   \n",
              "\n",
              "  I agree to pay the amount through cheque  \\\n",
              "0                                       No   \n",
              "1                                       No   \n",
              "2                                       No   \n",
              "3                                       No   \n",
              "4                                       No   \n",
              "\n",
              "  A free copy of Mastering The Interview Last Notable Activity  \n",
              "0                                     No              Modified  \n",
              "1                                     No          Email Opened  \n",
              "2                                    Yes          Email Opened  \n",
              "3                                     No              Modified  \n",
              "4                                     No              Modified  \n",
              "\n",
              "[5 rows x 37 columns]"
            ],
            "text/html": [
              "\n",
              "  <div id=\"df-e1f77815-4e26-41dc-8d30-0cd087432faa\">\n",
              "    <div class=\"colab-df-container\">\n",
              "      <div>\n",
              "<style scoped>\n",
              "    .dataframe tbody tr th:only-of-type {\n",
              "        vertical-align: middle;\n",
              "    }\n",
              "\n",
              "    .dataframe tbody tr th {\n",
              "        vertical-align: top;\n",
              "    }\n",
              "\n",
              "    .dataframe thead th {\n",
              "        text-align: right;\n",
              "    }\n",
              "</style>\n",
              "<table border=\"1\" class=\"dataframe\">\n",
              "  <thead>\n",
              "    <tr style=\"text-align: right;\">\n",
              "      <th></th>\n",
              "      <th>Prospect ID</th>\n",
              "      <th>Lead Number</th>\n",
              "      <th>Lead Origin</th>\n",
              "      <th>Lead Source</th>\n",
              "      <th>Do Not Email</th>\n",
              "      <th>Do Not Call</th>\n",
              "      <th>Converted</th>\n",
              "      <th>TotalVisits</th>\n",
              "      <th>Total Time Spent on Website</th>\n",
              "      <th>Page Views Per Visit</th>\n",
              "      <th>...</th>\n",
              "      <th>Get updates on DM Content</th>\n",
              "      <th>Lead Profile</th>\n",
              "      <th>City</th>\n",
              "      <th>Asymmetrique Activity Index</th>\n",
              "      <th>Asymmetrique Profile Index</th>\n",
              "      <th>Asymmetrique Activity Score</th>\n",
              "      <th>Asymmetrique Profile Score</th>\n",
              "      <th>I agree to pay the amount through cheque</th>\n",
              "      <th>A free copy of Mastering The Interview</th>\n",
              "      <th>Last Notable Activity</th>\n",
              "    </tr>\n",
              "  </thead>\n",
              "  <tbody>\n",
              "    <tr>\n",
              "      <th>0</th>\n",
              "      <td>7927b2df-8bba-4d29-b9a2-b6e0beafe620</td>\n",
              "      <td>660737</td>\n",
              "      <td>API</td>\n",
              "      <td>Olark Chat</td>\n",
              "      <td>No</td>\n",
              "      <td>No</td>\n",
              "      <td>0</td>\n",
              "      <td>0.0</td>\n",
              "      <td>0</td>\n",
              "      <td>0.0</td>\n",
              "      <td>...</td>\n",
              "      <td>No</td>\n",
              "      <td>Select</td>\n",
              "      <td>Select</td>\n",
              "      <td>02.Medium</td>\n",
              "      <td>02.Medium</td>\n",
              "      <td>15.0</td>\n",
              "      <td>15.0</td>\n",
              "      <td>No</td>\n",
              "      <td>No</td>\n",
              "      <td>Modified</td>\n",
              "    </tr>\n",
              "    <tr>\n",
              "      <th>1</th>\n",
              "      <td>2a272436-5132-4136-86fa-dcc88c88f482</td>\n",
              "      <td>660728</td>\n",
              "      <td>API</td>\n",
              "      <td>Organic Search</td>\n",
              "      <td>No</td>\n",
              "      <td>No</td>\n",
              "      <td>0</td>\n",
              "      <td>5.0</td>\n",
              "      <td>674</td>\n",
              "      <td>2.5</td>\n",
              "      <td>...</td>\n",
              "      <td>No</td>\n",
              "      <td>Select</td>\n",
              "      <td>Select</td>\n",
              "      <td>02.Medium</td>\n",
              "      <td>02.Medium</td>\n",
              "      <td>15.0</td>\n",
              "      <td>15.0</td>\n",
              "      <td>No</td>\n",
              "      <td>No</td>\n",
              "      <td>Email Opened</td>\n",
              "    </tr>\n",
              "    <tr>\n",
              "      <th>2</th>\n",
              "      <td>8cc8c611-a219-4f35-ad23-fdfd2656bd8a</td>\n",
              "      <td>660727</td>\n",
              "      <td>Landing Page Submission</td>\n",
              "      <td>Direct Traffic</td>\n",
              "      <td>No</td>\n",
              "      <td>No</td>\n",
              "      <td>1</td>\n",
              "      <td>2.0</td>\n",
              "      <td>1532</td>\n",
              "      <td>2.0</td>\n",
              "      <td>...</td>\n",
              "      <td>No</td>\n",
              "      <td>Potential Lead</td>\n",
              "      <td>Mumbai</td>\n",
              "      <td>02.Medium</td>\n",
              "      <td>01.High</td>\n",
              "      <td>14.0</td>\n",
              "      <td>20.0</td>\n",
              "      <td>No</td>\n",
              "      <td>Yes</td>\n",
              "      <td>Email Opened</td>\n",
              "    </tr>\n",
              "    <tr>\n",
              "      <th>3</th>\n",
              "      <td>0cc2df48-7cf4-4e39-9de9-19797f9b38cc</td>\n",
              "      <td>660719</td>\n",
              "      <td>Landing Page Submission</td>\n",
              "      <td>Direct Traffic</td>\n",
              "      <td>No</td>\n",
              "      <td>No</td>\n",
              "      <td>0</td>\n",
              "      <td>1.0</td>\n",
              "      <td>305</td>\n",
              "      <td>1.0</td>\n",
              "      <td>...</td>\n",
              "      <td>No</td>\n",
              "      <td>Select</td>\n",
              "      <td>Mumbai</td>\n",
              "      <td>02.Medium</td>\n",
              "      <td>01.High</td>\n",
              "      <td>13.0</td>\n",
              "      <td>17.0</td>\n",
              "      <td>No</td>\n",
              "      <td>No</td>\n",
              "      <td>Modified</td>\n",
              "    </tr>\n",
              "    <tr>\n",
              "      <th>4</th>\n",
              "      <td>3256f628-e534-4826-9d63-4a8b88782852</td>\n",
              "      <td>660681</td>\n",
              "      <td>Landing Page Submission</td>\n",
              "      <td>Google</td>\n",
              "      <td>No</td>\n",
              "      <td>No</td>\n",
              "      <td>1</td>\n",
              "      <td>2.0</td>\n",
              "      <td>1428</td>\n",
              "      <td>1.0</td>\n",
              "      <td>...</td>\n",
              "      <td>No</td>\n",
              "      <td>Select</td>\n",
              "      <td>Mumbai</td>\n",
              "      <td>02.Medium</td>\n",
              "      <td>01.High</td>\n",
              "      <td>15.0</td>\n",
              "      <td>18.0</td>\n",
              "      <td>No</td>\n",
              "      <td>No</td>\n",
              "      <td>Modified</td>\n",
              "    </tr>\n",
              "  </tbody>\n",
              "</table>\n",
              "<p>5 rows × 37 columns</p>\n",
              "</div>\n",
              "      <button class=\"colab-df-convert\" onclick=\"convertToInteractive('df-e1f77815-4e26-41dc-8d30-0cd087432faa')\"\n",
              "              title=\"Convert this dataframe to an interactive table.\"\n",
              "              style=\"display:none;\">\n",
              "        \n",
              "  <svg xmlns=\"http://www.w3.org/2000/svg\" height=\"24px\"viewBox=\"0 0 24 24\"\n",
              "       width=\"24px\">\n",
              "    <path d=\"M0 0h24v24H0V0z\" fill=\"none\"/>\n",
              "    <path d=\"M18.56 5.44l.94 2.06.94-2.06 2.06-.94-2.06-.94-.94-2.06-.94 2.06-2.06.94zm-11 1L8.5 8.5l.94-2.06 2.06-.94-2.06-.94L8.5 2.5l-.94 2.06-2.06.94zm10 10l.94 2.06.94-2.06 2.06-.94-2.06-.94-.94-2.06-.94 2.06-2.06.94z\"/><path d=\"M17.41 7.96l-1.37-1.37c-.4-.4-.92-.59-1.43-.59-.52 0-1.04.2-1.43.59L10.3 9.45l-7.72 7.72c-.78.78-.78 2.05 0 2.83L4 21.41c.39.39.9.59 1.41.59.51 0 1.02-.2 1.41-.59l7.78-7.78 2.81-2.81c.8-.78.8-2.07 0-2.86zM5.41 20L4 18.59l7.72-7.72 1.47 1.35L5.41 20z\"/>\n",
              "  </svg>\n",
              "      </button>\n",
              "      \n",
              "  <style>\n",
              "    .colab-df-container {\n",
              "      display:flex;\n",
              "      flex-wrap:wrap;\n",
              "      gap: 12px;\n",
              "    }\n",
              "\n",
              "    .colab-df-convert {\n",
              "      background-color: #E8F0FE;\n",
              "      border: none;\n",
              "      border-radius: 50%;\n",
              "      cursor: pointer;\n",
              "      display: none;\n",
              "      fill: #1967D2;\n",
              "      height: 32px;\n",
              "      padding: 0 0 0 0;\n",
              "      width: 32px;\n",
              "    }\n",
              "\n",
              "    .colab-df-convert:hover {\n",
              "      background-color: #E2EBFA;\n",
              "      box-shadow: 0px 1px 2px rgba(60, 64, 67, 0.3), 0px 1px 3px 1px rgba(60, 64, 67, 0.15);\n",
              "      fill: #174EA6;\n",
              "    }\n",
              "\n",
              "    [theme=dark] .colab-df-convert {\n",
              "      background-color: #3B4455;\n",
              "      fill: #D2E3FC;\n",
              "    }\n",
              "\n",
              "    [theme=dark] .colab-df-convert:hover {\n",
              "      background-color: #434B5C;\n",
              "      box-shadow: 0px 1px 3px 1px rgba(0, 0, 0, 0.15);\n",
              "      filter: drop-shadow(0px 1px 2px rgba(0, 0, 0, 0.3));\n",
              "      fill: #FFFFFF;\n",
              "    }\n",
              "  </style>\n",
              "\n",
              "      <script>\n",
              "        const buttonEl =\n",
              "          document.querySelector('#df-e1f77815-4e26-41dc-8d30-0cd087432faa button.colab-df-convert');\n",
              "        buttonEl.style.display =\n",
              "          google.colab.kernel.accessAllowed ? 'block' : 'none';\n",
              "\n",
              "        async function convertToInteractive(key) {\n",
              "          const element = document.querySelector('#df-e1f77815-4e26-41dc-8d30-0cd087432faa');\n",
              "          const dataTable =\n",
              "            await google.colab.kernel.invokeFunction('convertToInteractive',\n",
              "                                                     [key], {});\n",
              "          if (!dataTable) return;\n",
              "\n",
              "          const docLinkHtml = 'Like what you see? Visit the ' +\n",
              "            '<a target=\"_blank\" href=https://colab.research.google.com/notebooks/data_table.ipynb>data table notebook</a>'\n",
              "            + ' to learn more about interactive tables.';\n",
              "          element.innerHTML = '';\n",
              "          dataTable['output_type'] = 'display_data';\n",
              "          await google.colab.output.renderOutput(dataTable, element);\n",
              "          const docLink = document.createElement('div');\n",
              "          docLink.innerHTML = docLinkHtml;\n",
              "          element.appendChild(docLink);\n",
              "        }\n",
              "      </script>\n",
              "    </div>\n",
              "  </div>\n",
              "  "
            ]
          },
          "metadata": {},
          "execution_count": 5
        }
      ]
    },
    {
      "cell_type": "code",
      "source": [
        "ls.shape"
      ],
      "metadata": {
        "colab": {
          "base_uri": "https://localhost:8080/"
        },
        "id": "-7mA-0MAyGOB",
        "outputId": "cebdf535-f19f-43f0-b5b5-9e84fe69cf84"
      },
      "execution_count": 6,
      "outputs": [
        {
          "output_type": "execute_result",
          "data": {
            "text/plain": [
              "(9240, 37)"
            ]
          },
          "metadata": {},
          "execution_count": 6
        }
      ]
    },
    {
      "cell_type": "code",
      "source": [
        "ls.describe()"
      ],
      "metadata": {
        "colab": {
          "base_uri": "https://localhost:8080/",
          "height": 300
        },
        "id": "l0apAYB4yl9X",
        "outputId": "77c33774-3004-4b1a-bf69-f5ccfc114dc5"
      },
      "execution_count": 7,
      "outputs": [
        {
          "output_type": "execute_result",
          "data": {
            "text/plain": [
              "         Lead Number    Converted  TotalVisits  Total Time Spent on Website  \\\n",
              "count    9240.000000  9240.000000  9103.000000                  9240.000000   \n",
              "mean   617188.435606     0.385390     3.445238                   487.698268   \n",
              "std     23405.995698     0.486714     4.854853                   548.021466   \n",
              "min    579533.000000     0.000000     0.000000                     0.000000   \n",
              "25%    596484.500000     0.000000     1.000000                    12.000000   \n",
              "50%    615479.000000     0.000000     3.000000                   248.000000   \n",
              "75%    637387.250000     1.000000     5.000000                   936.000000   \n",
              "max    660737.000000     1.000000   251.000000                  2272.000000   \n",
              "\n",
              "       Page Views Per Visit  Asymmetrique Activity Score  \\\n",
              "count           9103.000000                  5022.000000   \n",
              "mean               2.362820                    14.306252   \n",
              "std                2.161418                     1.386694   \n",
              "min                0.000000                     7.000000   \n",
              "25%                1.000000                    14.000000   \n",
              "50%                2.000000                    14.000000   \n",
              "75%                3.000000                    15.000000   \n",
              "max               55.000000                    18.000000   \n",
              "\n",
              "       Asymmetrique Profile Score  \n",
              "count                 5022.000000  \n",
              "mean                    16.344883  \n",
              "std                      1.811395  \n",
              "min                     11.000000  \n",
              "25%                     15.000000  \n",
              "50%                     16.000000  \n",
              "75%                     18.000000  \n",
              "max                     20.000000  "
            ],
            "text/html": [
              "\n",
              "  <div id=\"df-d5f8f8c9-6aeb-4404-8dc0-f5b9adba435f\">\n",
              "    <div class=\"colab-df-container\">\n",
              "      <div>\n",
              "<style scoped>\n",
              "    .dataframe tbody tr th:only-of-type {\n",
              "        vertical-align: middle;\n",
              "    }\n",
              "\n",
              "    .dataframe tbody tr th {\n",
              "        vertical-align: top;\n",
              "    }\n",
              "\n",
              "    .dataframe thead th {\n",
              "        text-align: right;\n",
              "    }\n",
              "</style>\n",
              "<table border=\"1\" class=\"dataframe\">\n",
              "  <thead>\n",
              "    <tr style=\"text-align: right;\">\n",
              "      <th></th>\n",
              "      <th>Lead Number</th>\n",
              "      <th>Converted</th>\n",
              "      <th>TotalVisits</th>\n",
              "      <th>Total Time Spent on Website</th>\n",
              "      <th>Page Views Per Visit</th>\n",
              "      <th>Asymmetrique Activity Score</th>\n",
              "      <th>Asymmetrique Profile Score</th>\n",
              "    </tr>\n",
              "  </thead>\n",
              "  <tbody>\n",
              "    <tr>\n",
              "      <th>count</th>\n",
              "      <td>9240.000000</td>\n",
              "      <td>9240.000000</td>\n",
              "      <td>9103.000000</td>\n",
              "      <td>9240.000000</td>\n",
              "      <td>9103.000000</td>\n",
              "      <td>5022.000000</td>\n",
              "      <td>5022.000000</td>\n",
              "    </tr>\n",
              "    <tr>\n",
              "      <th>mean</th>\n",
              "      <td>617188.435606</td>\n",
              "      <td>0.385390</td>\n",
              "      <td>3.445238</td>\n",
              "      <td>487.698268</td>\n",
              "      <td>2.362820</td>\n",
              "      <td>14.306252</td>\n",
              "      <td>16.344883</td>\n",
              "    </tr>\n",
              "    <tr>\n",
              "      <th>std</th>\n",
              "      <td>23405.995698</td>\n",
              "      <td>0.486714</td>\n",
              "      <td>4.854853</td>\n",
              "      <td>548.021466</td>\n",
              "      <td>2.161418</td>\n",
              "      <td>1.386694</td>\n",
              "      <td>1.811395</td>\n",
              "    </tr>\n",
              "    <tr>\n",
              "      <th>min</th>\n",
              "      <td>579533.000000</td>\n",
              "      <td>0.000000</td>\n",
              "      <td>0.000000</td>\n",
              "      <td>0.000000</td>\n",
              "      <td>0.000000</td>\n",
              "      <td>7.000000</td>\n",
              "      <td>11.000000</td>\n",
              "    </tr>\n",
              "    <tr>\n",
              "      <th>25%</th>\n",
              "      <td>596484.500000</td>\n",
              "      <td>0.000000</td>\n",
              "      <td>1.000000</td>\n",
              "      <td>12.000000</td>\n",
              "      <td>1.000000</td>\n",
              "      <td>14.000000</td>\n",
              "      <td>15.000000</td>\n",
              "    </tr>\n",
              "    <tr>\n",
              "      <th>50%</th>\n",
              "      <td>615479.000000</td>\n",
              "      <td>0.000000</td>\n",
              "      <td>3.000000</td>\n",
              "      <td>248.000000</td>\n",
              "      <td>2.000000</td>\n",
              "      <td>14.000000</td>\n",
              "      <td>16.000000</td>\n",
              "    </tr>\n",
              "    <tr>\n",
              "      <th>75%</th>\n",
              "      <td>637387.250000</td>\n",
              "      <td>1.000000</td>\n",
              "      <td>5.000000</td>\n",
              "      <td>936.000000</td>\n",
              "      <td>3.000000</td>\n",
              "      <td>15.000000</td>\n",
              "      <td>18.000000</td>\n",
              "    </tr>\n",
              "    <tr>\n",
              "      <th>max</th>\n",
              "      <td>660737.000000</td>\n",
              "      <td>1.000000</td>\n",
              "      <td>251.000000</td>\n",
              "      <td>2272.000000</td>\n",
              "      <td>55.000000</td>\n",
              "      <td>18.000000</td>\n",
              "      <td>20.000000</td>\n",
              "    </tr>\n",
              "  </tbody>\n",
              "</table>\n",
              "</div>\n",
              "      <button class=\"colab-df-convert\" onclick=\"convertToInteractive('df-d5f8f8c9-6aeb-4404-8dc0-f5b9adba435f')\"\n",
              "              title=\"Convert this dataframe to an interactive table.\"\n",
              "              style=\"display:none;\">\n",
              "        \n",
              "  <svg xmlns=\"http://www.w3.org/2000/svg\" height=\"24px\"viewBox=\"0 0 24 24\"\n",
              "       width=\"24px\">\n",
              "    <path d=\"M0 0h24v24H0V0z\" fill=\"none\"/>\n",
              "    <path d=\"M18.56 5.44l.94 2.06.94-2.06 2.06-.94-2.06-.94-.94-2.06-.94 2.06-2.06.94zm-11 1L8.5 8.5l.94-2.06 2.06-.94-2.06-.94L8.5 2.5l-.94 2.06-2.06.94zm10 10l.94 2.06.94-2.06 2.06-.94-2.06-.94-.94-2.06-.94 2.06-2.06.94z\"/><path d=\"M17.41 7.96l-1.37-1.37c-.4-.4-.92-.59-1.43-.59-.52 0-1.04.2-1.43.59L10.3 9.45l-7.72 7.72c-.78.78-.78 2.05 0 2.83L4 21.41c.39.39.9.59 1.41.59.51 0 1.02-.2 1.41-.59l7.78-7.78 2.81-2.81c.8-.78.8-2.07 0-2.86zM5.41 20L4 18.59l7.72-7.72 1.47 1.35L5.41 20z\"/>\n",
              "  </svg>\n",
              "      </button>\n",
              "      \n",
              "  <style>\n",
              "    .colab-df-container {\n",
              "      display:flex;\n",
              "      flex-wrap:wrap;\n",
              "      gap: 12px;\n",
              "    }\n",
              "\n",
              "    .colab-df-convert {\n",
              "      background-color: #E8F0FE;\n",
              "      border: none;\n",
              "      border-radius: 50%;\n",
              "      cursor: pointer;\n",
              "      display: none;\n",
              "      fill: #1967D2;\n",
              "      height: 32px;\n",
              "      padding: 0 0 0 0;\n",
              "      width: 32px;\n",
              "    }\n",
              "\n",
              "    .colab-df-convert:hover {\n",
              "      background-color: #E2EBFA;\n",
              "      box-shadow: 0px 1px 2px rgba(60, 64, 67, 0.3), 0px 1px 3px 1px rgba(60, 64, 67, 0.15);\n",
              "      fill: #174EA6;\n",
              "    }\n",
              "\n",
              "    [theme=dark] .colab-df-convert {\n",
              "      background-color: #3B4455;\n",
              "      fill: #D2E3FC;\n",
              "    }\n",
              "\n",
              "    [theme=dark] .colab-df-convert:hover {\n",
              "      background-color: #434B5C;\n",
              "      box-shadow: 0px 1px 3px 1px rgba(0, 0, 0, 0.15);\n",
              "      filter: drop-shadow(0px 1px 2px rgba(0, 0, 0, 0.3));\n",
              "      fill: #FFFFFF;\n",
              "    }\n",
              "  </style>\n",
              "\n",
              "      <script>\n",
              "        const buttonEl =\n",
              "          document.querySelector('#df-d5f8f8c9-6aeb-4404-8dc0-f5b9adba435f button.colab-df-convert');\n",
              "        buttonEl.style.display =\n",
              "          google.colab.kernel.accessAllowed ? 'block' : 'none';\n",
              "\n",
              "        async function convertToInteractive(key) {\n",
              "          const element = document.querySelector('#df-d5f8f8c9-6aeb-4404-8dc0-f5b9adba435f');\n",
              "          const dataTable =\n",
              "            await google.colab.kernel.invokeFunction('convertToInteractive',\n",
              "                                                     [key], {});\n",
              "          if (!dataTable) return;\n",
              "\n",
              "          const docLinkHtml = 'Like what you see? Visit the ' +\n",
              "            '<a target=\"_blank\" href=https://colab.research.google.com/notebooks/data_table.ipynb>data table notebook</a>'\n",
              "            + ' to learn more about interactive tables.';\n",
              "          element.innerHTML = '';\n",
              "          dataTable['output_type'] = 'display_data';\n",
              "          await google.colab.output.renderOutput(dataTable, element);\n",
              "          const docLink = document.createElement('div');\n",
              "          docLink.innerHTML = docLinkHtml;\n",
              "          element.appendChild(docLink);\n",
              "        }\n",
              "      </script>\n",
              "    </div>\n",
              "  </div>\n",
              "  "
            ]
          },
          "metadata": {},
          "execution_count": 7
        }
      ]
    },
    {
      "cell_type": "code",
      "source": [
        "ls.info()"
      ],
      "metadata": {
        "colab": {
          "base_uri": "https://localhost:8080/"
        },
        "id": "mt5KZkqKy7yK",
        "outputId": "0876c54d-b0e9-4b49-9b54-023b9d39d7d8"
      },
      "execution_count": 8,
      "outputs": [
        {
          "output_type": "stream",
          "name": "stdout",
          "text": [
            "<class 'pandas.core.frame.DataFrame'>\n",
            "RangeIndex: 9240 entries, 0 to 9239\n",
            "Data columns (total 37 columns):\n",
            " #   Column                                         Non-Null Count  Dtype  \n",
            "---  ------                                         --------------  -----  \n",
            " 0   Prospect ID                                    9240 non-null   object \n",
            " 1   Lead Number                                    9240 non-null   int64  \n",
            " 2   Lead Origin                                    9240 non-null   object \n",
            " 3   Lead Source                                    9204 non-null   object \n",
            " 4   Do Not Email                                   9240 non-null   object \n",
            " 5   Do Not Call                                    9240 non-null   object \n",
            " 6   Converted                                      9240 non-null   int64  \n",
            " 7   TotalVisits                                    9103 non-null   float64\n",
            " 8   Total Time Spent on Website                    9240 non-null   int64  \n",
            " 9   Page Views Per Visit                           9103 non-null   float64\n",
            " 10  Last Activity                                  9137 non-null   object \n",
            " 11  Country                                        6779 non-null   object \n",
            " 12  Specialization                                 7802 non-null   object \n",
            " 13  How did you hear about X Education             7033 non-null   object \n",
            " 14  What is your current occupation                6550 non-null   object \n",
            " 15  What matters most to you in choosing a course  6531 non-null   object \n",
            " 16  Search                                         9240 non-null   object \n",
            " 17  Magazine                                       9240 non-null   object \n",
            " 18  Newspaper Article                              9240 non-null   object \n",
            " 19  X Education Forums                             9240 non-null   object \n",
            " 20  Newspaper                                      9240 non-null   object \n",
            " 21  Digital Advertisement                          9240 non-null   object \n",
            " 22  Through Recommendations                        9240 non-null   object \n",
            " 23  Receive More Updates About Our Courses         9240 non-null   object \n",
            " 24  Tags                                           5887 non-null   object \n",
            " 25  Lead Quality                                   4473 non-null   object \n",
            " 26  Update me on Supply Chain Content              9240 non-null   object \n",
            " 27  Get updates on DM Content                      9240 non-null   object \n",
            " 28  Lead Profile                                   6531 non-null   object \n",
            " 29  City                                           7820 non-null   object \n",
            " 30  Asymmetrique Activity Index                    5022 non-null   object \n",
            " 31  Asymmetrique Profile Index                     5022 non-null   object \n",
            " 32  Asymmetrique Activity Score                    5022 non-null   float64\n",
            " 33  Asymmetrique Profile Score                     5022 non-null   float64\n",
            " 34  I agree to pay the amount through cheque       9240 non-null   object \n",
            " 35  A free copy of Mastering The Interview         9240 non-null   object \n",
            " 36  Last Notable Activity                          9240 non-null   object \n",
            "dtypes: float64(4), int64(3), object(30)\n",
            "memory usage: 2.6+ MB\n"
          ]
        }
      ]
    },
    {
      "cell_type": "code",
      "source": [
        "ls[ls.duplicated()==True]"
      ],
      "metadata": {
        "colab": {
          "base_uri": "https://localhost:8080/",
          "height": 230
        },
        "id": "5uGSAhbY_BNX",
        "outputId": "038148c0-8ae2-4ed1-9fb5-9c2d488de9be"
      },
      "execution_count": 9,
      "outputs": [
        {
          "output_type": "execute_result",
          "data": {
            "text/plain": [
              "Empty DataFrame\n",
              "Columns: [Prospect ID, Lead Number, Lead Origin, Lead Source, Do Not Email, Do Not Call, Converted, TotalVisits, Total Time Spent on Website, Page Views Per Visit, Last Activity, Country, Specialization, How did you hear about X Education, What is your current occupation, What matters most to you in choosing a course, Search, Magazine, Newspaper Article, X Education Forums, Newspaper, Digital Advertisement, Through Recommendations, Receive More Updates About Our Courses, Tags, Lead Quality, Update me on Supply Chain Content, Get updates on DM Content, Lead Profile, City, Asymmetrique Activity Index, Asymmetrique Profile Index, Asymmetrique Activity Score, Asymmetrique Profile Score, I agree to pay the amount through cheque, A free copy of Mastering The Interview, Last Notable Activity]\n",
              "Index: []\n",
              "\n",
              "[0 rows x 37 columns]"
            ],
            "text/html": [
              "\n",
              "  <div id=\"df-40edca4f-6eea-4901-bf9e-c9a6abe14009\">\n",
              "    <div class=\"colab-df-container\">\n",
              "      <div>\n",
              "<style scoped>\n",
              "    .dataframe tbody tr th:only-of-type {\n",
              "        vertical-align: middle;\n",
              "    }\n",
              "\n",
              "    .dataframe tbody tr th {\n",
              "        vertical-align: top;\n",
              "    }\n",
              "\n",
              "    .dataframe thead th {\n",
              "        text-align: right;\n",
              "    }\n",
              "</style>\n",
              "<table border=\"1\" class=\"dataframe\">\n",
              "  <thead>\n",
              "    <tr style=\"text-align: right;\">\n",
              "      <th></th>\n",
              "      <th>Prospect ID</th>\n",
              "      <th>Lead Number</th>\n",
              "      <th>Lead Origin</th>\n",
              "      <th>Lead Source</th>\n",
              "      <th>Do Not Email</th>\n",
              "      <th>Do Not Call</th>\n",
              "      <th>Converted</th>\n",
              "      <th>TotalVisits</th>\n",
              "      <th>Total Time Spent on Website</th>\n",
              "      <th>Page Views Per Visit</th>\n",
              "      <th>...</th>\n",
              "      <th>Get updates on DM Content</th>\n",
              "      <th>Lead Profile</th>\n",
              "      <th>City</th>\n",
              "      <th>Asymmetrique Activity Index</th>\n",
              "      <th>Asymmetrique Profile Index</th>\n",
              "      <th>Asymmetrique Activity Score</th>\n",
              "      <th>Asymmetrique Profile Score</th>\n",
              "      <th>I agree to pay the amount through cheque</th>\n",
              "      <th>A free copy of Mastering The Interview</th>\n",
              "      <th>Last Notable Activity</th>\n",
              "    </tr>\n",
              "  </thead>\n",
              "  <tbody>\n",
              "  </tbody>\n",
              "</table>\n",
              "<p>0 rows × 37 columns</p>\n",
              "</div>\n",
              "      <button class=\"colab-df-convert\" onclick=\"convertToInteractive('df-40edca4f-6eea-4901-bf9e-c9a6abe14009')\"\n",
              "              title=\"Convert this dataframe to an interactive table.\"\n",
              "              style=\"display:none;\">\n",
              "        \n",
              "  <svg xmlns=\"http://www.w3.org/2000/svg\" height=\"24px\"viewBox=\"0 0 24 24\"\n",
              "       width=\"24px\">\n",
              "    <path d=\"M0 0h24v24H0V0z\" fill=\"none\"/>\n",
              "    <path d=\"M18.56 5.44l.94 2.06.94-2.06 2.06-.94-2.06-.94-.94-2.06-.94 2.06-2.06.94zm-11 1L8.5 8.5l.94-2.06 2.06-.94-2.06-.94L8.5 2.5l-.94 2.06-2.06.94zm10 10l.94 2.06.94-2.06 2.06-.94-2.06-.94-.94-2.06-.94 2.06-2.06.94z\"/><path d=\"M17.41 7.96l-1.37-1.37c-.4-.4-.92-.59-1.43-.59-.52 0-1.04.2-1.43.59L10.3 9.45l-7.72 7.72c-.78.78-.78 2.05 0 2.83L4 21.41c.39.39.9.59 1.41.59.51 0 1.02-.2 1.41-.59l7.78-7.78 2.81-2.81c.8-.78.8-2.07 0-2.86zM5.41 20L4 18.59l7.72-7.72 1.47 1.35L5.41 20z\"/>\n",
              "  </svg>\n",
              "      </button>\n",
              "      \n",
              "  <style>\n",
              "    .colab-df-container {\n",
              "      display:flex;\n",
              "      flex-wrap:wrap;\n",
              "      gap: 12px;\n",
              "    }\n",
              "\n",
              "    .colab-df-convert {\n",
              "      background-color: #E8F0FE;\n",
              "      border: none;\n",
              "      border-radius: 50%;\n",
              "      cursor: pointer;\n",
              "      display: none;\n",
              "      fill: #1967D2;\n",
              "      height: 32px;\n",
              "      padding: 0 0 0 0;\n",
              "      width: 32px;\n",
              "    }\n",
              "\n",
              "    .colab-df-convert:hover {\n",
              "      background-color: #E2EBFA;\n",
              "      box-shadow: 0px 1px 2px rgba(60, 64, 67, 0.3), 0px 1px 3px 1px rgba(60, 64, 67, 0.15);\n",
              "      fill: #174EA6;\n",
              "    }\n",
              "\n",
              "    [theme=dark] .colab-df-convert {\n",
              "      background-color: #3B4455;\n",
              "      fill: #D2E3FC;\n",
              "    }\n",
              "\n",
              "    [theme=dark] .colab-df-convert:hover {\n",
              "      background-color: #434B5C;\n",
              "      box-shadow: 0px 1px 3px 1px rgba(0, 0, 0, 0.15);\n",
              "      filter: drop-shadow(0px 1px 2px rgba(0, 0, 0, 0.3));\n",
              "      fill: #FFFFFF;\n",
              "    }\n",
              "  </style>\n",
              "\n",
              "      <script>\n",
              "        const buttonEl =\n",
              "          document.querySelector('#df-40edca4f-6eea-4901-bf9e-c9a6abe14009 button.colab-df-convert');\n",
              "        buttonEl.style.display =\n",
              "          google.colab.kernel.accessAllowed ? 'block' : 'none';\n",
              "\n",
              "        async function convertToInteractive(key) {\n",
              "          const element = document.querySelector('#df-40edca4f-6eea-4901-bf9e-c9a6abe14009');\n",
              "          const dataTable =\n",
              "            await google.colab.kernel.invokeFunction('convertToInteractive',\n",
              "                                                     [key], {});\n",
              "          if (!dataTable) return;\n",
              "\n",
              "          const docLinkHtml = 'Like what you see? Visit the ' +\n",
              "            '<a target=\"_blank\" href=https://colab.research.google.com/notebooks/data_table.ipynb>data table notebook</a>'\n",
              "            + ' to learn more about interactive tables.';\n",
              "          element.innerHTML = '';\n",
              "          dataTable['output_type'] = 'display_data';\n",
              "          await google.colab.output.renderOutput(dataTable, element);\n",
              "          const docLink = document.createElement('div');\n",
              "          docLink.innerHTML = docLinkHtml;\n",
              "          element.appendChild(docLink);\n",
              "        }\n",
              "      </script>\n",
              "    </div>\n",
              "  </div>\n",
              "  "
            ]
          },
          "metadata": {},
          "execution_count": 9
        }
      ]
    },
    {
      "cell_type": "markdown",
      "source": [
        "There are no duplicates in the dataframe"
      ],
      "metadata": {
        "id": "0Wjb67W2_JPH"
      }
    },
    {
      "cell_type": "markdown",
      "source": [
        "**Step 2: DATA PREPARATION AND MISSING VALUES HANDLING**\n"
      ],
      "metadata": {
        "id": "7MaL8tqd_eIB"
      }
    },
    {
      "cell_type": "code",
      "source": [
        "ls.columns"
      ],
      "metadata": {
        "colab": {
          "base_uri": "https://localhost:8080/"
        },
        "id": "8918ikE7_xWn",
        "outputId": "491fba98-9708-4d1a-d06a-e3d8be695177"
      },
      "execution_count": 10,
      "outputs": [
        {
          "output_type": "execute_result",
          "data": {
            "text/plain": [
              "Index(['Prospect ID', 'Lead Number', 'Lead Origin', 'Lead Source',\n",
              "       'Do Not Email', 'Do Not Call', 'Converted', 'TotalVisits',\n",
              "       'Total Time Spent on Website', 'Page Views Per Visit', 'Last Activity',\n",
              "       'Country', 'Specialization', 'How did you hear about X Education',\n",
              "       'What is your current occupation',\n",
              "       'What matters most to you in choosing a course', 'Search', 'Magazine',\n",
              "       'Newspaper Article', 'X Education Forums', 'Newspaper',\n",
              "       'Digital Advertisement', 'Through Recommendations',\n",
              "       'Receive More Updates About Our Courses', 'Tags', 'Lead Quality',\n",
              "       'Update me on Supply Chain Content', 'Get updates on DM Content',\n",
              "       'Lead Profile', 'City', 'Asymmetrique Activity Index',\n",
              "       'Asymmetrique Profile Index', 'Asymmetrique Activity Score',\n",
              "       'Asymmetrique Profile Score',\n",
              "       'I agree to pay the amount through cheque',\n",
              "       'A free copy of Mastering The Interview', 'Last Notable Activity'],\n",
              "      dtype='object')"
            ]
          },
          "metadata": {},
          "execution_count": 10
        }
      ]
    },
    {
      "cell_type": "markdown",
      "source": [
        "Dropping Prospect ID and Lead Number because they are unique and we already have index column to do the same"
      ],
      "metadata": {
        "id": "B7oX_v3O_6C6"
      }
    },
    {
      "cell_type": "code",
      "source": [
        "ls.drop([\"Prospect ID\",\"Lead Number\"],axis=1,inplace=True)\n",
        "ls.head()"
      ],
      "metadata": {
        "colab": {
          "base_uri": "https://localhost:8080/",
          "height": 525
        },
        "id": "A5CiY7gj_jTk",
        "outputId": "fbca6da9-6297-45c6-cf76-0209cef41d30"
      },
      "execution_count": 11,
      "outputs": [
        {
          "output_type": "execute_result",
          "data": {
            "text/plain": [
              "               Lead Origin     Lead Source Do Not Email Do Not Call  \\\n",
              "0                      API      Olark Chat           No          No   \n",
              "1                      API  Organic Search           No          No   \n",
              "2  Landing Page Submission  Direct Traffic           No          No   \n",
              "3  Landing Page Submission  Direct Traffic           No          No   \n",
              "4  Landing Page Submission          Google           No          No   \n",
              "\n",
              "   Converted  TotalVisits  Total Time Spent on Website  Page Views Per Visit  \\\n",
              "0          0          0.0                            0                   0.0   \n",
              "1          0          5.0                          674                   2.5   \n",
              "2          1          2.0                         1532                   2.0   \n",
              "3          0          1.0                          305                   1.0   \n",
              "4          1          2.0                         1428                   1.0   \n",
              "\n",
              "             Last Activity Country  ... Get updates on DM Content  \\\n",
              "0  Page Visited on Website     NaN  ...                        No   \n",
              "1             Email Opened   India  ...                        No   \n",
              "2             Email Opened   India  ...                        No   \n",
              "3              Unreachable   India  ...                        No   \n",
              "4        Converted to Lead   India  ...                        No   \n",
              "\n",
              "     Lead Profile    City Asymmetrique Activity Index  \\\n",
              "0          Select  Select                   02.Medium   \n",
              "1          Select  Select                   02.Medium   \n",
              "2  Potential Lead  Mumbai                   02.Medium   \n",
              "3          Select  Mumbai                   02.Medium   \n",
              "4          Select  Mumbai                   02.Medium   \n",
              "\n",
              "  Asymmetrique Profile Index Asymmetrique Activity Score  \\\n",
              "0                  02.Medium                        15.0   \n",
              "1                  02.Medium                        15.0   \n",
              "2                    01.High                        14.0   \n",
              "3                    01.High                        13.0   \n",
              "4                    01.High                        15.0   \n",
              "\n",
              "  Asymmetrique Profile Score I agree to pay the amount through cheque  \\\n",
              "0                       15.0                                       No   \n",
              "1                       15.0                                       No   \n",
              "2                       20.0                                       No   \n",
              "3                       17.0                                       No   \n",
              "4                       18.0                                       No   \n",
              "\n",
              "  A free copy of Mastering The Interview Last Notable Activity  \n",
              "0                                     No              Modified  \n",
              "1                                     No          Email Opened  \n",
              "2                                    Yes          Email Opened  \n",
              "3                                     No              Modified  \n",
              "4                                     No              Modified  \n",
              "\n",
              "[5 rows x 35 columns]"
            ],
            "text/html": [
              "\n",
              "  <div id=\"df-f6e3b2c9-e106-495b-bf63-a617846fab88\">\n",
              "    <div class=\"colab-df-container\">\n",
              "      <div>\n",
              "<style scoped>\n",
              "    .dataframe tbody tr th:only-of-type {\n",
              "        vertical-align: middle;\n",
              "    }\n",
              "\n",
              "    .dataframe tbody tr th {\n",
              "        vertical-align: top;\n",
              "    }\n",
              "\n",
              "    .dataframe thead th {\n",
              "        text-align: right;\n",
              "    }\n",
              "</style>\n",
              "<table border=\"1\" class=\"dataframe\">\n",
              "  <thead>\n",
              "    <tr style=\"text-align: right;\">\n",
              "      <th></th>\n",
              "      <th>Lead Origin</th>\n",
              "      <th>Lead Source</th>\n",
              "      <th>Do Not Email</th>\n",
              "      <th>Do Not Call</th>\n",
              "      <th>Converted</th>\n",
              "      <th>TotalVisits</th>\n",
              "      <th>Total Time Spent on Website</th>\n",
              "      <th>Page Views Per Visit</th>\n",
              "      <th>Last Activity</th>\n",
              "      <th>Country</th>\n",
              "      <th>...</th>\n",
              "      <th>Get updates on DM Content</th>\n",
              "      <th>Lead Profile</th>\n",
              "      <th>City</th>\n",
              "      <th>Asymmetrique Activity Index</th>\n",
              "      <th>Asymmetrique Profile Index</th>\n",
              "      <th>Asymmetrique Activity Score</th>\n",
              "      <th>Asymmetrique Profile Score</th>\n",
              "      <th>I agree to pay the amount through cheque</th>\n",
              "      <th>A free copy of Mastering The Interview</th>\n",
              "      <th>Last Notable Activity</th>\n",
              "    </tr>\n",
              "  </thead>\n",
              "  <tbody>\n",
              "    <tr>\n",
              "      <th>0</th>\n",
              "      <td>API</td>\n",
              "      <td>Olark Chat</td>\n",
              "      <td>No</td>\n",
              "      <td>No</td>\n",
              "      <td>0</td>\n",
              "      <td>0.0</td>\n",
              "      <td>0</td>\n",
              "      <td>0.0</td>\n",
              "      <td>Page Visited on Website</td>\n",
              "      <td>NaN</td>\n",
              "      <td>...</td>\n",
              "      <td>No</td>\n",
              "      <td>Select</td>\n",
              "      <td>Select</td>\n",
              "      <td>02.Medium</td>\n",
              "      <td>02.Medium</td>\n",
              "      <td>15.0</td>\n",
              "      <td>15.0</td>\n",
              "      <td>No</td>\n",
              "      <td>No</td>\n",
              "      <td>Modified</td>\n",
              "    </tr>\n",
              "    <tr>\n",
              "      <th>1</th>\n",
              "      <td>API</td>\n",
              "      <td>Organic Search</td>\n",
              "      <td>No</td>\n",
              "      <td>No</td>\n",
              "      <td>0</td>\n",
              "      <td>5.0</td>\n",
              "      <td>674</td>\n",
              "      <td>2.5</td>\n",
              "      <td>Email Opened</td>\n",
              "      <td>India</td>\n",
              "      <td>...</td>\n",
              "      <td>No</td>\n",
              "      <td>Select</td>\n",
              "      <td>Select</td>\n",
              "      <td>02.Medium</td>\n",
              "      <td>02.Medium</td>\n",
              "      <td>15.0</td>\n",
              "      <td>15.0</td>\n",
              "      <td>No</td>\n",
              "      <td>No</td>\n",
              "      <td>Email Opened</td>\n",
              "    </tr>\n",
              "    <tr>\n",
              "      <th>2</th>\n",
              "      <td>Landing Page Submission</td>\n",
              "      <td>Direct Traffic</td>\n",
              "      <td>No</td>\n",
              "      <td>No</td>\n",
              "      <td>1</td>\n",
              "      <td>2.0</td>\n",
              "      <td>1532</td>\n",
              "      <td>2.0</td>\n",
              "      <td>Email Opened</td>\n",
              "      <td>India</td>\n",
              "      <td>...</td>\n",
              "      <td>No</td>\n",
              "      <td>Potential Lead</td>\n",
              "      <td>Mumbai</td>\n",
              "      <td>02.Medium</td>\n",
              "      <td>01.High</td>\n",
              "      <td>14.0</td>\n",
              "      <td>20.0</td>\n",
              "      <td>No</td>\n",
              "      <td>Yes</td>\n",
              "      <td>Email Opened</td>\n",
              "    </tr>\n",
              "    <tr>\n",
              "      <th>3</th>\n",
              "      <td>Landing Page Submission</td>\n",
              "      <td>Direct Traffic</td>\n",
              "      <td>No</td>\n",
              "      <td>No</td>\n",
              "      <td>0</td>\n",
              "      <td>1.0</td>\n",
              "      <td>305</td>\n",
              "      <td>1.0</td>\n",
              "      <td>Unreachable</td>\n",
              "      <td>India</td>\n",
              "      <td>...</td>\n",
              "      <td>No</td>\n",
              "      <td>Select</td>\n",
              "      <td>Mumbai</td>\n",
              "      <td>02.Medium</td>\n",
              "      <td>01.High</td>\n",
              "      <td>13.0</td>\n",
              "      <td>17.0</td>\n",
              "      <td>No</td>\n",
              "      <td>No</td>\n",
              "      <td>Modified</td>\n",
              "    </tr>\n",
              "    <tr>\n",
              "      <th>4</th>\n",
              "      <td>Landing Page Submission</td>\n",
              "      <td>Google</td>\n",
              "      <td>No</td>\n",
              "      <td>No</td>\n",
              "      <td>1</td>\n",
              "      <td>2.0</td>\n",
              "      <td>1428</td>\n",
              "      <td>1.0</td>\n",
              "      <td>Converted to Lead</td>\n",
              "      <td>India</td>\n",
              "      <td>...</td>\n",
              "      <td>No</td>\n",
              "      <td>Select</td>\n",
              "      <td>Mumbai</td>\n",
              "      <td>02.Medium</td>\n",
              "      <td>01.High</td>\n",
              "      <td>15.0</td>\n",
              "      <td>18.0</td>\n",
              "      <td>No</td>\n",
              "      <td>No</td>\n",
              "      <td>Modified</td>\n",
              "    </tr>\n",
              "  </tbody>\n",
              "</table>\n",
              "<p>5 rows × 35 columns</p>\n",
              "</div>\n",
              "      <button class=\"colab-df-convert\" onclick=\"convertToInteractive('df-f6e3b2c9-e106-495b-bf63-a617846fab88')\"\n",
              "              title=\"Convert this dataframe to an interactive table.\"\n",
              "              style=\"display:none;\">\n",
              "        \n",
              "  <svg xmlns=\"http://www.w3.org/2000/svg\" height=\"24px\"viewBox=\"0 0 24 24\"\n",
              "       width=\"24px\">\n",
              "    <path d=\"M0 0h24v24H0V0z\" fill=\"none\"/>\n",
              "    <path d=\"M18.56 5.44l.94 2.06.94-2.06 2.06-.94-2.06-.94-.94-2.06-.94 2.06-2.06.94zm-11 1L8.5 8.5l.94-2.06 2.06-.94-2.06-.94L8.5 2.5l-.94 2.06-2.06.94zm10 10l.94 2.06.94-2.06 2.06-.94-2.06-.94-.94-2.06-.94 2.06-2.06.94z\"/><path d=\"M17.41 7.96l-1.37-1.37c-.4-.4-.92-.59-1.43-.59-.52 0-1.04.2-1.43.59L10.3 9.45l-7.72 7.72c-.78.78-.78 2.05 0 2.83L4 21.41c.39.39.9.59 1.41.59.51 0 1.02-.2 1.41-.59l7.78-7.78 2.81-2.81c.8-.78.8-2.07 0-2.86zM5.41 20L4 18.59l7.72-7.72 1.47 1.35L5.41 20z\"/>\n",
              "  </svg>\n",
              "      </button>\n",
              "      \n",
              "  <style>\n",
              "    .colab-df-container {\n",
              "      display:flex;\n",
              "      flex-wrap:wrap;\n",
              "      gap: 12px;\n",
              "    }\n",
              "\n",
              "    .colab-df-convert {\n",
              "      background-color: #E8F0FE;\n",
              "      border: none;\n",
              "      border-radius: 50%;\n",
              "      cursor: pointer;\n",
              "      display: none;\n",
              "      fill: #1967D2;\n",
              "      height: 32px;\n",
              "      padding: 0 0 0 0;\n",
              "      width: 32px;\n",
              "    }\n",
              "\n",
              "    .colab-df-convert:hover {\n",
              "      background-color: #E2EBFA;\n",
              "      box-shadow: 0px 1px 2px rgba(60, 64, 67, 0.3), 0px 1px 3px 1px rgba(60, 64, 67, 0.15);\n",
              "      fill: #174EA6;\n",
              "    }\n",
              "\n",
              "    [theme=dark] .colab-df-convert {\n",
              "      background-color: #3B4455;\n",
              "      fill: #D2E3FC;\n",
              "    }\n",
              "\n",
              "    [theme=dark] .colab-df-convert:hover {\n",
              "      background-color: #434B5C;\n",
              "      box-shadow: 0px 1px 3px 1px rgba(0, 0, 0, 0.15);\n",
              "      filter: drop-shadow(0px 1px 2px rgba(0, 0, 0, 0.3));\n",
              "      fill: #FFFFFF;\n",
              "    }\n",
              "  </style>\n",
              "\n",
              "      <script>\n",
              "        const buttonEl =\n",
              "          document.querySelector('#df-f6e3b2c9-e106-495b-bf63-a617846fab88 button.colab-df-convert');\n",
              "        buttonEl.style.display =\n",
              "          google.colab.kernel.accessAllowed ? 'block' : 'none';\n",
              "\n",
              "        async function convertToInteractive(key) {\n",
              "          const element = document.querySelector('#df-f6e3b2c9-e106-495b-bf63-a617846fab88');\n",
              "          const dataTable =\n",
              "            await google.colab.kernel.invokeFunction('convertToInteractive',\n",
              "                                                     [key], {});\n",
              "          if (!dataTable) return;\n",
              "\n",
              "          const docLinkHtml = 'Like what you see? Visit the ' +\n",
              "            '<a target=\"_blank\" href=https://colab.research.google.com/notebooks/data_table.ipynb>data table notebook</a>'\n",
              "            + ' to learn more about interactive tables.';\n",
              "          element.innerHTML = '';\n",
              "          dataTable['output_type'] = 'display_data';\n",
              "          await google.colab.output.renderOutput(dataTable, element);\n",
              "          const docLink = document.createElement('div');\n",
              "          docLink.innerHTML = docLinkHtml;\n",
              "          element.appendChild(docLink);\n",
              "        }\n",
              "      </script>\n",
              "    </div>\n",
              "  </div>\n",
              "  "
            ]
          },
          "metadata": {},
          "execution_count": 11
        }
      ]
    },
    {
      "cell_type": "markdown",
      "source": [
        "Here we can find 'select' as values in many columns which are left without filling by the customers. So replacing those values with 'Nan'"
      ],
      "metadata": {
        "id": "cItRshTqBKM_"
      }
    },
    {
      "cell_type": "code",
      "source": [
        "ls.replace(\"Select\",np.NaN,inplace=True)\n",
        "ls.head()"
      ],
      "metadata": {
        "colab": {
          "base_uri": "https://localhost:8080/",
          "height": 525
        },
        "id": "VGFkpAXdBeYr",
        "outputId": "9dd4df55-82c3-4de3-95b6-2286ae449057"
      },
      "execution_count": 12,
      "outputs": [
        {
          "output_type": "execute_result",
          "data": {
            "text/plain": [
              "               Lead Origin     Lead Source Do Not Email Do Not Call  \\\n",
              "0                      API      Olark Chat           No          No   \n",
              "1                      API  Organic Search           No          No   \n",
              "2  Landing Page Submission  Direct Traffic           No          No   \n",
              "3  Landing Page Submission  Direct Traffic           No          No   \n",
              "4  Landing Page Submission          Google           No          No   \n",
              "\n",
              "   Converted  TotalVisits  Total Time Spent on Website  Page Views Per Visit  \\\n",
              "0          0          0.0                            0                   0.0   \n",
              "1          0          5.0                          674                   2.5   \n",
              "2          1          2.0                         1532                   2.0   \n",
              "3          0          1.0                          305                   1.0   \n",
              "4          1          2.0                         1428                   1.0   \n",
              "\n",
              "             Last Activity Country  ... Get updates on DM Content  \\\n",
              "0  Page Visited on Website     NaN  ...                        No   \n",
              "1             Email Opened   India  ...                        No   \n",
              "2             Email Opened   India  ...                        No   \n",
              "3              Unreachable   India  ...                        No   \n",
              "4        Converted to Lead   India  ...                        No   \n",
              "\n",
              "     Lead Profile    City Asymmetrique Activity Index  \\\n",
              "0             NaN     NaN                   02.Medium   \n",
              "1             NaN     NaN                   02.Medium   \n",
              "2  Potential Lead  Mumbai                   02.Medium   \n",
              "3             NaN  Mumbai                   02.Medium   \n",
              "4             NaN  Mumbai                   02.Medium   \n",
              "\n",
              "  Asymmetrique Profile Index Asymmetrique Activity Score  \\\n",
              "0                  02.Medium                        15.0   \n",
              "1                  02.Medium                        15.0   \n",
              "2                    01.High                        14.0   \n",
              "3                    01.High                        13.0   \n",
              "4                    01.High                        15.0   \n",
              "\n",
              "  Asymmetrique Profile Score I agree to pay the amount through cheque  \\\n",
              "0                       15.0                                       No   \n",
              "1                       15.0                                       No   \n",
              "2                       20.0                                       No   \n",
              "3                       17.0                                       No   \n",
              "4                       18.0                                       No   \n",
              "\n",
              "  A free copy of Mastering The Interview Last Notable Activity  \n",
              "0                                     No              Modified  \n",
              "1                                     No          Email Opened  \n",
              "2                                    Yes          Email Opened  \n",
              "3                                     No              Modified  \n",
              "4                                     No              Modified  \n",
              "\n",
              "[5 rows x 35 columns]"
            ],
            "text/html": [
              "\n",
              "  <div id=\"df-09b6d0d1-5c70-4554-a82a-4d49a0c2f6ef\">\n",
              "    <div class=\"colab-df-container\">\n",
              "      <div>\n",
              "<style scoped>\n",
              "    .dataframe tbody tr th:only-of-type {\n",
              "        vertical-align: middle;\n",
              "    }\n",
              "\n",
              "    .dataframe tbody tr th {\n",
              "        vertical-align: top;\n",
              "    }\n",
              "\n",
              "    .dataframe thead th {\n",
              "        text-align: right;\n",
              "    }\n",
              "</style>\n",
              "<table border=\"1\" class=\"dataframe\">\n",
              "  <thead>\n",
              "    <tr style=\"text-align: right;\">\n",
              "      <th></th>\n",
              "      <th>Lead Origin</th>\n",
              "      <th>Lead Source</th>\n",
              "      <th>Do Not Email</th>\n",
              "      <th>Do Not Call</th>\n",
              "      <th>Converted</th>\n",
              "      <th>TotalVisits</th>\n",
              "      <th>Total Time Spent on Website</th>\n",
              "      <th>Page Views Per Visit</th>\n",
              "      <th>Last Activity</th>\n",
              "      <th>Country</th>\n",
              "      <th>...</th>\n",
              "      <th>Get updates on DM Content</th>\n",
              "      <th>Lead Profile</th>\n",
              "      <th>City</th>\n",
              "      <th>Asymmetrique Activity Index</th>\n",
              "      <th>Asymmetrique Profile Index</th>\n",
              "      <th>Asymmetrique Activity Score</th>\n",
              "      <th>Asymmetrique Profile Score</th>\n",
              "      <th>I agree to pay the amount through cheque</th>\n",
              "      <th>A free copy of Mastering The Interview</th>\n",
              "      <th>Last Notable Activity</th>\n",
              "    </tr>\n",
              "  </thead>\n",
              "  <tbody>\n",
              "    <tr>\n",
              "      <th>0</th>\n",
              "      <td>API</td>\n",
              "      <td>Olark Chat</td>\n",
              "      <td>No</td>\n",
              "      <td>No</td>\n",
              "      <td>0</td>\n",
              "      <td>0.0</td>\n",
              "      <td>0</td>\n",
              "      <td>0.0</td>\n",
              "      <td>Page Visited on Website</td>\n",
              "      <td>NaN</td>\n",
              "      <td>...</td>\n",
              "      <td>No</td>\n",
              "      <td>NaN</td>\n",
              "      <td>NaN</td>\n",
              "      <td>02.Medium</td>\n",
              "      <td>02.Medium</td>\n",
              "      <td>15.0</td>\n",
              "      <td>15.0</td>\n",
              "      <td>No</td>\n",
              "      <td>No</td>\n",
              "      <td>Modified</td>\n",
              "    </tr>\n",
              "    <tr>\n",
              "      <th>1</th>\n",
              "      <td>API</td>\n",
              "      <td>Organic Search</td>\n",
              "      <td>No</td>\n",
              "      <td>No</td>\n",
              "      <td>0</td>\n",
              "      <td>5.0</td>\n",
              "      <td>674</td>\n",
              "      <td>2.5</td>\n",
              "      <td>Email Opened</td>\n",
              "      <td>India</td>\n",
              "      <td>...</td>\n",
              "      <td>No</td>\n",
              "      <td>NaN</td>\n",
              "      <td>NaN</td>\n",
              "      <td>02.Medium</td>\n",
              "      <td>02.Medium</td>\n",
              "      <td>15.0</td>\n",
              "      <td>15.0</td>\n",
              "      <td>No</td>\n",
              "      <td>No</td>\n",
              "      <td>Email Opened</td>\n",
              "    </tr>\n",
              "    <tr>\n",
              "      <th>2</th>\n",
              "      <td>Landing Page Submission</td>\n",
              "      <td>Direct Traffic</td>\n",
              "      <td>No</td>\n",
              "      <td>No</td>\n",
              "      <td>1</td>\n",
              "      <td>2.0</td>\n",
              "      <td>1532</td>\n",
              "      <td>2.0</td>\n",
              "      <td>Email Opened</td>\n",
              "      <td>India</td>\n",
              "      <td>...</td>\n",
              "      <td>No</td>\n",
              "      <td>Potential Lead</td>\n",
              "      <td>Mumbai</td>\n",
              "      <td>02.Medium</td>\n",
              "      <td>01.High</td>\n",
              "      <td>14.0</td>\n",
              "      <td>20.0</td>\n",
              "      <td>No</td>\n",
              "      <td>Yes</td>\n",
              "      <td>Email Opened</td>\n",
              "    </tr>\n",
              "    <tr>\n",
              "      <th>3</th>\n",
              "      <td>Landing Page Submission</td>\n",
              "      <td>Direct Traffic</td>\n",
              "      <td>No</td>\n",
              "      <td>No</td>\n",
              "      <td>0</td>\n",
              "      <td>1.0</td>\n",
              "      <td>305</td>\n",
              "      <td>1.0</td>\n",
              "      <td>Unreachable</td>\n",
              "      <td>India</td>\n",
              "      <td>...</td>\n",
              "      <td>No</td>\n",
              "      <td>NaN</td>\n",
              "      <td>Mumbai</td>\n",
              "      <td>02.Medium</td>\n",
              "      <td>01.High</td>\n",
              "      <td>13.0</td>\n",
              "      <td>17.0</td>\n",
              "      <td>No</td>\n",
              "      <td>No</td>\n",
              "      <td>Modified</td>\n",
              "    </tr>\n",
              "    <tr>\n",
              "      <th>4</th>\n",
              "      <td>Landing Page Submission</td>\n",
              "      <td>Google</td>\n",
              "      <td>No</td>\n",
              "      <td>No</td>\n",
              "      <td>1</td>\n",
              "      <td>2.0</td>\n",
              "      <td>1428</td>\n",
              "      <td>1.0</td>\n",
              "      <td>Converted to Lead</td>\n",
              "      <td>India</td>\n",
              "      <td>...</td>\n",
              "      <td>No</td>\n",
              "      <td>NaN</td>\n",
              "      <td>Mumbai</td>\n",
              "      <td>02.Medium</td>\n",
              "      <td>01.High</td>\n",
              "      <td>15.0</td>\n",
              "      <td>18.0</td>\n",
              "      <td>No</td>\n",
              "      <td>No</td>\n",
              "      <td>Modified</td>\n",
              "    </tr>\n",
              "  </tbody>\n",
              "</table>\n",
              "<p>5 rows × 35 columns</p>\n",
              "</div>\n",
              "      <button class=\"colab-df-convert\" onclick=\"convertToInteractive('df-09b6d0d1-5c70-4554-a82a-4d49a0c2f6ef')\"\n",
              "              title=\"Convert this dataframe to an interactive table.\"\n",
              "              style=\"display:none;\">\n",
              "        \n",
              "  <svg xmlns=\"http://www.w3.org/2000/svg\" height=\"24px\"viewBox=\"0 0 24 24\"\n",
              "       width=\"24px\">\n",
              "    <path d=\"M0 0h24v24H0V0z\" fill=\"none\"/>\n",
              "    <path d=\"M18.56 5.44l.94 2.06.94-2.06 2.06-.94-2.06-.94-.94-2.06-.94 2.06-2.06.94zm-11 1L8.5 8.5l.94-2.06 2.06-.94-2.06-.94L8.5 2.5l-.94 2.06-2.06.94zm10 10l.94 2.06.94-2.06 2.06-.94-2.06-.94-.94-2.06-.94 2.06-2.06.94z\"/><path d=\"M17.41 7.96l-1.37-1.37c-.4-.4-.92-.59-1.43-.59-.52 0-1.04.2-1.43.59L10.3 9.45l-7.72 7.72c-.78.78-.78 2.05 0 2.83L4 21.41c.39.39.9.59 1.41.59.51 0 1.02-.2 1.41-.59l7.78-7.78 2.81-2.81c.8-.78.8-2.07 0-2.86zM5.41 20L4 18.59l7.72-7.72 1.47 1.35L5.41 20z\"/>\n",
              "  </svg>\n",
              "      </button>\n",
              "      \n",
              "  <style>\n",
              "    .colab-df-container {\n",
              "      display:flex;\n",
              "      flex-wrap:wrap;\n",
              "      gap: 12px;\n",
              "    }\n",
              "\n",
              "    .colab-df-convert {\n",
              "      background-color: #E8F0FE;\n",
              "      border: none;\n",
              "      border-radius: 50%;\n",
              "      cursor: pointer;\n",
              "      display: none;\n",
              "      fill: #1967D2;\n",
              "      height: 32px;\n",
              "      padding: 0 0 0 0;\n",
              "      width: 32px;\n",
              "    }\n",
              "\n",
              "    .colab-df-convert:hover {\n",
              "      background-color: #E2EBFA;\n",
              "      box-shadow: 0px 1px 2px rgba(60, 64, 67, 0.3), 0px 1px 3px 1px rgba(60, 64, 67, 0.15);\n",
              "      fill: #174EA6;\n",
              "    }\n",
              "\n",
              "    [theme=dark] .colab-df-convert {\n",
              "      background-color: #3B4455;\n",
              "      fill: #D2E3FC;\n",
              "    }\n",
              "\n",
              "    [theme=dark] .colab-df-convert:hover {\n",
              "      background-color: #434B5C;\n",
              "      box-shadow: 0px 1px 3px 1px rgba(0, 0, 0, 0.15);\n",
              "      filter: drop-shadow(0px 1px 2px rgba(0, 0, 0, 0.3));\n",
              "      fill: #FFFFFF;\n",
              "    }\n",
              "  </style>\n",
              "\n",
              "      <script>\n",
              "        const buttonEl =\n",
              "          document.querySelector('#df-09b6d0d1-5c70-4554-a82a-4d49a0c2f6ef button.colab-df-convert');\n",
              "        buttonEl.style.display =\n",
              "          google.colab.kernel.accessAllowed ? 'block' : 'none';\n",
              "\n",
              "        async function convertToInteractive(key) {\n",
              "          const element = document.querySelector('#df-09b6d0d1-5c70-4554-a82a-4d49a0c2f6ef');\n",
              "          const dataTable =\n",
              "            await google.colab.kernel.invokeFunction('convertToInteractive',\n",
              "                                                     [key], {});\n",
              "          if (!dataTable) return;\n",
              "\n",
              "          const docLinkHtml = 'Like what you see? Visit the ' +\n",
              "            '<a target=\"_blank\" href=https://colab.research.google.com/notebooks/data_table.ipynb>data table notebook</a>'\n",
              "            + ' to learn more about interactive tables.';\n",
              "          element.innerHTML = '';\n",
              "          dataTable['output_type'] = 'display_data';\n",
              "          await google.colab.output.renderOutput(dataTable, element);\n",
              "          const docLink = document.createElement('div');\n",
              "          docLink.innerHTML = docLinkHtml;\n",
              "          element.appendChild(docLink);\n",
              "        }\n",
              "      </script>\n",
              "    </div>\n",
              "  </div>\n",
              "  "
            ]
          },
          "metadata": {},
          "execution_count": 12
        }
      ]
    },
    {
      "cell_type": "code",
      "source": [
        "ls.nunique()"
      ],
      "metadata": {
        "colab": {
          "base_uri": "https://localhost:8080/"
        },
        "id": "-4QWX2d-Bqzw",
        "outputId": "921dd488-1e79-44cd-deb6-2695c05c0d6a"
      },
      "execution_count": 13,
      "outputs": [
        {
          "output_type": "execute_result",
          "data": {
            "text/plain": [
              "Lead Origin                                         5\n",
              "Lead Source                                        21\n",
              "Do Not Email                                        2\n",
              "Do Not Call                                         2\n",
              "Converted                                           2\n",
              "TotalVisits                                        41\n",
              "Total Time Spent on Website                      1731\n",
              "Page Views Per Visit                              114\n",
              "Last Activity                                      17\n",
              "Country                                            38\n",
              "Specialization                                     18\n",
              "How did you hear about X Education                  9\n",
              "What is your current occupation                     6\n",
              "What matters most to you in choosing a course       3\n",
              "Search                                              2\n",
              "Magazine                                            1\n",
              "Newspaper Article                                   2\n",
              "X Education Forums                                  2\n",
              "Newspaper                                           2\n",
              "Digital Advertisement                               2\n",
              "Through Recommendations                             2\n",
              "Receive More Updates About Our Courses              1\n",
              "Tags                                               26\n",
              "Lead Quality                                        5\n",
              "Update me on Supply Chain Content                   1\n",
              "Get updates on DM Content                           1\n",
              "Lead Profile                                        5\n",
              "City                                                6\n",
              "Asymmetrique Activity Index                         3\n",
              "Asymmetrique Profile Index                          3\n",
              "Asymmetrique Activity Score                        12\n",
              "Asymmetrique Profile Score                         10\n",
              "I agree to pay the amount through cheque            1\n",
              "A free copy of Mastering The Interview              2\n",
              "Last Notable Activity                              16\n",
              "dtype: int64"
            ]
          },
          "metadata": {},
          "execution_count": 13
        }
      ]
    },
    {
      "cell_type": "code",
      "source": [
        "ls.drop([\"Magazine\",\"Receive More Updates About Our Courses\",\"Update me on Supply Chain Content\",\"Get updates on DM Content\",\"I agree to pay the amount through cheque\"],axis=1,inplace=True)\n",
        "ls.head()\n",
        "\n",
        "#Removed few columns having only one unique values as it not affect the analysis"
      ],
      "metadata": {
        "colab": {
          "base_uri": "https://localhost:8080/",
          "height": 560
        },
        "id": "0Ys9TPcSB3VV",
        "outputId": "fdb7c206-1e2c-4011-d0c7-99058b522e2f"
      },
      "execution_count": 14,
      "outputs": [
        {
          "output_type": "execute_result",
          "data": {
            "text/plain": [
              "               Lead Origin     Lead Source Do Not Email Do Not Call  \\\n",
              "0                      API      Olark Chat           No          No   \n",
              "1                      API  Organic Search           No          No   \n",
              "2  Landing Page Submission  Direct Traffic           No          No   \n",
              "3  Landing Page Submission  Direct Traffic           No          No   \n",
              "4  Landing Page Submission          Google           No          No   \n",
              "\n",
              "   Converted  TotalVisits  Total Time Spent on Website  Page Views Per Visit  \\\n",
              "0          0          0.0                            0                   0.0   \n",
              "1          0          5.0                          674                   2.5   \n",
              "2          1          2.0                         1532                   2.0   \n",
              "3          0          1.0                          305                   1.0   \n",
              "4          1          2.0                         1428                   1.0   \n",
              "\n",
              "             Last Activity Country  ...                                 Tags  \\\n",
              "0  Page Visited on Website     NaN  ...          Interested in other courses   \n",
              "1             Email Opened   India  ...                              Ringing   \n",
              "2             Email Opened   India  ...  Will revert after reading the email   \n",
              "3              Unreachable   India  ...                              Ringing   \n",
              "4        Converted to Lead   India  ...  Will revert after reading the email   \n",
              "\n",
              "       Lead Quality    Lead Profile    City Asymmetrique Activity Index  \\\n",
              "0  Low in Relevance             NaN     NaN                   02.Medium   \n",
              "1               NaN             NaN     NaN                   02.Medium   \n",
              "2          Might be  Potential Lead  Mumbai                   02.Medium   \n",
              "3          Not Sure             NaN  Mumbai                   02.Medium   \n",
              "4          Might be             NaN  Mumbai                   02.Medium   \n",
              "\n",
              "  Asymmetrique Profile Index Asymmetrique Activity Score  \\\n",
              "0                  02.Medium                        15.0   \n",
              "1                  02.Medium                        15.0   \n",
              "2                    01.High                        14.0   \n",
              "3                    01.High                        13.0   \n",
              "4                    01.High                        15.0   \n",
              "\n",
              "  Asymmetrique Profile Score A free copy of Mastering The Interview  \\\n",
              "0                       15.0                                     No   \n",
              "1                       15.0                                     No   \n",
              "2                       20.0                                    Yes   \n",
              "3                       17.0                                     No   \n",
              "4                       18.0                                     No   \n",
              "\n",
              "  Last Notable Activity  \n",
              "0              Modified  \n",
              "1          Email Opened  \n",
              "2          Email Opened  \n",
              "3              Modified  \n",
              "4              Modified  \n",
              "\n",
              "[5 rows x 30 columns]"
            ],
            "text/html": [
              "\n",
              "  <div id=\"df-96b995b3-0b1e-4b80-b59e-89d379b5271f\">\n",
              "    <div class=\"colab-df-container\">\n",
              "      <div>\n",
              "<style scoped>\n",
              "    .dataframe tbody tr th:only-of-type {\n",
              "        vertical-align: middle;\n",
              "    }\n",
              "\n",
              "    .dataframe tbody tr th {\n",
              "        vertical-align: top;\n",
              "    }\n",
              "\n",
              "    .dataframe thead th {\n",
              "        text-align: right;\n",
              "    }\n",
              "</style>\n",
              "<table border=\"1\" class=\"dataframe\">\n",
              "  <thead>\n",
              "    <tr style=\"text-align: right;\">\n",
              "      <th></th>\n",
              "      <th>Lead Origin</th>\n",
              "      <th>Lead Source</th>\n",
              "      <th>Do Not Email</th>\n",
              "      <th>Do Not Call</th>\n",
              "      <th>Converted</th>\n",
              "      <th>TotalVisits</th>\n",
              "      <th>Total Time Spent on Website</th>\n",
              "      <th>Page Views Per Visit</th>\n",
              "      <th>Last Activity</th>\n",
              "      <th>Country</th>\n",
              "      <th>...</th>\n",
              "      <th>Tags</th>\n",
              "      <th>Lead Quality</th>\n",
              "      <th>Lead Profile</th>\n",
              "      <th>City</th>\n",
              "      <th>Asymmetrique Activity Index</th>\n",
              "      <th>Asymmetrique Profile Index</th>\n",
              "      <th>Asymmetrique Activity Score</th>\n",
              "      <th>Asymmetrique Profile Score</th>\n",
              "      <th>A free copy of Mastering The Interview</th>\n",
              "      <th>Last Notable Activity</th>\n",
              "    </tr>\n",
              "  </thead>\n",
              "  <tbody>\n",
              "    <tr>\n",
              "      <th>0</th>\n",
              "      <td>API</td>\n",
              "      <td>Olark Chat</td>\n",
              "      <td>No</td>\n",
              "      <td>No</td>\n",
              "      <td>0</td>\n",
              "      <td>0.0</td>\n",
              "      <td>0</td>\n",
              "      <td>0.0</td>\n",
              "      <td>Page Visited on Website</td>\n",
              "      <td>NaN</td>\n",
              "      <td>...</td>\n",
              "      <td>Interested in other courses</td>\n",
              "      <td>Low in Relevance</td>\n",
              "      <td>NaN</td>\n",
              "      <td>NaN</td>\n",
              "      <td>02.Medium</td>\n",
              "      <td>02.Medium</td>\n",
              "      <td>15.0</td>\n",
              "      <td>15.0</td>\n",
              "      <td>No</td>\n",
              "      <td>Modified</td>\n",
              "    </tr>\n",
              "    <tr>\n",
              "      <th>1</th>\n",
              "      <td>API</td>\n",
              "      <td>Organic Search</td>\n",
              "      <td>No</td>\n",
              "      <td>No</td>\n",
              "      <td>0</td>\n",
              "      <td>5.0</td>\n",
              "      <td>674</td>\n",
              "      <td>2.5</td>\n",
              "      <td>Email Opened</td>\n",
              "      <td>India</td>\n",
              "      <td>...</td>\n",
              "      <td>Ringing</td>\n",
              "      <td>NaN</td>\n",
              "      <td>NaN</td>\n",
              "      <td>NaN</td>\n",
              "      <td>02.Medium</td>\n",
              "      <td>02.Medium</td>\n",
              "      <td>15.0</td>\n",
              "      <td>15.0</td>\n",
              "      <td>No</td>\n",
              "      <td>Email Opened</td>\n",
              "    </tr>\n",
              "    <tr>\n",
              "      <th>2</th>\n",
              "      <td>Landing Page Submission</td>\n",
              "      <td>Direct Traffic</td>\n",
              "      <td>No</td>\n",
              "      <td>No</td>\n",
              "      <td>1</td>\n",
              "      <td>2.0</td>\n",
              "      <td>1532</td>\n",
              "      <td>2.0</td>\n",
              "      <td>Email Opened</td>\n",
              "      <td>India</td>\n",
              "      <td>...</td>\n",
              "      <td>Will revert after reading the email</td>\n",
              "      <td>Might be</td>\n",
              "      <td>Potential Lead</td>\n",
              "      <td>Mumbai</td>\n",
              "      <td>02.Medium</td>\n",
              "      <td>01.High</td>\n",
              "      <td>14.0</td>\n",
              "      <td>20.0</td>\n",
              "      <td>Yes</td>\n",
              "      <td>Email Opened</td>\n",
              "    </tr>\n",
              "    <tr>\n",
              "      <th>3</th>\n",
              "      <td>Landing Page Submission</td>\n",
              "      <td>Direct Traffic</td>\n",
              "      <td>No</td>\n",
              "      <td>No</td>\n",
              "      <td>0</td>\n",
              "      <td>1.0</td>\n",
              "      <td>305</td>\n",
              "      <td>1.0</td>\n",
              "      <td>Unreachable</td>\n",
              "      <td>India</td>\n",
              "      <td>...</td>\n",
              "      <td>Ringing</td>\n",
              "      <td>Not Sure</td>\n",
              "      <td>NaN</td>\n",
              "      <td>Mumbai</td>\n",
              "      <td>02.Medium</td>\n",
              "      <td>01.High</td>\n",
              "      <td>13.0</td>\n",
              "      <td>17.0</td>\n",
              "      <td>No</td>\n",
              "      <td>Modified</td>\n",
              "    </tr>\n",
              "    <tr>\n",
              "      <th>4</th>\n",
              "      <td>Landing Page Submission</td>\n",
              "      <td>Google</td>\n",
              "      <td>No</td>\n",
              "      <td>No</td>\n",
              "      <td>1</td>\n",
              "      <td>2.0</td>\n",
              "      <td>1428</td>\n",
              "      <td>1.0</td>\n",
              "      <td>Converted to Lead</td>\n",
              "      <td>India</td>\n",
              "      <td>...</td>\n",
              "      <td>Will revert after reading the email</td>\n",
              "      <td>Might be</td>\n",
              "      <td>NaN</td>\n",
              "      <td>Mumbai</td>\n",
              "      <td>02.Medium</td>\n",
              "      <td>01.High</td>\n",
              "      <td>15.0</td>\n",
              "      <td>18.0</td>\n",
              "      <td>No</td>\n",
              "      <td>Modified</td>\n",
              "    </tr>\n",
              "  </tbody>\n",
              "</table>\n",
              "<p>5 rows × 30 columns</p>\n",
              "</div>\n",
              "      <button class=\"colab-df-convert\" onclick=\"convertToInteractive('df-96b995b3-0b1e-4b80-b59e-89d379b5271f')\"\n",
              "              title=\"Convert this dataframe to an interactive table.\"\n",
              "              style=\"display:none;\">\n",
              "        \n",
              "  <svg xmlns=\"http://www.w3.org/2000/svg\" height=\"24px\"viewBox=\"0 0 24 24\"\n",
              "       width=\"24px\">\n",
              "    <path d=\"M0 0h24v24H0V0z\" fill=\"none\"/>\n",
              "    <path d=\"M18.56 5.44l.94 2.06.94-2.06 2.06-.94-2.06-.94-.94-2.06-.94 2.06-2.06.94zm-11 1L8.5 8.5l.94-2.06 2.06-.94-2.06-.94L8.5 2.5l-.94 2.06-2.06.94zm10 10l.94 2.06.94-2.06 2.06-.94-2.06-.94-.94-2.06-.94 2.06-2.06.94z\"/><path d=\"M17.41 7.96l-1.37-1.37c-.4-.4-.92-.59-1.43-.59-.52 0-1.04.2-1.43.59L10.3 9.45l-7.72 7.72c-.78.78-.78 2.05 0 2.83L4 21.41c.39.39.9.59 1.41.59.51 0 1.02-.2 1.41-.59l7.78-7.78 2.81-2.81c.8-.78.8-2.07 0-2.86zM5.41 20L4 18.59l7.72-7.72 1.47 1.35L5.41 20z\"/>\n",
              "  </svg>\n",
              "      </button>\n",
              "      \n",
              "  <style>\n",
              "    .colab-df-container {\n",
              "      display:flex;\n",
              "      flex-wrap:wrap;\n",
              "      gap: 12px;\n",
              "    }\n",
              "\n",
              "    .colab-df-convert {\n",
              "      background-color: #E8F0FE;\n",
              "      border: none;\n",
              "      border-radius: 50%;\n",
              "      cursor: pointer;\n",
              "      display: none;\n",
              "      fill: #1967D2;\n",
              "      height: 32px;\n",
              "      padding: 0 0 0 0;\n",
              "      width: 32px;\n",
              "    }\n",
              "\n",
              "    .colab-df-convert:hover {\n",
              "      background-color: #E2EBFA;\n",
              "      box-shadow: 0px 1px 2px rgba(60, 64, 67, 0.3), 0px 1px 3px 1px rgba(60, 64, 67, 0.15);\n",
              "      fill: #174EA6;\n",
              "    }\n",
              "\n",
              "    [theme=dark] .colab-df-convert {\n",
              "      background-color: #3B4455;\n",
              "      fill: #D2E3FC;\n",
              "    }\n",
              "\n",
              "    [theme=dark] .colab-df-convert:hover {\n",
              "      background-color: #434B5C;\n",
              "      box-shadow: 0px 1px 3px 1px rgba(0, 0, 0, 0.15);\n",
              "      filter: drop-shadow(0px 1px 2px rgba(0, 0, 0, 0.3));\n",
              "      fill: #FFFFFF;\n",
              "    }\n",
              "  </style>\n",
              "\n",
              "      <script>\n",
              "        const buttonEl =\n",
              "          document.querySelector('#df-96b995b3-0b1e-4b80-b59e-89d379b5271f button.colab-df-convert');\n",
              "        buttonEl.style.display =\n",
              "          google.colab.kernel.accessAllowed ? 'block' : 'none';\n",
              "\n",
              "        async function convertToInteractive(key) {\n",
              "          const element = document.querySelector('#df-96b995b3-0b1e-4b80-b59e-89d379b5271f');\n",
              "          const dataTable =\n",
              "            await google.colab.kernel.invokeFunction('convertToInteractive',\n",
              "                                                     [key], {});\n",
              "          if (!dataTable) return;\n",
              "\n",
              "          const docLinkHtml = 'Like what you see? Visit the ' +\n",
              "            '<a target=\"_blank\" href=https://colab.research.google.com/notebooks/data_table.ipynb>data table notebook</a>'\n",
              "            + ' to learn more about interactive tables.';\n",
              "          element.innerHTML = '';\n",
              "          dataTable['output_type'] = 'display_data';\n",
              "          await google.colab.output.renderOutput(dataTable, element);\n",
              "          const docLink = document.createElement('div');\n",
              "          docLink.innerHTML = docLinkHtml;\n",
              "          element.appendChild(docLink);\n",
              "        }\n",
              "      </script>\n",
              "    </div>\n",
              "  </div>\n",
              "  "
            ]
          },
          "metadata": {},
          "execution_count": 14
        }
      ]
    },
    {
      "cell_type": "code",
      "source": [
        "#Null values analysis\n",
        "round(100*(ls.isnull().sum()/len(ls.index)),2)"
      ],
      "metadata": {
        "colab": {
          "base_uri": "https://localhost:8080/"
        },
        "id": "APfnrSekCQRV",
        "outputId": "d1b57664-3b07-42be-83aa-0fd9f9d6f8eb"
      },
      "execution_count": 15,
      "outputs": [
        {
          "output_type": "execute_result",
          "data": {
            "text/plain": [
              "Lead Origin                                       0.00\n",
              "Lead Source                                       0.39\n",
              "Do Not Email                                      0.00\n",
              "Do Not Call                                       0.00\n",
              "Converted                                         0.00\n",
              "TotalVisits                                       1.48\n",
              "Total Time Spent on Website                       0.00\n",
              "Page Views Per Visit                              1.48\n",
              "Last Activity                                     1.11\n",
              "Country                                          26.63\n",
              "Specialization                                   36.58\n",
              "How did you hear about X Education               78.46\n",
              "What is your current occupation                  29.11\n",
              "What matters most to you in choosing a course    29.32\n",
              "Search                                            0.00\n",
              "Newspaper Article                                 0.00\n",
              "X Education Forums                                0.00\n",
              "Newspaper                                         0.00\n",
              "Digital Advertisement                             0.00\n",
              "Through Recommendations                           0.00\n",
              "Tags                                             36.29\n",
              "Lead Quality                                     51.59\n",
              "Lead Profile                                     74.19\n",
              "City                                             39.71\n",
              "Asymmetrique Activity Index                      45.65\n",
              "Asymmetrique Profile Index                       45.65\n",
              "Asymmetrique Activity Score                      45.65\n",
              "Asymmetrique Profile Score                       45.65\n",
              "A free copy of Mastering The Interview            0.00\n",
              "Last Notable Activity                             0.00\n",
              "dtype: float64"
            ]
          },
          "metadata": {},
          "execution_count": 15
        }
      ]
    },
    {
      "cell_type": "code",
      "source": [
        "#dropping all the columns having more than 50% missing values\n",
        "\n",
        "cols=ls.columns\n",
        "for i in cols:\n",
        "    if((100*(ls[i].isnull().sum()/len(ls.index)))>=50):\n",
        "        ls.drop(i,1,inplace=True)"
      ],
      "metadata": {
        "id": "s6FHC8S5GGoi"
      },
      "execution_count": 16,
      "outputs": []
    },
    {
      "cell_type": "code",
      "source": [
        "ls.head()"
      ],
      "metadata": {
        "colab": {
          "base_uri": "https://localhost:8080/",
          "height": 560
        },
        "id": "o8HPS2CAGxvc",
        "outputId": "b6c0e48d-e034-4075-d7bf-3cefb956c190"
      },
      "execution_count": 17,
      "outputs": [
        {
          "output_type": "execute_result",
          "data": {
            "text/plain": [
              "               Lead Origin     Lead Source Do Not Email Do Not Call  \\\n",
              "0                      API      Olark Chat           No          No   \n",
              "1                      API  Organic Search           No          No   \n",
              "2  Landing Page Submission  Direct Traffic           No          No   \n",
              "3  Landing Page Submission  Direct Traffic           No          No   \n",
              "4  Landing Page Submission          Google           No          No   \n",
              "\n",
              "   Converted  TotalVisits  Total Time Spent on Website  Page Views Per Visit  \\\n",
              "0          0          0.0                            0                   0.0   \n",
              "1          0          5.0                          674                   2.5   \n",
              "2          1          2.0                         1532                   2.0   \n",
              "3          0          1.0                          305                   1.0   \n",
              "4          1          2.0                         1428                   1.0   \n",
              "\n",
              "             Last Activity Country  ... Digital Advertisement  \\\n",
              "0  Page Visited on Website     NaN  ...                    No   \n",
              "1             Email Opened   India  ...                    No   \n",
              "2             Email Opened   India  ...                    No   \n",
              "3              Unreachable   India  ...                    No   \n",
              "4        Converted to Lead   India  ...                    No   \n",
              "\n",
              "  Through Recommendations                                 Tags    City  \\\n",
              "0                      No          Interested in other courses     NaN   \n",
              "1                      No                              Ringing     NaN   \n",
              "2                      No  Will revert after reading the email  Mumbai   \n",
              "3                      No                              Ringing  Mumbai   \n",
              "4                      No  Will revert after reading the email  Mumbai   \n",
              "\n",
              "  Asymmetrique Activity Index Asymmetrique Profile Index  \\\n",
              "0                   02.Medium                  02.Medium   \n",
              "1                   02.Medium                  02.Medium   \n",
              "2                   02.Medium                    01.High   \n",
              "3                   02.Medium                    01.High   \n",
              "4                   02.Medium                    01.High   \n",
              "\n",
              "  Asymmetrique Activity Score Asymmetrique Profile Score  \\\n",
              "0                        15.0                       15.0   \n",
              "1                        15.0                       15.0   \n",
              "2                        14.0                       20.0   \n",
              "3                        13.0                       17.0   \n",
              "4                        15.0                       18.0   \n",
              "\n",
              "  A free copy of Mastering The Interview Last Notable Activity  \n",
              "0                                     No              Modified  \n",
              "1                                     No          Email Opened  \n",
              "2                                    Yes          Email Opened  \n",
              "3                                     No              Modified  \n",
              "4                                     No              Modified  \n",
              "\n",
              "[5 rows x 27 columns]"
            ],
            "text/html": [
              "\n",
              "  <div id=\"df-6a7ace97-aa72-4d97-b72b-e2794b167f1b\">\n",
              "    <div class=\"colab-df-container\">\n",
              "      <div>\n",
              "<style scoped>\n",
              "    .dataframe tbody tr th:only-of-type {\n",
              "        vertical-align: middle;\n",
              "    }\n",
              "\n",
              "    .dataframe tbody tr th {\n",
              "        vertical-align: top;\n",
              "    }\n",
              "\n",
              "    .dataframe thead th {\n",
              "        text-align: right;\n",
              "    }\n",
              "</style>\n",
              "<table border=\"1\" class=\"dataframe\">\n",
              "  <thead>\n",
              "    <tr style=\"text-align: right;\">\n",
              "      <th></th>\n",
              "      <th>Lead Origin</th>\n",
              "      <th>Lead Source</th>\n",
              "      <th>Do Not Email</th>\n",
              "      <th>Do Not Call</th>\n",
              "      <th>Converted</th>\n",
              "      <th>TotalVisits</th>\n",
              "      <th>Total Time Spent on Website</th>\n",
              "      <th>Page Views Per Visit</th>\n",
              "      <th>Last Activity</th>\n",
              "      <th>Country</th>\n",
              "      <th>...</th>\n",
              "      <th>Digital Advertisement</th>\n",
              "      <th>Through Recommendations</th>\n",
              "      <th>Tags</th>\n",
              "      <th>City</th>\n",
              "      <th>Asymmetrique Activity Index</th>\n",
              "      <th>Asymmetrique Profile Index</th>\n",
              "      <th>Asymmetrique Activity Score</th>\n",
              "      <th>Asymmetrique Profile Score</th>\n",
              "      <th>A free copy of Mastering The Interview</th>\n",
              "      <th>Last Notable Activity</th>\n",
              "    </tr>\n",
              "  </thead>\n",
              "  <tbody>\n",
              "    <tr>\n",
              "      <th>0</th>\n",
              "      <td>API</td>\n",
              "      <td>Olark Chat</td>\n",
              "      <td>No</td>\n",
              "      <td>No</td>\n",
              "      <td>0</td>\n",
              "      <td>0.0</td>\n",
              "      <td>0</td>\n",
              "      <td>0.0</td>\n",
              "      <td>Page Visited on Website</td>\n",
              "      <td>NaN</td>\n",
              "      <td>...</td>\n",
              "      <td>No</td>\n",
              "      <td>No</td>\n",
              "      <td>Interested in other courses</td>\n",
              "      <td>NaN</td>\n",
              "      <td>02.Medium</td>\n",
              "      <td>02.Medium</td>\n",
              "      <td>15.0</td>\n",
              "      <td>15.0</td>\n",
              "      <td>No</td>\n",
              "      <td>Modified</td>\n",
              "    </tr>\n",
              "    <tr>\n",
              "      <th>1</th>\n",
              "      <td>API</td>\n",
              "      <td>Organic Search</td>\n",
              "      <td>No</td>\n",
              "      <td>No</td>\n",
              "      <td>0</td>\n",
              "      <td>5.0</td>\n",
              "      <td>674</td>\n",
              "      <td>2.5</td>\n",
              "      <td>Email Opened</td>\n",
              "      <td>India</td>\n",
              "      <td>...</td>\n",
              "      <td>No</td>\n",
              "      <td>No</td>\n",
              "      <td>Ringing</td>\n",
              "      <td>NaN</td>\n",
              "      <td>02.Medium</td>\n",
              "      <td>02.Medium</td>\n",
              "      <td>15.0</td>\n",
              "      <td>15.0</td>\n",
              "      <td>No</td>\n",
              "      <td>Email Opened</td>\n",
              "    </tr>\n",
              "    <tr>\n",
              "      <th>2</th>\n",
              "      <td>Landing Page Submission</td>\n",
              "      <td>Direct Traffic</td>\n",
              "      <td>No</td>\n",
              "      <td>No</td>\n",
              "      <td>1</td>\n",
              "      <td>2.0</td>\n",
              "      <td>1532</td>\n",
              "      <td>2.0</td>\n",
              "      <td>Email Opened</td>\n",
              "      <td>India</td>\n",
              "      <td>...</td>\n",
              "      <td>No</td>\n",
              "      <td>No</td>\n",
              "      <td>Will revert after reading the email</td>\n",
              "      <td>Mumbai</td>\n",
              "      <td>02.Medium</td>\n",
              "      <td>01.High</td>\n",
              "      <td>14.0</td>\n",
              "      <td>20.0</td>\n",
              "      <td>Yes</td>\n",
              "      <td>Email Opened</td>\n",
              "    </tr>\n",
              "    <tr>\n",
              "      <th>3</th>\n",
              "      <td>Landing Page Submission</td>\n",
              "      <td>Direct Traffic</td>\n",
              "      <td>No</td>\n",
              "      <td>No</td>\n",
              "      <td>0</td>\n",
              "      <td>1.0</td>\n",
              "      <td>305</td>\n",
              "      <td>1.0</td>\n",
              "      <td>Unreachable</td>\n",
              "      <td>India</td>\n",
              "      <td>...</td>\n",
              "      <td>No</td>\n",
              "      <td>No</td>\n",
              "      <td>Ringing</td>\n",
              "      <td>Mumbai</td>\n",
              "      <td>02.Medium</td>\n",
              "      <td>01.High</td>\n",
              "      <td>13.0</td>\n",
              "      <td>17.0</td>\n",
              "      <td>No</td>\n",
              "      <td>Modified</td>\n",
              "    </tr>\n",
              "    <tr>\n",
              "      <th>4</th>\n",
              "      <td>Landing Page Submission</td>\n",
              "      <td>Google</td>\n",
              "      <td>No</td>\n",
              "      <td>No</td>\n",
              "      <td>1</td>\n",
              "      <td>2.0</td>\n",
              "      <td>1428</td>\n",
              "      <td>1.0</td>\n",
              "      <td>Converted to Lead</td>\n",
              "      <td>India</td>\n",
              "      <td>...</td>\n",
              "      <td>No</td>\n",
              "      <td>No</td>\n",
              "      <td>Will revert after reading the email</td>\n",
              "      <td>Mumbai</td>\n",
              "      <td>02.Medium</td>\n",
              "      <td>01.High</td>\n",
              "      <td>15.0</td>\n",
              "      <td>18.0</td>\n",
              "      <td>No</td>\n",
              "      <td>Modified</td>\n",
              "    </tr>\n",
              "  </tbody>\n",
              "</table>\n",
              "<p>5 rows × 27 columns</p>\n",
              "</div>\n",
              "      <button class=\"colab-df-convert\" onclick=\"convertToInteractive('df-6a7ace97-aa72-4d97-b72b-e2794b167f1b')\"\n",
              "              title=\"Convert this dataframe to an interactive table.\"\n",
              "              style=\"display:none;\">\n",
              "        \n",
              "  <svg xmlns=\"http://www.w3.org/2000/svg\" height=\"24px\"viewBox=\"0 0 24 24\"\n",
              "       width=\"24px\">\n",
              "    <path d=\"M0 0h24v24H0V0z\" fill=\"none\"/>\n",
              "    <path d=\"M18.56 5.44l.94 2.06.94-2.06 2.06-.94-2.06-.94-.94-2.06-.94 2.06-2.06.94zm-11 1L8.5 8.5l.94-2.06 2.06-.94-2.06-.94L8.5 2.5l-.94 2.06-2.06.94zm10 10l.94 2.06.94-2.06 2.06-.94-2.06-.94-.94-2.06-.94 2.06-2.06.94z\"/><path d=\"M17.41 7.96l-1.37-1.37c-.4-.4-.92-.59-1.43-.59-.52 0-1.04.2-1.43.59L10.3 9.45l-7.72 7.72c-.78.78-.78 2.05 0 2.83L4 21.41c.39.39.9.59 1.41.59.51 0 1.02-.2 1.41-.59l7.78-7.78 2.81-2.81c.8-.78.8-2.07 0-2.86zM5.41 20L4 18.59l7.72-7.72 1.47 1.35L5.41 20z\"/>\n",
              "  </svg>\n",
              "      </button>\n",
              "      \n",
              "  <style>\n",
              "    .colab-df-container {\n",
              "      display:flex;\n",
              "      flex-wrap:wrap;\n",
              "      gap: 12px;\n",
              "    }\n",
              "\n",
              "    .colab-df-convert {\n",
              "      background-color: #E8F0FE;\n",
              "      border: none;\n",
              "      border-radius: 50%;\n",
              "      cursor: pointer;\n",
              "      display: none;\n",
              "      fill: #1967D2;\n",
              "      height: 32px;\n",
              "      padding: 0 0 0 0;\n",
              "      width: 32px;\n",
              "    }\n",
              "\n",
              "    .colab-df-convert:hover {\n",
              "      background-color: #E2EBFA;\n",
              "      box-shadow: 0px 1px 2px rgba(60, 64, 67, 0.3), 0px 1px 3px 1px rgba(60, 64, 67, 0.15);\n",
              "      fill: #174EA6;\n",
              "    }\n",
              "\n",
              "    [theme=dark] .colab-df-convert {\n",
              "      background-color: #3B4455;\n",
              "      fill: #D2E3FC;\n",
              "    }\n",
              "\n",
              "    [theme=dark] .colab-df-convert:hover {\n",
              "      background-color: #434B5C;\n",
              "      box-shadow: 0px 1px 3px 1px rgba(0, 0, 0, 0.15);\n",
              "      filter: drop-shadow(0px 1px 2px rgba(0, 0, 0, 0.3));\n",
              "      fill: #FFFFFF;\n",
              "    }\n",
              "  </style>\n",
              "\n",
              "      <script>\n",
              "        const buttonEl =\n",
              "          document.querySelector('#df-6a7ace97-aa72-4d97-b72b-e2794b167f1b button.colab-df-convert');\n",
              "        buttonEl.style.display =\n",
              "          google.colab.kernel.accessAllowed ? 'block' : 'none';\n",
              "\n",
              "        async function convertToInteractive(key) {\n",
              "          const element = document.querySelector('#df-6a7ace97-aa72-4d97-b72b-e2794b167f1b');\n",
              "          const dataTable =\n",
              "            await google.colab.kernel.invokeFunction('convertToInteractive',\n",
              "                                                     [key], {});\n",
              "          if (!dataTable) return;\n",
              "\n",
              "          const docLinkHtml = 'Like what you see? Visit the ' +\n",
              "            '<a target=\"_blank\" href=https://colab.research.google.com/notebooks/data_table.ipynb>data table notebook</a>'\n",
              "            + ' to learn more about interactive tables.';\n",
              "          element.innerHTML = '';\n",
              "          dataTable['output_type'] = 'display_data';\n",
              "          await google.colab.output.renderOutput(dataTable, element);\n",
              "          const docLink = document.createElement('div');\n",
              "          docLink.innerHTML = docLinkHtml;\n",
              "          element.appendChild(docLink);\n",
              "        }\n",
              "      </script>\n",
              "    </div>\n",
              "  </div>\n",
              "  "
            ]
          },
          "metadata": {},
          "execution_count": 17
        }
      ]
    },
    {
      "cell_type": "code",
      "source": [
        "round(100*(ls.isnull().sum()/len(ls.index)),2)"
      ],
      "metadata": {
        "colab": {
          "base_uri": "https://localhost:8080/"
        },
        "id": "QJG8ZzSMG_pU",
        "outputId": "e11032e9-59cb-4932-ca3d-23c6b5bd9588"
      },
      "execution_count": 18,
      "outputs": [
        {
          "output_type": "execute_result",
          "data": {
            "text/plain": [
              "Lead Origin                                       0.00\n",
              "Lead Source                                       0.39\n",
              "Do Not Email                                      0.00\n",
              "Do Not Call                                       0.00\n",
              "Converted                                         0.00\n",
              "TotalVisits                                       1.48\n",
              "Total Time Spent on Website                       0.00\n",
              "Page Views Per Visit                              1.48\n",
              "Last Activity                                     1.11\n",
              "Country                                          26.63\n",
              "Specialization                                   36.58\n",
              "What is your current occupation                  29.11\n",
              "What matters most to you in choosing a course    29.32\n",
              "Search                                            0.00\n",
              "Newspaper Article                                 0.00\n",
              "X Education Forums                                0.00\n",
              "Newspaper                                         0.00\n",
              "Digital Advertisement                             0.00\n",
              "Through Recommendations                           0.00\n",
              "Tags                                             36.29\n",
              "City                                             39.71\n",
              "Asymmetrique Activity Index                      45.65\n",
              "Asymmetrique Profile Index                       45.65\n",
              "Asymmetrique Activity Score                      45.65\n",
              "Asymmetrique Profile Score                       45.65\n",
              "A free copy of Mastering The Interview            0.00\n",
              "Last Notable Activity                             0.00\n",
              "dtype: float64"
            ]
          },
          "metadata": {},
          "execution_count": 18
        }
      ]
    },
    {
      "cell_type": "code",
      "source": [
        "##Checking the columns with binary category (YES/NO) values\n",
        "\n",
        "bc=[\"Do Not Email\",\"Do Not Call\",\"Search\",\"Newspaper Article\",\"X Education Forums\",\"Newspaper\",\"Digital Advertisement\",\"Through Recommendations\",\"A free copy of Mastering The Interview\"]\n",
        "for col in bc:\n",
        "    print(ls[col].value_counts(normalize=True)*100)\n",
        "    print(\"\\n\\n\")"
      ],
      "metadata": {
        "colab": {
          "base_uri": "https://localhost:8080/"
        },
        "id": "pT8DljyzHcRF",
        "outputId": "4e1e16b0-c123-447b-f052-a2bfb3712213"
      },
      "execution_count": 19,
      "outputs": [
        {
          "output_type": "stream",
          "name": "stdout",
          "text": [
            "No     92.056277\n",
            "Yes     7.943723\n",
            "Name: Do Not Email, dtype: float64\n",
            "\n",
            "\n",
            "\n",
            "No     99.978355\n",
            "Yes     0.021645\n",
            "Name: Do Not Call, dtype: float64\n",
            "\n",
            "\n",
            "\n",
            "No     99.848485\n",
            "Yes     0.151515\n",
            "Name: Search, dtype: float64\n",
            "\n",
            "\n",
            "\n",
            "No     99.978355\n",
            "Yes     0.021645\n",
            "Name: Newspaper Article, dtype: float64\n",
            "\n",
            "\n",
            "\n",
            "No     99.989177\n",
            "Yes     0.010823\n",
            "Name: X Education Forums, dtype: float64\n",
            "\n",
            "\n",
            "\n",
            "No     99.989177\n",
            "Yes     0.010823\n",
            "Name: Newspaper, dtype: float64\n",
            "\n",
            "\n",
            "\n",
            "No     99.95671\n",
            "Yes     0.04329\n",
            "Name: Digital Advertisement, dtype: float64\n",
            "\n",
            "\n",
            "\n",
            "No     99.924242\n",
            "Yes     0.075758\n",
            "Name: Through Recommendations, dtype: float64\n",
            "\n",
            "\n",
            "\n",
            "No     68.744589\n",
            "Yes    31.255411\n",
            "Name: A free copy of Mastering The Interview, dtype: float64\n",
            "\n",
            "\n",
            "\n"
          ]
        }
      ]
    },
    {
      "cell_type": "markdown",
      "source": [
        "Dropping some of the above listed binary valued columns with data imbalance as it is not useful for analysis"
      ],
      "metadata": {
        "id": "fYE3mH8sIBl4"
      }
    },
    {
      "cell_type": "code",
      "source": [
        "ib_cols = [\"Do Not Call\",\"Search\",\"Newspaper Article\",\"X Education Forums\",\"Newspaper\",\"Digital Advertisement\",\"Through Recommendations\"]\n",
        "ls.drop(ib_cols,axis=1,inplace=True)\n",
        "ls.head()"
      ],
      "metadata": {
        "colab": {
          "base_uri": "https://localhost:8080/",
          "height": 565
        },
        "id": "GzCaYqhMIAr8",
        "outputId": "b3ae456f-558c-439c-98f7-d71570e73c88"
      },
      "execution_count": 20,
      "outputs": [
        {
          "output_type": "execute_result",
          "data": {
            "text/plain": [
              "               Lead Origin     Lead Source Do Not Email  Converted  \\\n",
              "0                      API      Olark Chat           No          0   \n",
              "1                      API  Organic Search           No          0   \n",
              "2  Landing Page Submission  Direct Traffic           No          1   \n",
              "3  Landing Page Submission  Direct Traffic           No          0   \n",
              "4  Landing Page Submission          Google           No          1   \n",
              "\n",
              "   TotalVisits  Total Time Spent on Website  Page Views Per Visit  \\\n",
              "0          0.0                            0                   0.0   \n",
              "1          5.0                          674                   2.5   \n",
              "2          2.0                         1532                   2.0   \n",
              "3          1.0                          305                   1.0   \n",
              "4          2.0                         1428                   1.0   \n",
              "\n",
              "             Last Activity Country           Specialization  \\\n",
              "0  Page Visited on Website     NaN                      NaN   \n",
              "1             Email Opened   India                      NaN   \n",
              "2             Email Opened   India  Business Administration   \n",
              "3              Unreachable   India    Media and Advertising   \n",
              "4        Converted to Lead   India                      NaN   \n",
              "\n",
              "  What is your current occupation  \\\n",
              "0                      Unemployed   \n",
              "1                      Unemployed   \n",
              "2                         Student   \n",
              "3                      Unemployed   \n",
              "4                      Unemployed   \n",
              "\n",
              "  What matters most to you in choosing a course  \\\n",
              "0                       Better Career Prospects   \n",
              "1                       Better Career Prospects   \n",
              "2                       Better Career Prospects   \n",
              "3                       Better Career Prospects   \n",
              "4                       Better Career Prospects   \n",
              "\n",
              "                                  Tags    City Asymmetrique Activity Index  \\\n",
              "0          Interested in other courses     NaN                   02.Medium   \n",
              "1                              Ringing     NaN                   02.Medium   \n",
              "2  Will revert after reading the email  Mumbai                   02.Medium   \n",
              "3                              Ringing  Mumbai                   02.Medium   \n",
              "4  Will revert after reading the email  Mumbai                   02.Medium   \n",
              "\n",
              "  Asymmetrique Profile Index  Asymmetrique Activity Score  \\\n",
              "0                  02.Medium                         15.0   \n",
              "1                  02.Medium                         15.0   \n",
              "2                    01.High                         14.0   \n",
              "3                    01.High                         13.0   \n",
              "4                    01.High                         15.0   \n",
              "\n",
              "   Asymmetrique Profile Score A free copy of Mastering The Interview  \\\n",
              "0                        15.0                                     No   \n",
              "1                        15.0                                     No   \n",
              "2                        20.0                                    Yes   \n",
              "3                        17.0                                     No   \n",
              "4                        18.0                                     No   \n",
              "\n",
              "  Last Notable Activity  \n",
              "0              Modified  \n",
              "1          Email Opened  \n",
              "2          Email Opened  \n",
              "3              Modified  \n",
              "4              Modified  "
            ],
            "text/html": [
              "\n",
              "  <div id=\"df-189d3e45-4c46-453d-9a15-38993bb5d5f8\">\n",
              "    <div class=\"colab-df-container\">\n",
              "      <div>\n",
              "<style scoped>\n",
              "    .dataframe tbody tr th:only-of-type {\n",
              "        vertical-align: middle;\n",
              "    }\n",
              "\n",
              "    .dataframe tbody tr th {\n",
              "        vertical-align: top;\n",
              "    }\n",
              "\n",
              "    .dataframe thead th {\n",
              "        text-align: right;\n",
              "    }\n",
              "</style>\n",
              "<table border=\"1\" class=\"dataframe\">\n",
              "  <thead>\n",
              "    <tr style=\"text-align: right;\">\n",
              "      <th></th>\n",
              "      <th>Lead Origin</th>\n",
              "      <th>Lead Source</th>\n",
              "      <th>Do Not Email</th>\n",
              "      <th>Converted</th>\n",
              "      <th>TotalVisits</th>\n",
              "      <th>Total Time Spent on Website</th>\n",
              "      <th>Page Views Per Visit</th>\n",
              "      <th>Last Activity</th>\n",
              "      <th>Country</th>\n",
              "      <th>Specialization</th>\n",
              "      <th>What is your current occupation</th>\n",
              "      <th>What matters most to you in choosing a course</th>\n",
              "      <th>Tags</th>\n",
              "      <th>City</th>\n",
              "      <th>Asymmetrique Activity Index</th>\n",
              "      <th>Asymmetrique Profile Index</th>\n",
              "      <th>Asymmetrique Activity Score</th>\n",
              "      <th>Asymmetrique Profile Score</th>\n",
              "      <th>A free copy of Mastering The Interview</th>\n",
              "      <th>Last Notable Activity</th>\n",
              "    </tr>\n",
              "  </thead>\n",
              "  <tbody>\n",
              "    <tr>\n",
              "      <th>0</th>\n",
              "      <td>API</td>\n",
              "      <td>Olark Chat</td>\n",
              "      <td>No</td>\n",
              "      <td>0</td>\n",
              "      <td>0.0</td>\n",
              "      <td>0</td>\n",
              "      <td>0.0</td>\n",
              "      <td>Page Visited on Website</td>\n",
              "      <td>NaN</td>\n",
              "      <td>NaN</td>\n",
              "      <td>Unemployed</td>\n",
              "      <td>Better Career Prospects</td>\n",
              "      <td>Interested in other courses</td>\n",
              "      <td>NaN</td>\n",
              "      <td>02.Medium</td>\n",
              "      <td>02.Medium</td>\n",
              "      <td>15.0</td>\n",
              "      <td>15.0</td>\n",
              "      <td>No</td>\n",
              "      <td>Modified</td>\n",
              "    </tr>\n",
              "    <tr>\n",
              "      <th>1</th>\n",
              "      <td>API</td>\n",
              "      <td>Organic Search</td>\n",
              "      <td>No</td>\n",
              "      <td>0</td>\n",
              "      <td>5.0</td>\n",
              "      <td>674</td>\n",
              "      <td>2.5</td>\n",
              "      <td>Email Opened</td>\n",
              "      <td>India</td>\n",
              "      <td>NaN</td>\n",
              "      <td>Unemployed</td>\n",
              "      <td>Better Career Prospects</td>\n",
              "      <td>Ringing</td>\n",
              "      <td>NaN</td>\n",
              "      <td>02.Medium</td>\n",
              "      <td>02.Medium</td>\n",
              "      <td>15.0</td>\n",
              "      <td>15.0</td>\n",
              "      <td>No</td>\n",
              "      <td>Email Opened</td>\n",
              "    </tr>\n",
              "    <tr>\n",
              "      <th>2</th>\n",
              "      <td>Landing Page Submission</td>\n",
              "      <td>Direct Traffic</td>\n",
              "      <td>No</td>\n",
              "      <td>1</td>\n",
              "      <td>2.0</td>\n",
              "      <td>1532</td>\n",
              "      <td>2.0</td>\n",
              "      <td>Email Opened</td>\n",
              "      <td>India</td>\n",
              "      <td>Business Administration</td>\n",
              "      <td>Student</td>\n",
              "      <td>Better Career Prospects</td>\n",
              "      <td>Will revert after reading the email</td>\n",
              "      <td>Mumbai</td>\n",
              "      <td>02.Medium</td>\n",
              "      <td>01.High</td>\n",
              "      <td>14.0</td>\n",
              "      <td>20.0</td>\n",
              "      <td>Yes</td>\n",
              "      <td>Email Opened</td>\n",
              "    </tr>\n",
              "    <tr>\n",
              "      <th>3</th>\n",
              "      <td>Landing Page Submission</td>\n",
              "      <td>Direct Traffic</td>\n",
              "      <td>No</td>\n",
              "      <td>0</td>\n",
              "      <td>1.0</td>\n",
              "      <td>305</td>\n",
              "      <td>1.0</td>\n",
              "      <td>Unreachable</td>\n",
              "      <td>India</td>\n",
              "      <td>Media and Advertising</td>\n",
              "      <td>Unemployed</td>\n",
              "      <td>Better Career Prospects</td>\n",
              "      <td>Ringing</td>\n",
              "      <td>Mumbai</td>\n",
              "      <td>02.Medium</td>\n",
              "      <td>01.High</td>\n",
              "      <td>13.0</td>\n",
              "      <td>17.0</td>\n",
              "      <td>No</td>\n",
              "      <td>Modified</td>\n",
              "    </tr>\n",
              "    <tr>\n",
              "      <th>4</th>\n",
              "      <td>Landing Page Submission</td>\n",
              "      <td>Google</td>\n",
              "      <td>No</td>\n",
              "      <td>1</td>\n",
              "      <td>2.0</td>\n",
              "      <td>1428</td>\n",
              "      <td>1.0</td>\n",
              "      <td>Converted to Lead</td>\n",
              "      <td>India</td>\n",
              "      <td>NaN</td>\n",
              "      <td>Unemployed</td>\n",
              "      <td>Better Career Prospects</td>\n",
              "      <td>Will revert after reading the email</td>\n",
              "      <td>Mumbai</td>\n",
              "      <td>02.Medium</td>\n",
              "      <td>01.High</td>\n",
              "      <td>15.0</td>\n",
              "      <td>18.0</td>\n",
              "      <td>No</td>\n",
              "      <td>Modified</td>\n",
              "    </tr>\n",
              "  </tbody>\n",
              "</table>\n",
              "</div>\n",
              "      <button class=\"colab-df-convert\" onclick=\"convertToInteractive('df-189d3e45-4c46-453d-9a15-38993bb5d5f8')\"\n",
              "              title=\"Convert this dataframe to an interactive table.\"\n",
              "              style=\"display:none;\">\n",
              "        \n",
              "  <svg xmlns=\"http://www.w3.org/2000/svg\" height=\"24px\"viewBox=\"0 0 24 24\"\n",
              "       width=\"24px\">\n",
              "    <path d=\"M0 0h24v24H0V0z\" fill=\"none\"/>\n",
              "    <path d=\"M18.56 5.44l.94 2.06.94-2.06 2.06-.94-2.06-.94-.94-2.06-.94 2.06-2.06.94zm-11 1L8.5 8.5l.94-2.06 2.06-.94-2.06-.94L8.5 2.5l-.94 2.06-2.06.94zm10 10l.94 2.06.94-2.06 2.06-.94-2.06-.94-.94-2.06-.94 2.06-2.06.94z\"/><path d=\"M17.41 7.96l-1.37-1.37c-.4-.4-.92-.59-1.43-.59-.52 0-1.04.2-1.43.59L10.3 9.45l-7.72 7.72c-.78.78-.78 2.05 0 2.83L4 21.41c.39.39.9.59 1.41.59.51 0 1.02-.2 1.41-.59l7.78-7.78 2.81-2.81c.8-.78.8-2.07 0-2.86zM5.41 20L4 18.59l7.72-7.72 1.47 1.35L5.41 20z\"/>\n",
              "  </svg>\n",
              "      </button>\n",
              "      \n",
              "  <style>\n",
              "    .colab-df-container {\n",
              "      display:flex;\n",
              "      flex-wrap:wrap;\n",
              "      gap: 12px;\n",
              "    }\n",
              "\n",
              "    .colab-df-convert {\n",
              "      background-color: #E8F0FE;\n",
              "      border: none;\n",
              "      border-radius: 50%;\n",
              "      cursor: pointer;\n",
              "      display: none;\n",
              "      fill: #1967D2;\n",
              "      height: 32px;\n",
              "      padding: 0 0 0 0;\n",
              "      width: 32px;\n",
              "    }\n",
              "\n",
              "    .colab-df-convert:hover {\n",
              "      background-color: #E2EBFA;\n",
              "      box-shadow: 0px 1px 2px rgba(60, 64, 67, 0.3), 0px 1px 3px 1px rgba(60, 64, 67, 0.15);\n",
              "      fill: #174EA6;\n",
              "    }\n",
              "\n",
              "    [theme=dark] .colab-df-convert {\n",
              "      background-color: #3B4455;\n",
              "      fill: #D2E3FC;\n",
              "    }\n",
              "\n",
              "    [theme=dark] .colab-df-convert:hover {\n",
              "      background-color: #434B5C;\n",
              "      box-shadow: 0px 1px 3px 1px rgba(0, 0, 0, 0.15);\n",
              "      filter: drop-shadow(0px 1px 2px rgba(0, 0, 0, 0.3));\n",
              "      fill: #FFFFFF;\n",
              "    }\n",
              "  </style>\n",
              "\n",
              "      <script>\n",
              "        const buttonEl =\n",
              "          document.querySelector('#df-189d3e45-4c46-453d-9a15-38993bb5d5f8 button.colab-df-convert');\n",
              "        buttonEl.style.display =\n",
              "          google.colab.kernel.accessAllowed ? 'block' : 'none';\n",
              "\n",
              "        async function convertToInteractive(key) {\n",
              "          const element = document.querySelector('#df-189d3e45-4c46-453d-9a15-38993bb5d5f8');\n",
              "          const dataTable =\n",
              "            await google.colab.kernel.invokeFunction('convertToInteractive',\n",
              "                                                     [key], {});\n",
              "          if (!dataTable) return;\n",
              "\n",
              "          const docLinkHtml = 'Like what you see? Visit the ' +\n",
              "            '<a target=\"_blank\" href=https://colab.research.google.com/notebooks/data_table.ipynb>data table notebook</a>'\n",
              "            + ' to learn more about interactive tables.';\n",
              "          element.innerHTML = '';\n",
              "          dataTable['output_type'] = 'display_data';\n",
              "          await google.colab.output.renderOutput(dataTable, element);\n",
              "          const docLink = document.createElement('div');\n",
              "          docLink.innerHTML = docLinkHtml;\n",
              "          element.appendChild(docLink);\n",
              "        }\n",
              "      </script>\n",
              "    </div>\n",
              "  </div>\n",
              "  "
            ]
          },
          "metadata": {},
          "execution_count": 20
        }
      ]
    },
    {
      "cell_type": "code",
      "source": [
        "ls.columns"
      ],
      "metadata": {
        "colab": {
          "base_uri": "https://localhost:8080/"
        },
        "id": "Rs2E-Xz0J-zZ",
        "outputId": "a022b947-21d9-4994-828c-31e56f5f4075"
      },
      "execution_count": 21,
      "outputs": [
        {
          "output_type": "execute_result",
          "data": {
            "text/plain": [
              "Index(['Lead Origin', 'Lead Source', 'Do Not Email', 'Converted',\n",
              "       'TotalVisits', 'Total Time Spent on Website', 'Page Views Per Visit',\n",
              "       'Last Activity', 'Country', 'Specialization',\n",
              "       'What is your current occupation',\n",
              "       'What matters most to you in choosing a course', 'Tags', 'City',\n",
              "       'Asymmetrique Activity Index', 'Asymmetrique Profile Index',\n",
              "       'Asymmetrique Activity Score', 'Asymmetrique Profile Score',\n",
              "       'A free copy of Mastering The Interview', 'Last Notable Activity'],\n",
              "      dtype='object')"
            ]
          },
          "metadata": {},
          "execution_count": 21
        }
      ]
    },
    {
      "cell_type": "code",
      "source": [
        "ls.info()"
      ],
      "metadata": {
        "colab": {
          "base_uri": "https://localhost:8080/"
        },
        "id": "FJE6TWHhQLK5",
        "outputId": "0ba47fe5-4fbc-4dd1-c895-85e3ea4f0c52"
      },
      "execution_count": 22,
      "outputs": [
        {
          "output_type": "stream",
          "name": "stdout",
          "text": [
            "<class 'pandas.core.frame.DataFrame'>\n",
            "RangeIndex: 9240 entries, 0 to 9239\n",
            "Data columns (total 20 columns):\n",
            " #   Column                                         Non-Null Count  Dtype  \n",
            "---  ------                                         --------------  -----  \n",
            " 0   Lead Origin                                    9240 non-null   object \n",
            " 1   Lead Source                                    9204 non-null   object \n",
            " 2   Do Not Email                                   9240 non-null   object \n",
            " 3   Converted                                      9240 non-null   int64  \n",
            " 4   TotalVisits                                    9103 non-null   float64\n",
            " 5   Total Time Spent on Website                    9240 non-null   int64  \n",
            " 6   Page Views Per Visit                           9103 non-null   float64\n",
            " 7   Last Activity                                  9137 non-null   object \n",
            " 8   Country                                        6779 non-null   object \n",
            " 9   Specialization                                 5860 non-null   object \n",
            " 10  What is your current occupation                6550 non-null   object \n",
            " 11  What matters most to you in choosing a course  6531 non-null   object \n",
            " 12  Tags                                           5887 non-null   object \n",
            " 13  City                                           5571 non-null   object \n",
            " 14  Asymmetrique Activity Index                    5022 non-null   object \n",
            " 15  Asymmetrique Profile Index                     5022 non-null   object \n",
            " 16  Asymmetrique Activity Score                    5022 non-null   float64\n",
            " 17  Asymmetrique Profile Score                     5022 non-null   float64\n",
            " 18  A free copy of Mastering The Interview         9240 non-null   object \n",
            " 19  Last Notable Activity                          9240 non-null   object \n",
            "dtypes: float64(4), int64(2), object(14)\n",
            "memory usage: 1.4+ MB\n"
          ]
        }
      ]
    },
    {
      "cell_type": "code",
      "source": [
        "ls.Tags.value_counts()"
      ],
      "metadata": {
        "colab": {
          "base_uri": "https://localhost:8080/"
        },
        "id": "PTKqTfcAQLC2",
        "outputId": "e1c606f2-0b94-49ad-c17f-bf266793d83f"
      },
      "execution_count": 23,
      "outputs": [
        {
          "output_type": "execute_result",
          "data": {
            "text/plain": [
              "Will revert after reading the email                  2072\n",
              "Ringing                                              1203\n",
              "Interested in other courses                           513\n",
              "Already a student                                     465\n",
              "Closed by Horizzon                                    358\n",
              "switched off                                          240\n",
              "Busy                                                  186\n",
              "Lost to EINS                                          175\n",
              "Not doing further education                           145\n",
              "Interested  in full time MBA                          117\n",
              "Graduation in progress                                111\n",
              "invalid number                                         83\n",
              "Diploma holder (Not Eligible)                          63\n",
              "wrong number given                                     47\n",
              "opp hangup                                             33\n",
              "number not provided                                    27\n",
              "in touch with EINS                                     12\n",
              "Lost to Others                                          7\n",
              "Still Thinking                                          6\n",
              "Want to take admission but has financial problems       6\n",
              "In confusion whether part time or DLP                   5\n",
              "Interested in Next batch                                5\n",
              "Lateral student                                         3\n",
              "Shall take in the next coming month                     2\n",
              "University not recognized                               2\n",
              "Recognition issue (DEC approval)                        1\n",
              "Name: Tags, dtype: int64"
            ]
          },
          "metadata": {},
          "execution_count": 23
        }
      ]
    },
    {
      "cell_type": "markdown",
      "source": [
        "In 'Tags' column all less frequency options are grouped to a single option and missing values are grouped as 'Not Provided'. It can be dropped later if it is not important in future."
      ],
      "metadata": {
        "id": "3PRJsZ0iQhWf"
      }
    },
    {
      "cell_type": "code",
      "source": [
        "ls['Tags']=ls['Tags'].replace([\"invalid number\",\"Diploma holder (Not Eligible)\",\"wrong number given\",\"opp hangup\",\"number not provided\",\"in touch with EINS\",\"Lost to Others\",\"Still Thinking\",\"Want to take admission but has financial problems\",\"Interested in Next batch\",\"In confusion whether part time or DLP\",\"Lateral student\",\"University not recognized\",\"Shall take in the next coming month\",\"Recognition issue (DEC approval)\"],\"OtherTags\")\n",
        "ls['Tags']=ls['Tags'].fillna('Not Provided') \n",
        "ls.Tags.value_counts()"
      ],
      "metadata": {
        "colab": {
          "base_uri": "https://localhost:8080/"
        },
        "id": "W150Wk3_QwTt",
        "outputId": "cd4ff41d-8dc1-438e-8627-bbc3855afea1"
      },
      "execution_count": 24,
      "outputs": [
        {
          "output_type": "execute_result",
          "data": {
            "text/plain": [
              "Not Provided                           3353\n",
              "Will revert after reading the email    2072\n",
              "Ringing                                1203\n",
              "Interested in other courses             513\n",
              "Already a student                       465\n",
              "Closed by Horizzon                      358\n",
              "OtherTags                               302\n",
              "switched off                            240\n",
              "Busy                                    186\n",
              "Lost to EINS                            175\n",
              "Not doing further education             145\n",
              "Interested  in full time MBA            117\n",
              "Graduation in progress                  111\n",
              "Name: Tags, dtype: int64"
            ]
          },
          "metadata": {},
          "execution_count": 24
        }
      ]
    },
    {
      "cell_type": "code",
      "source": [
        "ls['Last Notable Activity'].value_counts()"
      ],
      "metadata": {
        "colab": {
          "base_uri": "https://localhost:8080/"
        },
        "id": "KtLj6wlhUGmQ",
        "outputId": "b2d95113-679a-4cee-b1e0-aa765e88e220"
      },
      "execution_count": 25,
      "outputs": [
        {
          "output_type": "execute_result",
          "data": {
            "text/plain": [
              "Modified                        3407\n",
              "Email Opened                    2827\n",
              "SMS Sent                        2172\n",
              "Page Visited on Website          318\n",
              "Olark Chat Conversation          183\n",
              "Email Link Clicked               173\n",
              "Email Bounced                     60\n",
              "Unsubscribed                      47\n",
              "Unreachable                       32\n",
              "Had a Phone Conversation          14\n",
              "Email Marked Spam                  2\n",
              "Approached upfront                 1\n",
              "Resubscribed to emails             1\n",
              "View in browser link Clicked       1\n",
              "Form Submitted on Website          1\n",
              "Email Received                     1\n",
              "Name: Last Notable Activity, dtype: int64"
            ]
          },
          "metadata": {},
          "execution_count": 25
        }
      ]
    },
    {
      "cell_type": "markdown",
      "source": [
        "In 'Last Notable Activity' Column grouped some less frequency actions to single option like we did for 'tags'"
      ],
      "metadata": {
        "id": "FLUBmyVmSvJR"
      }
    },
    {
      "cell_type": "code",
      "source": [
        "ls['Last Notable Activity']=ls['Last Notable Activity'].replace(['Had a Phone Conversation','Email Marked Spam','Unreachable','Unsubscribed','Email Bounced','Resubscribed to emails','View in browser link Clicked','Approached upfront','Form Submitted on Website','Email Received'],'Other Activities')\n",
        "ls['Last Notable Activity'].value_counts()"
      ],
      "metadata": {
        "colab": {
          "base_uri": "https://localhost:8080/"
        },
        "id": "I2A6hE3wSuuY",
        "outputId": "e92106c6-05b6-4b4f-9860-7a2ba62e8cf6"
      },
      "execution_count": 26,
      "outputs": [
        {
          "output_type": "execute_result",
          "data": {
            "text/plain": [
              "Modified                   3407\n",
              "Email Opened               2827\n",
              "SMS Sent                   2172\n",
              "Page Visited on Website     318\n",
              "Olark Chat Conversation     183\n",
              "Email Link Clicked          173\n",
              "Other Activities            160\n",
              "Name: Last Notable Activity, dtype: int64"
            ]
          },
          "metadata": {},
          "execution_count": 26
        }
      ]
    },
    {
      "cell_type": "code",
      "source": [
        "ls.info()"
      ],
      "metadata": {
        "colab": {
          "base_uri": "https://localhost:8080/"
        },
        "id": "-GAgBev_Twj3",
        "outputId": "e466f12c-4b37-46e6-a622-46f202830025"
      },
      "execution_count": 27,
      "outputs": [
        {
          "output_type": "stream",
          "name": "stdout",
          "text": [
            "<class 'pandas.core.frame.DataFrame'>\n",
            "RangeIndex: 9240 entries, 0 to 9239\n",
            "Data columns (total 20 columns):\n",
            " #   Column                                         Non-Null Count  Dtype  \n",
            "---  ------                                         --------------  -----  \n",
            " 0   Lead Origin                                    9240 non-null   object \n",
            " 1   Lead Source                                    9204 non-null   object \n",
            " 2   Do Not Email                                   9240 non-null   object \n",
            " 3   Converted                                      9240 non-null   int64  \n",
            " 4   TotalVisits                                    9103 non-null   float64\n",
            " 5   Total Time Spent on Website                    9240 non-null   int64  \n",
            " 6   Page Views Per Visit                           9103 non-null   float64\n",
            " 7   Last Activity                                  9137 non-null   object \n",
            " 8   Country                                        6779 non-null   object \n",
            " 9   Specialization                                 5860 non-null   object \n",
            " 10  What is your current occupation                6550 non-null   object \n",
            " 11  What matters most to you in choosing a course  6531 non-null   object \n",
            " 12  Tags                                           9240 non-null   object \n",
            " 13  City                                           5571 non-null   object \n",
            " 14  Asymmetrique Activity Index                    5022 non-null   object \n",
            " 15  Asymmetrique Profile Index                     5022 non-null   object \n",
            " 16  Asymmetrique Activity Score                    5022 non-null   float64\n",
            " 17  Asymmetrique Profile Score                     5022 non-null   float64\n",
            " 18  A free copy of Mastering The Interview         9240 non-null   object \n",
            " 19  Last Notable Activity                          9240 non-null   object \n",
            "dtypes: float64(4), int64(2), object(14)\n",
            "memory usage: 1.4+ MB\n"
          ]
        }
      ]
    },
    {
      "cell_type": "code",
      "source": [
        "act_col=[\"Asymmetrique Activity Index\",\"Asymmetrique Profile Index\",\"Asymmetrique Activity Score\",\"Asymmetrique Profile Score\"]\n",
        "for col in act_col:\n",
        "    print(ls[col].value_counts(normalize=True)*100)\n",
        "    print(\"\\n\")"
      ],
      "metadata": {
        "colab": {
          "base_uri": "https://localhost:8080/"
        },
        "id": "26RrGtfOURzj",
        "outputId": "c630c9df-6675-4b61-8d83-a20bdec0fb1b"
      },
      "execution_count": 28,
      "outputs": [
        {
          "output_type": "stream",
          "name": "stdout",
          "text": [
            "02.Medium    76.443648\n",
            "01.High      16.348068\n",
            "03.Low        7.208284\n",
            "Name: Asymmetrique Activity Index, dtype: float64\n",
            "\n",
            "\n",
            "02.Medium    55.515731\n",
            "01.High      43.866985\n",
            "03.Low        0.617284\n",
            "Name: Asymmetrique Profile Index, dtype: float64\n",
            "\n",
            "\n",
            "14.0    35.264835\n",
            "15.0    25.746714\n",
            "13.0    15.432099\n",
            "16.0     9.299084\n",
            "17.0     6.949423\n",
            "12.0     3.902828\n",
            "11.0     1.891677\n",
            "10.0     1.135006\n",
            "9.0      0.179211\n",
            "18.0     0.099562\n",
            "8.0      0.079650\n",
            "7.0      0.019912\n",
            "Name: Asymmetrique Activity Score, dtype: float64\n",
            "\n",
            "\n",
            "15.0    35.025886\n",
            "18.0    21.326165\n",
            "16.0    11.927519\n",
            "17.0    11.529271\n",
            "20.0     6.133015\n",
            "19.0     4.878534\n",
            "14.0     4.500199\n",
            "13.0     4.062127\n",
            "12.0     0.438072\n",
            "11.0     0.179211\n",
            "Name: Asymmetrique Profile Score, dtype: float64\n",
            "\n",
            "\n"
          ]
        }
      ]
    },
    {
      "cell_type": "code",
      "source": [
        "round(100*(ls.isnull().sum()/len(ls.index)),2)"
      ],
      "metadata": {
        "colab": {
          "base_uri": "https://localhost:8080/"
        },
        "id": "3o_ugeGeVNvz",
        "outputId": "76d20c22-5594-4d44-a370-8a123064bb8b"
      },
      "execution_count": 29,
      "outputs": [
        {
          "output_type": "execute_result",
          "data": {
            "text/plain": [
              "Lead Origin                                       0.00\n",
              "Lead Source                                       0.39\n",
              "Do Not Email                                      0.00\n",
              "Converted                                         0.00\n",
              "TotalVisits                                       1.48\n",
              "Total Time Spent on Website                       0.00\n",
              "Page Views Per Visit                              1.48\n",
              "Last Activity                                     1.11\n",
              "Country                                          26.63\n",
              "Specialization                                   36.58\n",
              "What is your current occupation                  29.11\n",
              "What matters most to you in choosing a course    29.32\n",
              "Tags                                              0.00\n",
              "City                                             39.71\n",
              "Asymmetrique Activity Index                      45.65\n",
              "Asymmetrique Profile Index                       45.65\n",
              "Asymmetrique Activity Score                      45.65\n",
              "Asymmetrique Profile Score                       45.65\n",
              "A free copy of Mastering The Interview            0.00\n",
              "Last Notable Activity                             0.00\n",
              "dtype: float64"
            ]
          },
          "metadata": {},
          "execution_count": 29
        }
      ]
    },
    {
      "cell_type": "markdown",
      "source": [
        "Some of the columns above are related to customer activity and have high number of missing values . So we dropping them for better analysis."
      ],
      "metadata": {
        "id": "JOt1z5v-VY8F"
      }
    },
    {
      "cell_type": "code",
      "source": [
        "ls.drop(act_col,axis=1,inplace=True)\n",
        "ls.head()"
      ],
      "metadata": {
        "colab": {
          "base_uri": "https://localhost:8080/",
          "height": 565
        },
        "id": "rQJRMhmlVYmf",
        "outputId": "e357b3a8-b01b-4f4f-fc0f-2bc2cb0e5e50"
      },
      "execution_count": 30,
      "outputs": [
        {
          "output_type": "execute_result",
          "data": {
            "text/plain": [
              "               Lead Origin     Lead Source Do Not Email  Converted  \\\n",
              "0                      API      Olark Chat           No          0   \n",
              "1                      API  Organic Search           No          0   \n",
              "2  Landing Page Submission  Direct Traffic           No          1   \n",
              "3  Landing Page Submission  Direct Traffic           No          0   \n",
              "4  Landing Page Submission          Google           No          1   \n",
              "\n",
              "   TotalVisits  Total Time Spent on Website  Page Views Per Visit  \\\n",
              "0          0.0                            0                   0.0   \n",
              "1          5.0                          674                   2.5   \n",
              "2          2.0                         1532                   2.0   \n",
              "3          1.0                          305                   1.0   \n",
              "4          2.0                         1428                   1.0   \n",
              "\n",
              "             Last Activity Country           Specialization  \\\n",
              "0  Page Visited on Website     NaN                      NaN   \n",
              "1             Email Opened   India                      NaN   \n",
              "2             Email Opened   India  Business Administration   \n",
              "3              Unreachable   India    Media and Advertising   \n",
              "4        Converted to Lead   India                      NaN   \n",
              "\n",
              "  What is your current occupation  \\\n",
              "0                      Unemployed   \n",
              "1                      Unemployed   \n",
              "2                         Student   \n",
              "3                      Unemployed   \n",
              "4                      Unemployed   \n",
              "\n",
              "  What matters most to you in choosing a course  \\\n",
              "0                       Better Career Prospects   \n",
              "1                       Better Career Prospects   \n",
              "2                       Better Career Prospects   \n",
              "3                       Better Career Prospects   \n",
              "4                       Better Career Prospects   \n",
              "\n",
              "                                  Tags    City  \\\n",
              "0          Interested in other courses     NaN   \n",
              "1                              Ringing     NaN   \n",
              "2  Will revert after reading the email  Mumbai   \n",
              "3                              Ringing  Mumbai   \n",
              "4  Will revert after reading the email  Mumbai   \n",
              "\n",
              "  A free copy of Mastering The Interview Last Notable Activity  \n",
              "0                                     No              Modified  \n",
              "1                                     No          Email Opened  \n",
              "2                                    Yes          Email Opened  \n",
              "3                                     No              Modified  \n",
              "4                                     No              Modified  "
            ],
            "text/html": [
              "\n",
              "  <div id=\"df-7ac520d1-7633-4a9f-9b03-509ca143dd33\">\n",
              "    <div class=\"colab-df-container\">\n",
              "      <div>\n",
              "<style scoped>\n",
              "    .dataframe tbody tr th:only-of-type {\n",
              "        vertical-align: middle;\n",
              "    }\n",
              "\n",
              "    .dataframe tbody tr th {\n",
              "        vertical-align: top;\n",
              "    }\n",
              "\n",
              "    .dataframe thead th {\n",
              "        text-align: right;\n",
              "    }\n",
              "</style>\n",
              "<table border=\"1\" class=\"dataframe\">\n",
              "  <thead>\n",
              "    <tr style=\"text-align: right;\">\n",
              "      <th></th>\n",
              "      <th>Lead Origin</th>\n",
              "      <th>Lead Source</th>\n",
              "      <th>Do Not Email</th>\n",
              "      <th>Converted</th>\n",
              "      <th>TotalVisits</th>\n",
              "      <th>Total Time Spent on Website</th>\n",
              "      <th>Page Views Per Visit</th>\n",
              "      <th>Last Activity</th>\n",
              "      <th>Country</th>\n",
              "      <th>Specialization</th>\n",
              "      <th>What is your current occupation</th>\n",
              "      <th>What matters most to you in choosing a course</th>\n",
              "      <th>Tags</th>\n",
              "      <th>City</th>\n",
              "      <th>A free copy of Mastering The Interview</th>\n",
              "      <th>Last Notable Activity</th>\n",
              "    </tr>\n",
              "  </thead>\n",
              "  <tbody>\n",
              "    <tr>\n",
              "      <th>0</th>\n",
              "      <td>API</td>\n",
              "      <td>Olark Chat</td>\n",
              "      <td>No</td>\n",
              "      <td>0</td>\n",
              "      <td>0.0</td>\n",
              "      <td>0</td>\n",
              "      <td>0.0</td>\n",
              "      <td>Page Visited on Website</td>\n",
              "      <td>NaN</td>\n",
              "      <td>NaN</td>\n",
              "      <td>Unemployed</td>\n",
              "      <td>Better Career Prospects</td>\n",
              "      <td>Interested in other courses</td>\n",
              "      <td>NaN</td>\n",
              "      <td>No</td>\n",
              "      <td>Modified</td>\n",
              "    </tr>\n",
              "    <tr>\n",
              "      <th>1</th>\n",
              "      <td>API</td>\n",
              "      <td>Organic Search</td>\n",
              "      <td>No</td>\n",
              "      <td>0</td>\n",
              "      <td>5.0</td>\n",
              "      <td>674</td>\n",
              "      <td>2.5</td>\n",
              "      <td>Email Opened</td>\n",
              "      <td>India</td>\n",
              "      <td>NaN</td>\n",
              "      <td>Unemployed</td>\n",
              "      <td>Better Career Prospects</td>\n",
              "      <td>Ringing</td>\n",
              "      <td>NaN</td>\n",
              "      <td>No</td>\n",
              "      <td>Email Opened</td>\n",
              "    </tr>\n",
              "    <tr>\n",
              "      <th>2</th>\n",
              "      <td>Landing Page Submission</td>\n",
              "      <td>Direct Traffic</td>\n",
              "      <td>No</td>\n",
              "      <td>1</td>\n",
              "      <td>2.0</td>\n",
              "      <td>1532</td>\n",
              "      <td>2.0</td>\n",
              "      <td>Email Opened</td>\n",
              "      <td>India</td>\n",
              "      <td>Business Administration</td>\n",
              "      <td>Student</td>\n",
              "      <td>Better Career Prospects</td>\n",
              "      <td>Will revert after reading the email</td>\n",
              "      <td>Mumbai</td>\n",
              "      <td>Yes</td>\n",
              "      <td>Email Opened</td>\n",
              "    </tr>\n",
              "    <tr>\n",
              "      <th>3</th>\n",
              "      <td>Landing Page Submission</td>\n",
              "      <td>Direct Traffic</td>\n",
              "      <td>No</td>\n",
              "      <td>0</td>\n",
              "      <td>1.0</td>\n",
              "      <td>305</td>\n",
              "      <td>1.0</td>\n",
              "      <td>Unreachable</td>\n",
              "      <td>India</td>\n",
              "      <td>Media and Advertising</td>\n",
              "      <td>Unemployed</td>\n",
              "      <td>Better Career Prospects</td>\n",
              "      <td>Ringing</td>\n",
              "      <td>Mumbai</td>\n",
              "      <td>No</td>\n",
              "      <td>Modified</td>\n",
              "    </tr>\n",
              "    <tr>\n",
              "      <th>4</th>\n",
              "      <td>Landing Page Submission</td>\n",
              "      <td>Google</td>\n",
              "      <td>No</td>\n",
              "      <td>1</td>\n",
              "      <td>2.0</td>\n",
              "      <td>1428</td>\n",
              "      <td>1.0</td>\n",
              "      <td>Converted to Lead</td>\n",
              "      <td>India</td>\n",
              "      <td>NaN</td>\n",
              "      <td>Unemployed</td>\n",
              "      <td>Better Career Prospects</td>\n",
              "      <td>Will revert after reading the email</td>\n",
              "      <td>Mumbai</td>\n",
              "      <td>No</td>\n",
              "      <td>Modified</td>\n",
              "    </tr>\n",
              "  </tbody>\n",
              "</table>\n",
              "</div>\n",
              "      <button class=\"colab-df-convert\" onclick=\"convertToInteractive('df-7ac520d1-7633-4a9f-9b03-509ca143dd33')\"\n",
              "              title=\"Convert this dataframe to an interactive table.\"\n",
              "              style=\"display:none;\">\n",
              "        \n",
              "  <svg xmlns=\"http://www.w3.org/2000/svg\" height=\"24px\"viewBox=\"0 0 24 24\"\n",
              "       width=\"24px\">\n",
              "    <path d=\"M0 0h24v24H0V0z\" fill=\"none\"/>\n",
              "    <path d=\"M18.56 5.44l.94 2.06.94-2.06 2.06-.94-2.06-.94-.94-2.06-.94 2.06-2.06.94zm-11 1L8.5 8.5l.94-2.06 2.06-.94-2.06-.94L8.5 2.5l-.94 2.06-2.06.94zm10 10l.94 2.06.94-2.06 2.06-.94-2.06-.94-.94-2.06-.94 2.06-2.06.94z\"/><path d=\"M17.41 7.96l-1.37-1.37c-.4-.4-.92-.59-1.43-.59-.52 0-1.04.2-1.43.59L10.3 9.45l-7.72 7.72c-.78.78-.78 2.05 0 2.83L4 21.41c.39.39.9.59 1.41.59.51 0 1.02-.2 1.41-.59l7.78-7.78 2.81-2.81c.8-.78.8-2.07 0-2.86zM5.41 20L4 18.59l7.72-7.72 1.47 1.35L5.41 20z\"/>\n",
              "  </svg>\n",
              "      </button>\n",
              "      \n",
              "  <style>\n",
              "    .colab-df-container {\n",
              "      display:flex;\n",
              "      flex-wrap:wrap;\n",
              "      gap: 12px;\n",
              "    }\n",
              "\n",
              "    .colab-df-convert {\n",
              "      background-color: #E8F0FE;\n",
              "      border: none;\n",
              "      border-radius: 50%;\n",
              "      cursor: pointer;\n",
              "      display: none;\n",
              "      fill: #1967D2;\n",
              "      height: 32px;\n",
              "      padding: 0 0 0 0;\n",
              "      width: 32px;\n",
              "    }\n",
              "\n",
              "    .colab-df-convert:hover {\n",
              "      background-color: #E2EBFA;\n",
              "      box-shadow: 0px 1px 2px rgba(60, 64, 67, 0.3), 0px 1px 3px 1px rgba(60, 64, 67, 0.15);\n",
              "      fill: #174EA6;\n",
              "    }\n",
              "\n",
              "    [theme=dark] .colab-df-convert {\n",
              "      background-color: #3B4455;\n",
              "      fill: #D2E3FC;\n",
              "    }\n",
              "\n",
              "    [theme=dark] .colab-df-convert:hover {\n",
              "      background-color: #434B5C;\n",
              "      box-shadow: 0px 1px 3px 1px rgba(0, 0, 0, 0.15);\n",
              "      filter: drop-shadow(0px 1px 2px rgba(0, 0, 0, 0.3));\n",
              "      fill: #FFFFFF;\n",
              "    }\n",
              "  </style>\n",
              "\n",
              "      <script>\n",
              "        const buttonEl =\n",
              "          document.querySelector('#df-7ac520d1-7633-4a9f-9b03-509ca143dd33 button.colab-df-convert');\n",
              "        buttonEl.style.display =\n",
              "          google.colab.kernel.accessAllowed ? 'block' : 'none';\n",
              "\n",
              "        async function convertToInteractive(key) {\n",
              "          const element = document.querySelector('#df-7ac520d1-7633-4a9f-9b03-509ca143dd33');\n",
              "          const dataTable =\n",
              "            await google.colab.kernel.invokeFunction('convertToInteractive',\n",
              "                                                     [key], {});\n",
              "          if (!dataTable) return;\n",
              "\n",
              "          const docLinkHtml = 'Like what you see? Visit the ' +\n",
              "            '<a target=\"_blank\" href=https://colab.research.google.com/notebooks/data_table.ipynb>data table notebook</a>'\n",
              "            + ' to learn more about interactive tables.';\n",
              "          element.innerHTML = '';\n",
              "          dataTable['output_type'] = 'display_data';\n",
              "          await google.colab.output.renderOutput(dataTable, element);\n",
              "          const docLink = document.createElement('div');\n",
              "          docLink.innerHTML = docLinkHtml;\n",
              "          element.appendChild(docLink);\n",
              "        }\n",
              "      </script>\n",
              "    </div>\n",
              "  </div>\n",
              "  "
            ]
          },
          "metadata": {},
          "execution_count": 30
        }
      ]
    },
    {
      "cell_type": "code",
      "source": [
        "round(100*(ls.isnull().sum()/len(ls.index)),2)"
      ],
      "metadata": {
        "colab": {
          "base_uri": "https://localhost:8080/"
        },
        "id": "Qy1dzYNnVsJl",
        "outputId": "ec3384ea-2933-4200-c73d-0f5b4463927c"
      },
      "execution_count": 31,
      "outputs": [
        {
          "output_type": "execute_result",
          "data": {
            "text/plain": [
              "Lead Origin                                       0.00\n",
              "Lead Source                                       0.39\n",
              "Do Not Email                                      0.00\n",
              "Converted                                         0.00\n",
              "TotalVisits                                       1.48\n",
              "Total Time Spent on Website                       0.00\n",
              "Page Views Per Visit                              1.48\n",
              "Last Activity                                     1.11\n",
              "Country                                          26.63\n",
              "Specialization                                   36.58\n",
              "What is your current occupation                  29.11\n",
              "What matters most to you in choosing a course    29.32\n",
              "Tags                                              0.00\n",
              "City                                             39.71\n",
              "A free copy of Mastering The Interview            0.00\n",
              "Last Notable Activity                             0.00\n",
              "dtype: float64"
            ]
          },
          "metadata": {},
          "execution_count": 31
        }
      ]
    },
    {
      "cell_type": "markdown",
      "source": [
        "Now moving to rows and deleting the rows that have more than 25% of missing values. Also I am storing the actual no.of.rows and columns if it is needed later"
      ],
      "metadata": {
        "id": "iZQdCvhWWSMP"
      }
    },
    {
      "cell_type": "code",
      "source": [
        "original_rows=ls.shape[0]\n",
        "original_columns=ls.shape[1]"
      ],
      "metadata": {
        "id": "baU3UjiSWqfc"
      },
      "execution_count": 32,
      "outputs": []
    },
    {
      "cell_type": "code",
      "source": [
        "print(round(((ls[ls.Converted==1].shape[0]/ls[ls.Converted==0].shape[0])*100),2),\"%\")"
      ],
      "metadata": {
        "colab": {
          "base_uri": "https://localhost:8080/"
        },
        "id": "3YwZ0XgtW5LH",
        "outputId": "e4254dca-08d2-457e-c7f3-331377f3f905"
      },
      "execution_count": 33,
      "outputs": [
        {
          "output_type": "stream",
          "name": "stdout",
          "text": [
            "62.7 %\n"
          ]
        }
      ]
    },
    {
      "cell_type": "code",
      "source": [
        "null_row=[] ##storing the index of >25% null rows in the null_Row List\n",
        "count=0\n",
        "for i in range(ls.shape[0]):\n",
        "    if (ls.iloc[i].isnull().sum())>((ls.shape[1])*.25):\n",
        "        null_row.append(i)\n",
        "        count=count+1\n",
        "print(count)"
      ],
      "metadata": {
        "colab": {
          "base_uri": "https://localhost:8080/"
        },
        "id": "RJvK1EfIXNlU",
        "outputId": "e9b60bb3-039a-4f9b-ff9a-9a3caaa87a38"
      },
      "execution_count": 34,
      "outputs": [
        {
          "output_type": "stream",
          "name": "stdout",
          "text": [
            "922\n"
          ]
        }
      ]
    },
    {
      "cell_type": "code",
      "source": [
        "print((count/original_rows)*100)"
      ],
      "metadata": {
        "colab": {
          "base_uri": "https://localhost:8080/"
        },
        "id": "YYUJ4vLqXjzq",
        "outputId": "544c55ae-ac0b-4590-d272-134bc9c3973d"
      },
      "execution_count": 35,
      "outputs": [
        {
          "output_type": "stream",
          "name": "stdout",
          "text": [
            "9.978354978354979\n"
          ]
        }
      ]
    },
    {
      "cell_type": "markdown",
      "source": [
        "From above result, it shows that only 9.97% of rows are getting impacted, so deleting these rows won't affect the analysis"
      ],
      "metadata": {
        "id": "lgON2rshXsZI"
      }
    },
    {
      "cell_type": "code",
      "source": [
        "for i in null_row:\n",
        "    ls.drop(i, axis=0, inplace=True)\n",
        "ls.shape"
      ],
      "metadata": {
        "colab": {
          "base_uri": "https://localhost:8080/"
        },
        "id": "FV7s6XgmXqX3",
        "outputId": "3f861d3e-7304-4a92-fc5a-22a81d9636a7"
      },
      "execution_count": 36,
      "outputs": [
        {
          "output_type": "execute_result",
          "data": {
            "text/plain": [
              "(8318, 16)"
            ]
          },
          "metadata": {},
          "execution_count": 36
        }
      ]
    },
    {
      "cell_type": "code",
      "source": [
        "print(original_rows-ls.shape[0])  #Number of rows deleted"
      ],
      "metadata": {
        "colab": {
          "base_uri": "https://localhost:8080/"
        },
        "id": "UCyntxMRYFTj",
        "outputId": "26d001fe-86cc-4b11-9222-0f93ac0010e5"
      },
      "execution_count": 37,
      "outputs": [
        {
          "output_type": "stream",
          "name": "stdout",
          "text": [
            "922\n"
          ]
        }
      ]
    },
    {
      "cell_type": "code",
      "source": [
        "print(round(((ls[ls.Converted==1].shape[0]/ls[ls.Converted==0].shape[0])*100),2),\"%\")"
      ],
      "metadata": {
        "colab": {
          "base_uri": "https://localhost:8080/"
        },
        "id": "qW6WCGZZYOdY",
        "outputId": "db2f2159-3b5d-4066-bca6-d9c3daf53f03"
      },
      "execution_count": 38,
      "outputs": [
        {
          "output_type": "stream",
          "name": "stdout",
          "text": [
            "70.52 %\n"
          ]
        }
      ]
    },
    {
      "cell_type": "code",
      "source": [
        "round(100*(ls.isnull().sum()/len(ls.index)), 2)"
      ],
      "metadata": {
        "colab": {
          "base_uri": "https://localhost:8080/"
        },
        "id": "fS5Xo_UrYVtS",
        "outputId": "da77b0f4-fa2c-4265-ac22-8e6bb70780b9"
      },
      "execution_count": 39,
      "outputs": [
        {
          "output_type": "execute_result",
          "data": {
            "text/plain": [
              "Lead Origin                                       0.00\n",
              "Lead Source                                       0.36\n",
              "Do Not Email                                      0.00\n",
              "Converted                                         0.00\n",
              "TotalVisits                                       0.61\n",
              "Total Time Spent on Website                       0.00\n",
              "Page Views Per Visit                              0.61\n",
              "Last Activity                                     0.43\n",
              "Country                                          18.50\n",
              "Specialization                                   29.71\n",
              "What is your current occupation                  22.20\n",
              "What matters most to you in choosing a course    22.43\n",
              "Tags                                              0.00\n",
              "City                                             33.29\n",
              "A free copy of Mastering The Interview            0.00\n",
              "Last Notable Activity                             0.00\n",
              "dtype: float64"
            ]
          },
          "metadata": {},
          "execution_count": 39
        }
      ]
    },
    {
      "cell_type": "markdown",
      "source": [
        "Null Values has reduced in new data frame and also converted 1 to not converted 0 is 70%"
      ],
      "metadata": {
        "id": "lR-CMKNZYotc"
      }
    },
    {
      "cell_type": "code",
      "source": [
        "ls[\"Lead Source\"].value_counts(normalize=True,dropna=False)*100"
      ],
      "metadata": {
        "colab": {
          "base_uri": "https://localhost:8080/"
        },
        "id": "ZhmKbE2hYoDB",
        "outputId": "60d595d4-3215-492e-e920-58e255aea6ca"
      },
      "execution_count": 40,
      "outputs": [
        {
          "output_type": "execute_result",
          "data": {
            "text/plain": [
              "Google               34.479442\n",
              "Direct Traffic       30.572253\n",
              "Organic Search       13.873527\n",
              "Olark Chat           11.024285\n",
              "Reference             5.878817\n",
              "Welingak Website      1.550854\n",
              "Referral Sites        1.502765\n",
              "Facebook              0.420774\n",
              "NaN                   0.360664\n",
              "bing                  0.072133\n",
              "google                0.060111\n",
              "Click2call            0.048088\n",
              "Social Media          0.024044\n",
              "Live Chat             0.024044\n",
              "Press_Release         0.024044\n",
              "Pay per Click Ads     0.012022\n",
              "blog                  0.012022\n",
              "WeLearn               0.012022\n",
              "welearnblog_Home      0.012022\n",
              "youtubechannel        0.012022\n",
              "testone               0.012022\n",
              "NC_EDM                0.012022\n",
              "Name: Lead Source, dtype: float64"
            ]
          },
          "metadata": {},
          "execution_count": 40
        }
      ]
    },
    {
      "cell_type": "markdown",
      "source": [
        "**\"Lead Source\"**:\n",
        "Let us impute missing \"Lead Source\" column with mode value and group the smaller contributing values together as they can't be much significant alone."
      ],
      "metadata": {
        "id": "dz94KC2BZbKr"
      }
    },
    {
      "cell_type": "code",
      "source": [
        "ls[\"Lead Source\"].fillna(ls[\"Lead Source\"].mode()[0],inplace=True)"
      ],
      "metadata": {
        "id": "u_EgB-MSZZpj"
      },
      "execution_count": 41,
      "outputs": []
    },
    {
      "cell_type": "code",
      "source": [
        "ls[\"Lead Source\"].value_counts(normalize=True,dropna=False)*100"
      ],
      "metadata": {
        "colab": {
          "base_uri": "https://localhost:8080/"
        },
        "id": "tclcs3vMZz9G",
        "outputId": "72df0284-d87f-4806-c995-11af60c1155f"
      },
      "execution_count": 42,
      "outputs": [
        {
          "output_type": "execute_result",
          "data": {
            "text/plain": [
              "Google               34.840106\n",
              "Direct Traffic       30.572253\n",
              "Organic Search       13.873527\n",
              "Olark Chat           11.024285\n",
              "Reference             5.878817\n",
              "Welingak Website      1.550854\n",
              "Referral Sites        1.502765\n",
              "Facebook              0.420774\n",
              "bing                  0.072133\n",
              "google                0.060111\n",
              "Click2call            0.048088\n",
              "Press_Release         0.024044\n",
              "Social Media          0.024044\n",
              "Live Chat             0.024044\n",
              "youtubechannel        0.012022\n",
              "testone               0.012022\n",
              "Pay per Click Ads     0.012022\n",
              "welearnblog_Home      0.012022\n",
              "WeLearn               0.012022\n",
              "blog                  0.012022\n",
              "NC_EDM                0.012022\n",
              "Name: Lead Source, dtype: float64"
            ]
          },
          "metadata": {},
          "execution_count": 42
        }
      ]
    },
    {
      "cell_type": "code",
      "source": [
        "ls[\"Lead Source\"]=ls[\"Lead Source\"].apply(lambda x:\"Google\" if x==\"google\" else (x if((x=='Google') | (x=='Direct Traffic') | (x=='Olark Chat') | (x=='Organic Search') | (x=='Reference')) else 'Other Web Sites') )\n",
        "ls[\"Lead Source\"].value_counts(normalize =True, dropna=False)*100"
      ],
      "metadata": {
        "colab": {
          "base_uri": "https://localhost:8080/"
        },
        "id": "ZwLDSWtGaBwA",
        "outputId": "535d95fd-dcb6-422f-a604-24525575e5a5"
      },
      "execution_count": 43,
      "outputs": [
        {
          "output_type": "execute_result",
          "data": {
            "text/plain": [
              "Google             34.900216\n",
              "Direct Traffic     30.572253\n",
              "Organic Search     13.873527\n",
              "Olark Chat         11.024285\n",
              "Reference           5.878817\n",
              "Other Web Sites     3.750902\n",
              "Name: Lead Source, dtype: float64"
            ]
          },
          "metadata": {},
          "execution_count": 43
        }
      ]
    },
    {
      "cell_type": "code",
      "source": [
        "round(100*(ls.isnull().sum()/len(ls.index)),2)"
      ],
      "metadata": {
        "colab": {
          "base_uri": "https://localhost:8080/"
        },
        "id": "Y-gh_FnKaRoU",
        "outputId": "00e83d6c-bbcd-484e-90a6-bc6f2651229b"
      },
      "execution_count": 44,
      "outputs": [
        {
          "output_type": "execute_result",
          "data": {
            "text/plain": [
              "Lead Origin                                       0.00\n",
              "Lead Source                                       0.00\n",
              "Do Not Email                                      0.00\n",
              "Converted                                         0.00\n",
              "TotalVisits                                       0.61\n",
              "Total Time Spent on Website                       0.00\n",
              "Page Views Per Visit                              0.61\n",
              "Last Activity                                     0.43\n",
              "Country                                          18.50\n",
              "Specialization                                   29.71\n",
              "What is your current occupation                  22.20\n",
              "What matters most to you in choosing a course    22.43\n",
              "Tags                                              0.00\n",
              "City                                             33.29\n",
              "A free copy of Mastering The Interview            0.00\n",
              "Last Notable Activity                             0.00\n",
              "dtype: float64"
            ]
          },
          "metadata": {},
          "execution_count": 44
        }
      ]
    },
    {
      "cell_type": "code",
      "source": [
        "ls.Specialization.value_counts(dropna=False)"
      ],
      "metadata": {
        "colab": {
          "base_uri": "https://localhost:8080/"
        },
        "id": "Yy2Leo8alOxC",
        "outputId": "b9e8623a-8c64-4c46-c933-671a48aa7a9a"
      },
      "execution_count": 45,
      "outputs": [
        {
          "output_type": "execute_result",
          "data": {
            "text/plain": [
              "NaN                                  2471\n",
              "Finance Management                    974\n",
              "Human Resource Management             847\n",
              "Marketing Management                  835\n",
              "Operations Management                 501\n",
              "Business Administration               402\n",
              "IT Projects Management                366\n",
              "Supply Chain Management               349\n",
              "Banking, Investment And Insurance     336\n",
              "Media and Advertising                 203\n",
              "Travel and Tourism                    202\n",
              "International Business                178\n",
              "Healthcare Management                 159\n",
              "Hospitality Management                113\n",
              "E-COMMERCE                            112\n",
              "Retail Management                     100\n",
              "Rural and Agribusiness                 73\n",
              "E-Business                             57\n",
              "Services Excellence                    40\n",
              "Name: Specialization, dtype: int64"
            ]
          },
          "metadata": {},
          "execution_count": 45
        }
      ]
    },
    {
      "cell_type": "markdown",
      "source": [
        "In the 'Specialization' column Filling NaN values as \"Not Provided\"  Since the percentage of missing values are high I am not imputing them."
      ],
      "metadata": {
        "id": "CZDpvT0zlajU"
      }
    },
    {
      "cell_type": "code",
      "source": [
        "ls['Specialization'] = ls['Specialization'].fillna('Not Provided')"
      ],
      "metadata": {
        "id": "KQ1OedoClZ_t"
      },
      "execution_count": 46,
      "outputs": []
    },
    {
      "cell_type": "code",
      "source": [
        "ls[\"What is your current occupation\"].value_counts(dropna=False)"
      ],
      "metadata": {
        "colab": {
          "base_uri": "https://localhost:8080/"
        },
        "id": "VZNhKOExl3wp",
        "outputId": "9cb146c8-b8fa-4777-d9db-eb335f5e9ac3"
      },
      "execution_count": 47,
      "outputs": [
        {
          "output_type": "execute_result",
          "data": {
            "text/plain": [
              "Unemployed              5531\n",
              "NaN                     1847\n",
              "Working Professional     696\n",
              "Student                  210\n",
              "Other                     16\n",
              "Housewife                 10\n",
              "Businessman                8\n",
              "Name: What is your current occupation, dtype: int64"
            ]
          },
          "metadata": {},
          "execution_count": 47
        }
      ]
    },
    {
      "cell_type": "markdown",
      "source": [
        "Imputing 'NaN' value of \"What is your current occupation\" with mode value"
      ],
      "metadata": {
        "id": "Si7VbjmRl-hE"
      }
    },
    {
      "cell_type": "code",
      "source": [
        "ls[\"What is your current occupation\"].fillna((ls[\"What is your current occupation\"].mode()[0]),inplace=True) "
      ],
      "metadata": {
        "id": "WvfIeqCPmMXP"
      },
      "execution_count": 48,
      "outputs": []
    },
    {
      "cell_type": "code",
      "source": [
        "ls[\"What is your current occupation\"].value_counts(dropna=False)"
      ],
      "metadata": {
        "colab": {
          "base_uri": "https://localhost:8080/"
        },
        "id": "QfqQ8R7kmTT4",
        "outputId": "fadb5736-72af-4940-b8ff-732e8492acc7"
      },
      "execution_count": 49,
      "outputs": [
        {
          "output_type": "execute_result",
          "data": {
            "text/plain": [
              "Unemployed              7378\n",
              "Working Professional     696\n",
              "Student                  210\n",
              "Other                     16\n",
              "Housewife                 10\n",
              "Businessman                8\n",
              "Name: What is your current occupation, dtype: int64"
            ]
          },
          "metadata": {},
          "execution_count": 49
        }
      ]
    },
    {
      "cell_type": "code",
      "source": [
        "ls[\"What matters most to you in choosing a course\"].value_counts(dropna=False)"
      ],
      "metadata": {
        "colab": {
          "base_uri": "https://localhost:8080/"
        },
        "id": "gNz9OHU5mZUR",
        "outputId": "55407e6c-94a4-4eb6-d132-5bbe8835bd6a"
      },
      "execution_count": 50,
      "outputs": [
        {
          "output_type": "execute_result",
          "data": {
            "text/plain": [
              "Better Career Prospects      6449\n",
              "NaN                          1866\n",
              "Flexibility & Convenience       2\n",
              "Other                           1\n",
              "Name: What matters most to you in choosing a course, dtype: int64"
            ]
          },
          "metadata": {},
          "execution_count": 50
        }
      ]
    },
    {
      "cell_type": "markdown",
      "source": [
        "Filling NaN value of \"What matters most to you in choosing a course\" as \"Not Provided\". I am not inputing it with mode as the percentage of missing values are high"
      ],
      "metadata": {
        "id": "0tiP6QdnmiMM"
      }
    },
    {
      "cell_type": "code",
      "source": [
        "ls[\"What matters most to you in choosing a course\"] = ls[\"What matters most to you in choosing a course\"].fillna('Not Provided')"
      ],
      "metadata": {
        "id": "SZenE3-bmtN5"
      },
      "execution_count": 51,
      "outputs": []
    },
    {
      "cell_type": "code",
      "source": [
        "ls[\"What matters most to you in choosing a course\"].value_counts(dropna=False)"
      ],
      "metadata": {
        "colab": {
          "base_uri": "https://localhost:8080/"
        },
        "id": "-_MrjIkqmzcV",
        "outputId": "8b5e2a6d-f0f7-4015-e092-355848590f2c"
      },
      "execution_count": 52,
      "outputs": [
        {
          "output_type": "execute_result",
          "data": {
            "text/plain": [
              "Better Career Prospects      6449\n",
              "Not Provided                 1866\n",
              "Flexibility & Convenience       2\n",
              "Other                           1\n",
              "Name: What matters most to you in choosing a course, dtype: int64"
            ]
          },
          "metadata": {},
          "execution_count": 52
        }
      ]
    },
    {
      "cell_type": "code",
      "source": [
        "ls.Country.value_counts(dropna=False)"
      ],
      "metadata": {
        "colab": {
          "base_uri": "https://localhost:8080/"
        },
        "id": "BBDWq3Nbm7sE",
        "outputId": "db0e21bf-27ea-4374-dd89-aee5dc43e97b"
      },
      "execution_count": 53,
      "outputs": [
        {
          "output_type": "execute_result",
          "data": {
            "text/plain": [
              "India                   6492\n",
              "NaN                     1539\n",
              "United States             69\n",
              "United Arab Emirates      53\n",
              "Singapore                 24\n",
              "Saudi Arabia              21\n",
              "United Kingdom            15\n",
              "Australia                 13\n",
              "Qatar                     10\n",
              "Bahrain                    7\n",
              "Hong Kong                  7\n",
              "Oman                       6\n",
              "France                     6\n",
              "unknown                    5\n",
              "Kuwait                     4\n",
              "South Africa               4\n",
              "Canada                     4\n",
              "Nigeria                    4\n",
              "Germany                    4\n",
              "Sweden                     3\n",
              "Philippines                2\n",
              "Uganda                     2\n",
              "Italy                      2\n",
              "Bangladesh                 2\n",
              "Netherlands                2\n",
              "Asia/Pacific Region        2\n",
              "China                      2\n",
              "Belgium                    2\n",
              "Ghana                      2\n",
              "Kenya                      1\n",
              "Sri Lanka                  1\n",
              "Tanzania                   1\n",
              "Malaysia                   1\n",
              "Liberia                    1\n",
              "Switzerland                1\n",
              "Denmark                    1\n",
              "Russia                     1\n",
              "Vietnam                    1\n",
              "Indonesia                  1\n",
              "Name: Country, dtype: int64"
            ]
          },
          "metadata": {},
          "execution_count": 53
        }
      ]
    },
    {
      "cell_type": "code",
      "source": [
        "ls[\"Country\"].fillna(ls[\"Country\"].mode()[0],inplace=True)\n",
        "ls[\"Country\"].value_counts()"
      ],
      "metadata": {
        "colab": {
          "base_uri": "https://localhost:8080/"
        },
        "id": "Qzs1LM1QnCl7",
        "outputId": "9c9cc40e-8008-4280-beed-696aaa0aaa41"
      },
      "execution_count": 54,
      "outputs": [
        {
          "output_type": "execute_result",
          "data": {
            "text/plain": [
              "India                   8031\n",
              "United States             69\n",
              "United Arab Emirates      53\n",
              "Singapore                 24\n",
              "Saudi Arabia              21\n",
              "United Kingdom            15\n",
              "Australia                 13\n",
              "Qatar                     10\n",
              "Hong Kong                  7\n",
              "Bahrain                    7\n",
              "Oman                       6\n",
              "France                     6\n",
              "unknown                    5\n",
              "South Africa               4\n",
              "Nigeria                    4\n",
              "Germany                    4\n",
              "Kuwait                     4\n",
              "Canada                     4\n",
              "Sweden                     3\n",
              "China                      2\n",
              "Asia/Pacific Region        2\n",
              "Uganda                     2\n",
              "Bangladesh                 2\n",
              "Italy                      2\n",
              "Belgium                    2\n",
              "Netherlands                2\n",
              "Ghana                      2\n",
              "Philippines                2\n",
              "Russia                     1\n",
              "Switzerland                1\n",
              "Vietnam                    1\n",
              "Denmark                    1\n",
              "Tanzania                   1\n",
              "Liberia                    1\n",
              "Malaysia                   1\n",
              "Kenya                      1\n",
              "Sri Lanka                  1\n",
              "Indonesia                  1\n",
              "Name: Country, dtype: int64"
            ]
          },
          "metadata": {},
          "execution_count": 54
        }
      ]
    },
    {
      "cell_type": "markdown",
      "source": [
        "In the country column 'Nan' values are filled with \"India\" and all countries other than India are grouped just as \"Foriegn Country\" for better analysis"
      ],
      "metadata": {
        "id": "wi-eu5JjnQB1"
      }
    },
    {
      "cell_type": "code",
      "source": [
        "ls[\"Country\"]=ls.Country.apply(lambda x:x if x==\"India\" else \"Foriegn Country\")\n",
        "ls.Country.value_counts(dropna=False)"
      ],
      "metadata": {
        "colab": {
          "base_uri": "https://localhost:8080/"
        },
        "id": "y0NzU9WXnOgR",
        "outputId": "ba6c5312-ab1e-489a-c8ec-7385d8c1d9aa"
      },
      "execution_count": 55,
      "outputs": [
        {
          "output_type": "execute_result",
          "data": {
            "text/plain": [
              "India              8031\n",
              "Foriegn Country     287\n",
              "Name: Country, dtype: int64"
            ]
          },
          "metadata": {},
          "execution_count": 55
        }
      ]
    },
    {
      "cell_type": "code",
      "source": [
        "ls.City.value_counts(dropna=False)"
      ],
      "metadata": {
        "colab": {
          "base_uri": "https://localhost:8080/"
        },
        "id": "nW8K2ThHntpU",
        "outputId": "ba88bd8d-17b9-4eb7-b62f-b836bc2f4a0b"
      },
      "execution_count": 56,
      "outputs": [
        {
          "output_type": "execute_result",
          "data": {
            "text/plain": [
              "Mumbai                         3211\n",
              "NaN                            2769\n",
              "Thane & Outskirts               752\n",
              "Other Cities                    684\n",
              "Other Cities of Maharashtra     450\n",
              "Other Metro Cities              378\n",
              "Tier II Cities                   74\n",
              "Name: City, dtype: int64"
            ]
          },
          "metadata": {},
          "execution_count": 56
        }
      ]
    },
    {
      "cell_type": "code",
      "source": [
        "# Grouped all non-mumbai and Maharashtra cities\n",
        "ls.loc[(ls.City=='Thane & Outskirts') | (ls.City=='Other Cities of Maharashtra'),'City']='Other Maharashtra Cities'\n",
        "\n",
        "# Grouped all the other non Maharashtra cities\n",
        "ls.loc[(ls.City=='Other Cities') | (ls.City=='Other Metro Cities') | (ls.City=='Tier II Cities'),'City']='Non Maharashtra Cities'"
      ],
      "metadata": {
        "id": "w9W4KjjTn3HV"
      },
      "execution_count": 57,
      "outputs": []
    },
    {
      "cell_type": "code",
      "source": [
        "ls.City.value_counts(normalize=True)*100"
      ],
      "metadata": {
        "colab": {
          "base_uri": "https://localhost:8080/"
        },
        "id": "Ety2shutoXNN",
        "outputId": "ae66e9f9-33a5-4045-be72-9c9b07441a55"
      },
      "execution_count": 58,
      "outputs": [
        {
          "output_type": "execute_result",
          "data": {
            "text/plain": [
              "Mumbai                      57.866282\n",
              "Other Maharashtra Cities    21.661561\n",
              "Non Maharashtra Cities      20.472157\n",
              "Name: City, dtype: float64"
            ]
          },
          "metadata": {},
          "execution_count": 58
        }
      ]
    },
    {
      "cell_type": "markdown",
      "source": [
        "**City Column**\n",
        "\n",
        "-->Created a single category group for all cities in Maharashtra (except Mumbai)\n",
        "\n",
        "-->Created Anoter category group for all other non Maharashtra cities\n",
        "\n",
        "-->Also checked the proportion in which the count is distributed among these cities\n",
        "\n",
        "-->Now we can distribute the 'Nan' values of City Column in the same proportion among these categories"
      ],
      "metadata": {
        "id": "ApQ9l_7dogvs"
      }
    },
    {
      "cell_type": "code",
      "source": [
        "ls[\"City\"].fillna((ls[\"City\"].mode()[0]),inplace=True) "
      ],
      "metadata": {
        "id": "ciPn3HSapL32"
      },
      "execution_count": 59,
      "outputs": []
    },
    {
      "cell_type": "code",
      "source": [
        "ls.City.value_counts(normalize=True)*100"
      ],
      "metadata": {
        "colab": {
          "base_uri": "https://localhost:8080/"
        },
        "id": "AkyGedsZpt-s",
        "outputId": "75147f24-d3c8-4a19-b02f-d26722526168"
      },
      "execution_count": 60,
      "outputs": [
        {
          "output_type": "execute_result",
          "data": {
            "text/plain": [
              "Mumbai                      71.892282\n",
              "Other Maharashtra Cities    14.450589\n",
              "Non Maharashtra Cities      13.657129\n",
              "Name: City, dtype: float64"
            ]
          },
          "metadata": {},
          "execution_count": 60
        }
      ]
    },
    {
      "cell_type": "code",
      "source": [
        "ls.City.value_counts(dropna=False)"
      ],
      "metadata": {
        "colab": {
          "base_uri": "https://localhost:8080/"
        },
        "id": "Y3fspHkIp3TD",
        "outputId": "fce0fc2f-506f-4a18-aedb-8675fa6bba8b"
      },
      "execution_count": 61,
      "outputs": [
        {
          "output_type": "execute_result",
          "data": {
            "text/plain": [
              "Mumbai                      5980\n",
              "Other Maharashtra Cities    1202\n",
              "Non Maharashtra Cities      1136\n",
              "Name: City, dtype: int64"
            ]
          },
          "metadata": {},
          "execution_count": 61
        }
      ]
    },
    {
      "cell_type": "code",
      "source": [
        "ls[\"Last Activity\"].value_counts(dropna=False)"
      ],
      "metadata": {
        "colab": {
          "base_uri": "https://localhost:8080/"
        },
        "id": "ntklTSU3p9oX",
        "outputId": "75489ec7-2704-4472-f228-21ecbdb42444"
      },
      "execution_count": 62,
      "outputs": [
        {
          "output_type": "execute_result",
          "data": {
            "text/plain": [
              "Email Opened                    3193\n",
              "SMS Sent                        2665\n",
              "Page Visited on Website          626\n",
              "Olark Chat Conversation          544\n",
              "Converted to Lead                428\n",
              "Email Bounced                    293\n",
              "Email Link Clicked               221\n",
              "Form Submitted on Website        116\n",
              "Unreachable                       90\n",
              "Unsubscribed                      60\n",
              "NaN                               36\n",
              "Had a Phone Conversation          29\n",
              "View in browser link Clicked       6\n",
              "Approached upfront                 6\n",
              "Email Received                     2\n",
              "Email Marked Spam                  2\n",
              "Visited Booth in Tradeshow         1\n",
              "Name: Last Activity, dtype: int64"
            ]
          },
          "metadata": {},
          "execution_count": 62
        }
      ]
    },
    {
      "cell_type": "code",
      "source": [
        "ls[\"Last Activity\"].fillna((ls[\"Last Activity\"].mode()[0]),inplace=True)"
      ],
      "metadata": {
        "id": "zHfYPdJqqPEt"
      },
      "execution_count": 63,
      "outputs": []
    },
    {
      "cell_type": "code",
      "source": [
        "ls[\"Last Activity\"].value_counts(dropna=False)"
      ],
      "metadata": {
        "colab": {
          "base_uri": "https://localhost:8080/"
        },
        "id": "c2ml2EsuqX7f",
        "outputId": "2aaaa9c2-2721-475d-9ad1-5054fb2c6e07"
      },
      "execution_count": 64,
      "outputs": [
        {
          "output_type": "execute_result",
          "data": {
            "text/plain": [
              "Email Opened                    3229\n",
              "SMS Sent                        2665\n",
              "Page Visited on Website          626\n",
              "Olark Chat Conversation          544\n",
              "Converted to Lead                428\n",
              "Email Bounced                    293\n",
              "Email Link Clicked               221\n",
              "Form Submitted on Website        116\n",
              "Unreachable                       90\n",
              "Unsubscribed                      60\n",
              "Had a Phone Conversation          29\n",
              "View in browser link Clicked       6\n",
              "Approached upfront                 6\n",
              "Email Received                     2\n",
              "Email Marked Spam                  2\n",
              "Visited Booth in Tradeshow         1\n",
              "Name: Last Activity, dtype: int64"
            ]
          },
          "metadata": {},
          "execution_count": 64
        }
      ]
    },
    {
      "cell_type": "code",
      "source": [
        "round(100*(ls.isnull().sum()/len(ls.index)), 2)"
      ],
      "metadata": {
        "colab": {
          "base_uri": "https://localhost:8080/"
        },
        "id": "homJhhwxqhFa",
        "outputId": "8ba955f1-71ce-4d93-bde9-e60c68d366e2"
      },
      "execution_count": 65,
      "outputs": [
        {
          "output_type": "execute_result",
          "data": {
            "text/plain": [
              "Lead Origin                                      0.00\n",
              "Lead Source                                      0.00\n",
              "Do Not Email                                     0.00\n",
              "Converted                                        0.00\n",
              "TotalVisits                                      0.61\n",
              "Total Time Spent on Website                      0.00\n",
              "Page Views Per Visit                             0.61\n",
              "Last Activity                                    0.00\n",
              "Country                                          0.00\n",
              "Specialization                                   0.00\n",
              "What is your current occupation                  0.00\n",
              "What matters most to you in choosing a course    0.00\n",
              "Tags                                             0.00\n",
              "City                                             0.00\n",
              "A free copy of Mastering The Interview           0.00\n",
              "Last Notable Activity                            0.00\n",
              "dtype: float64"
            ]
          },
          "metadata": {},
          "execution_count": 65
        }
      ]
    },
    {
      "cell_type": "code",
      "source": [
        "#TOTAL VISITS\n",
        "ls.TotalVisits.plot(figsize=(3,3), color='darkgreen')"
      ],
      "metadata": {
        "id": "AdM28RFJrv7M",
        "outputId": "4699aeb3-6df4-42ea-8d6c-a93a4c3a4aae",
        "colab": {
          "base_uri": "https://localhost:8080/",
          "height": 308
        }
      },
      "execution_count": 66,
      "outputs": [
        {
          "output_type": "execute_result",
          "data": {
            "text/plain": [
              "<Axes: >"
            ]
          },
          "metadata": {},
          "execution_count": 66
        },
        {
          "output_type": "display_data",
          "data": {
            "text/plain": [
              "<Figure size 300x300 with 1 Axes>"
            ],
            "image/png": "[encoded data removed]"
          },
          "metadata": {}
        }
      ]
    },
    {
      "cell_type": "code",
      "source": [
        "ls.TotalVisits.median()"
      ],
      "metadata": {
        "id": "n3nmZvCor7X0",
        "outputId": "8abc7f79-3e4e-4b22-a5bc-938aab493f70",
        "colab": {
          "base_uri": "https://localhost:8080/"
        }
      },
      "execution_count": 67,
      "outputs": [
        {
          "output_type": "execute_result",
          "data": {
            "text/plain": [
              "3.0"
            ]
          },
          "metadata": {},
          "execution_count": 67
        }
      ]
    },
    {
      "cell_type": "code",
      "source": [
        "ls.TotalVisits.describe()"
      ],
      "metadata": {
        "id": "YlAhZRkhsyO7",
        "outputId": "702cf678-1f5c-4e48-feba-6d4b27d41877",
        "colab": {
          "base_uri": "https://localhost:8080/"
        }
      },
      "execution_count": 68,
      "outputs": [
        {
          "output_type": "execute_result",
          "data": {
            "text/plain": [
              "count    8267.000000\n",
              "mean        3.785533\n",
              "std         4.964071\n",
              "min         0.000000\n",
              "25%         2.000000\n",
              "50%         3.000000\n",
              "75%         5.000000\n",
              "max       251.000000\n",
              "Name: TotalVisits, dtype: float64"
            ]
          },
          "metadata": {},
          "execution_count": 68
        }
      ]
    },
    {
      "cell_type": "markdown",
      "source": [
        "As there are outliers in \"TotalVisits\" column where max value is 251, imputing the missing values with median and the datatype is changed to Int as the count value can't be float"
      ],
      "metadata": {
        "id": "_AFmx02ps54a"
      }
    },
    {
      "cell_type": "code",
      "source": [
        "ls.TotalVisits.fillna(ls.TotalVisits.median(), inplace=True)\n",
        "ls.TotalVisits = ls.TotalVisits.astype('int')"
      ],
      "metadata": {
        "id": "7g_owavis5Mf"
      },
      "execution_count": 69,
      "outputs": []
    },
    {
      "cell_type": "code",
      "source": [
        "ls[\"Page Views Per Visit\"].fillna(ls[\"Page Views Per Visit\"].median(),inplace=True) #Imputed with median\n",
        "ls.head()"
      ],
      "metadata": {
        "id": "sNXKfDKEtcMj",
        "outputId": "934477fb-98a3-4f28-f1a6-0b9737f66b92",
        "colab": {
          "base_uri": "https://localhost:8080/",
          "height": 565
        }
      },
      "execution_count": 70,
      "outputs": [
        {
          "output_type": "execute_result",
          "data": {
            "text/plain": [
              "               Lead Origin     Lead Source Do Not Email  Converted  \\\n",
              "0                      API      Olark Chat           No          0   \n",
              "1                      API  Organic Search           No          0   \n",
              "2  Landing Page Submission  Direct Traffic           No          1   \n",
              "3  Landing Page Submission  Direct Traffic           No          0   \n",
              "4  Landing Page Submission          Google           No          1   \n",
              "\n",
              "   TotalVisits  Total Time Spent on Website  Page Views Per Visit  \\\n",
              "0            0                            0                   0.0   \n",
              "1            5                          674                   2.5   \n",
              "2            2                         1532                   2.0   \n",
              "3            1                          305                   1.0   \n",
              "4            2                         1428                   1.0   \n",
              "\n",
              "             Last Activity Country           Specialization  \\\n",
              "0  Page Visited on Website   India             Not Provided   \n",
              "1             Email Opened   India             Not Provided   \n",
              "2             Email Opened   India  Business Administration   \n",
              "3              Unreachable   India    Media and Advertising   \n",
              "4        Converted to Lead   India             Not Provided   \n",
              "\n",
              "  What is your current occupation  \\\n",
              "0                      Unemployed   \n",
              "1                      Unemployed   \n",
              "2                         Student   \n",
              "3                      Unemployed   \n",
              "4                      Unemployed   \n",
              "\n",
              "  What matters most to you in choosing a course  \\\n",
              "0                       Better Career Prospects   \n",
              "1                       Better Career Prospects   \n",
              "2                       Better Career Prospects   \n",
              "3                       Better Career Prospects   \n",
              "4                       Better Career Prospects   \n",
              "\n",
              "                                  Tags    City  \\\n",
              "0          Interested in other courses  Mumbai   \n",
              "1                              Ringing  Mumbai   \n",
              "2  Will revert after reading the email  Mumbai   \n",
              "3                              Ringing  Mumbai   \n",
              "4  Will revert after reading the email  Mumbai   \n",
              "\n",
              "  A free copy of Mastering The Interview Last Notable Activity  \n",
              "0                                     No              Modified  \n",
              "1                                     No          Email Opened  \n",
              "2                                    Yes          Email Opened  \n",
              "3                                     No              Modified  \n",
              "4                                     No              Modified  "
            ],
            "text/html": [
              "\n",
              "  <div id=\"df-833b1223-ee4e-4f00-a4fe-1ca847d44a81\">\n",
              "    <div class=\"colab-df-container\">\n",
              "      <div>\n",
              "<style scoped>\n",
              "    .dataframe tbody tr th:only-of-type {\n",
              "        vertical-align: middle;\n",
              "    }\n",
              "\n",
              "    .dataframe tbody tr th {\n",
              "        vertical-align: top;\n",
              "    }\n",
              "\n",
              "    .dataframe thead th {\n",
              "        text-align: right;\n",
              "    }\n",
              "</style>\n",
              "<table border=\"1\" class=\"dataframe\">\n",
              "  <thead>\n",
              "    <tr style=\"text-align: right;\">\n",
              "      <th></th>\n",
              "      <th>Lead Origin</th>\n",
              "      <th>Lead Source</th>\n",
              "      <th>Do Not Email</th>\n",
              "      <th>Converted</th>\n",
              "      <th>TotalVisits</th>\n",
              "      <th>Total Time Spent on Website</th>\n",
              "      <th>Page Views Per Visit</th>\n",
              "      <th>Last Activity</th>\n",
              "      <th>Country</th>\n",
              "      <th>Specialization</th>\n",
              "      <th>What is your current occupation</th>\n",
              "      <th>What matters most to you in choosing a course</th>\n",
              "      <th>Tags</th>\n",
              "      <th>City</th>\n",
              "      <th>A free copy of Mastering The Interview</th>\n",
              "      <th>Last Notable Activity</th>\n",
              "    </tr>\n",
              "  </thead>\n",
              "  <tbody>\n",
              "    <tr>\n",
              "      <th>0</th>\n",
              "      <td>API</td>\n",
              "      <td>Olark Chat</td>\n",
              "      <td>No</td>\n",
              "      <td>0</td>\n",
              "      <td>0</td>\n",
              "      <td>0</td>\n",
              "      <td>0.0</td>\n",
              "      <td>Page Visited on Website</td>\n",
              "      <td>India</td>\n",
              "      <td>Not Provided</td>\n",
              "      <td>Unemployed</td>\n",
              "      <td>Better Career Prospects</td>\n",
              "      <td>Interested in other courses</td>\n",
              "      <td>Mumbai</td>\n",
              "      <td>No</td>\n",
              "      <td>Modified</td>\n",
              "    </tr>\n",
              "    <tr>\n",
              "      <th>1</th>\n",
              "      <td>API</td>\n",
              "      <td>Organic Search</td>\n",
              "      <td>No</td>\n",
              "      <td>0</td>\n",
              "      <td>5</td>\n",
              "      <td>674</td>\n",
              "      <td>2.5</td>\n",
              "      <td>Email Opened</td>\n",
              "      <td>India</td>\n",
              "      <td>Not Provided</td>\n",
              "      <td>Unemployed</td>\n",
              "      <td>Better Career Prospects</td>\n",
              "      <td>Ringing</td>\n",
              "      <td>Mumbai</td>\n",
              "      <td>No</td>\n",
              "      <td>Email Opened</td>\n",
              "    </tr>\n",
              "    <tr>\n",
              "      <th>2</th>\n",
              "      <td>Landing Page Submission</td>\n",
              "      <td>Direct Traffic</td>\n",
              "      <td>No</td>\n",
              "      <td>1</td>\n",
              "      <td>2</td>\n",
              "      <td>1532</td>\n",
              "      <td>2.0</td>\n",
              "      <td>Email Opened</td>\n",
              "      <td>India</td>\n",
              "      <td>Business Administration</td>\n",
              "      <td>Student</td>\n",
              "      <td>Better Career Prospects</td>\n",
              "      <td>Will revert after reading the email</td>\n",
              "      <td>Mumbai</td>\n",
              "      <td>Yes</td>\n",
              "      <td>Email Opened</td>\n",
              "    </tr>\n",
              "    <tr>\n",
              "      <th>3</th>\n",
              "      <td>Landing Page Submission</td>\n",
              "      <td>Direct Traffic</td>\n",
              "      <td>No</td>\n",
              "      <td>0</td>\n",
              "      <td>1</td>\n",
              "      <td>305</td>\n",
              "      <td>1.0</td>\n",
              "      <td>Unreachable</td>\n",
              "      <td>India</td>\n",
              "      <td>Media and Advertising</td>\n",
              "      <td>Unemployed</td>\n",
              "      <td>Better Career Prospects</td>\n",
              "      <td>Ringing</td>\n",
              "      <td>Mumbai</td>\n",
              "      <td>No</td>\n",
              "      <td>Modified</td>\n",
              "    </tr>\n",
              "    <tr>\n",
              "      <th>4</th>\n",
              "      <td>Landing Page Submission</td>\n",
              "      <td>Google</td>\n",
              "      <td>No</td>\n",
              "      <td>1</td>\n",
              "      <td>2</td>\n",
              "      <td>1428</td>\n",
              "      <td>1.0</td>\n",
              "      <td>Converted to Lead</td>\n",
              "      <td>India</td>\n",
              "      <td>Not Provided</td>\n",
              "      <td>Unemployed</td>\n",
              "      <td>Better Career Prospects</td>\n",
              "      <td>Will revert after reading the email</td>\n",
              "      <td>Mumbai</td>\n",
              "      <td>No</td>\n",
              "      <td>Modified</td>\n",
              "    </tr>\n",
              "  </tbody>\n",
              "</table>\n",
              "</div>\n",
              "      <button class=\"colab-df-convert\" onclick=\"convertToInteractive('df-833b1223-ee4e-4f00-a4fe-1ca847d44a81')\"\n",
              "              title=\"Convert this dataframe to an interactive table.\"\n",
              "              style=\"display:none;\">\n",
              "        \n",
              "  <svg xmlns=\"http://www.w3.org/2000/svg\" height=\"24px\"viewBox=\"0 0 24 24\"\n",
              "       width=\"24px\">\n",
              "    <path d=\"M0 0h24v24H0V0z\" fill=\"none\"/>\n",
              "    <path d=\"M18.56 5.44l.94 2.06.94-2.06 2.06-.94-2.06-.94-.94-2.06-.94 2.06-2.06.94zm-11 1L8.5 8.5l.94-2.06 2.06-.94-2.06-.94L8.5 2.5l-.94 2.06-2.06.94zm10 10l.94 2.06.94-2.06 2.06-.94-2.06-.94-.94-2.06-.94 2.06-2.06.94z\"/><path d=\"M17.41 7.96l-1.37-1.37c-.4-.4-.92-.59-1.43-.59-.52 0-1.04.2-1.43.59L10.3 9.45l-7.72 7.72c-.78.78-.78 2.05 0 2.83L4 21.41c.39.39.9.59 1.41.59.51 0 1.02-.2 1.41-.59l7.78-7.78 2.81-2.81c.8-.78.8-2.07 0-2.86zM5.41 20L4 18.59l7.72-7.72 1.47 1.35L5.41 20z\"/>\n",
              "  </svg>\n",
              "      </button>\n",
              "      \n",
              "  <style>\n",
              "    .colab-df-container {\n",
              "      display:flex;\n",
              "      flex-wrap:wrap;\n",
              "      gap: 12px;\n",
              "    }\n",
              "\n",
              "    .colab-df-convert {\n",
              "      background-color: #E8F0FE;\n",
              "      border: none;\n",
              "      border-radius: 50%;\n",
              "      cursor: pointer;\n",
              "      display: none;\n",
              "      fill: #1967D2;\n",
              "      height: 32px;\n",
              "      padding: 0 0 0 0;\n",
              "      width: 32px;\n",
              "    }\n",
              "\n",
              "    .colab-df-convert:hover {\n",
              "      background-color: #E2EBFA;\n",
              "      box-shadow: 0px 1px 2px rgba(60, 64, 67, 0.3), 0px 1px 3px 1px rgba(60, 64, 67, 0.15);\n",
              "      fill: #174EA6;\n",
              "    }\n",
              "\n",
              "    [theme=dark] .colab-df-convert {\n",
              "      background-color: #3B4455;\n",
              "      fill: #D2E3FC;\n",
              "    }\n",
              "\n",
              "    [theme=dark] .colab-df-convert:hover {\n",
              "      background-color: #434B5C;\n",
              "      box-shadow: 0px 1px 3px 1px rgba(0, 0, 0, 0.15);\n",
              "      filter: drop-shadow(0px 1px 2px rgba(0, 0, 0, 0.3));\n",
              "      fill: #FFFFFF;\n",
              "    }\n",
              "  </style>\n",
              "\n",
              "      <script>\n",
              "        const buttonEl =\n",
              "          document.querySelector('#df-833b1223-ee4e-4f00-a4fe-1ca847d44a81 button.colab-df-convert');\n",
              "        buttonEl.style.display =\n",
              "          google.colab.kernel.accessAllowed ? 'block' : 'none';\n",
              "\n",
              "        async function convertToInteractive(key) {\n",
              "          const element = document.querySelector('#df-833b1223-ee4e-4f00-a4fe-1ca847d44a81');\n",
              "          const dataTable =\n",
              "            await google.colab.kernel.invokeFunction('convertToInteractive',\n",
              "                                                     [key], {});\n",
              "          if (!dataTable) return;\n",
              "\n",
              "          const docLinkHtml = 'Like what you see? Visit the ' +\n",
              "            '<a target=\"_blank\" href=https://colab.research.google.com/notebooks/data_table.ipynb>data table notebook</a>'\n",
              "            + ' to learn more about interactive tables.';\n",
              "          element.innerHTML = '';\n",
              "          dataTable['output_type'] = 'display_data';\n",
              "          await google.colab.output.renderOutput(dataTable, element);\n",
              "          const docLink = document.createElement('div');\n",
              "          docLink.innerHTML = docLinkHtml;\n",
              "          element.appendChild(docLink);\n",
              "        }\n",
              "      </script>\n",
              "    </div>\n",
              "  </div>\n",
              "  "
            ]
          },
          "metadata": {},
          "execution_count": 70
        }
      ]
    },
    {
      "cell_type": "code",
      "source": [
        "ls.info()"
      ],
      "metadata": {
        "id": "BaEprlKutpx8",
        "outputId": "c1853f9e-a481-48be-bd7a-3c3e5028a6b3",
        "colab": {
          "base_uri": "https://localhost:8080/"
        }
      },
      "execution_count": 71,
      "outputs": [
        {
          "output_type": "stream",
          "name": "stdout",
          "text": [
            "<class 'pandas.core.frame.DataFrame'>\n",
            "Int64Index: 8318 entries, 0 to 9239\n",
            "Data columns (total 16 columns):\n",
            " #   Column                                         Non-Null Count  Dtype  \n",
            "---  ------                                         --------------  -----  \n",
            " 0   Lead Origin                                    8318 non-null   object \n",
            " 1   Lead Source                                    8318 non-null   object \n",
            " 2   Do Not Email                                   8318 non-null   object \n",
            " 3   Converted                                      8318 non-null   int64  \n",
            " 4   TotalVisits                                    8318 non-null   int64  \n",
            " 5   Total Time Spent on Website                    8318 non-null   int64  \n",
            " 6   Page Views Per Visit                           8318 non-null   float64\n",
            " 7   Last Activity                                  8318 non-null   object \n",
            " 8   Country                                        8318 non-null   object \n",
            " 9   Specialization                                 8318 non-null   object \n",
            " 10  What is your current occupation                8318 non-null   object \n",
            " 11  What matters most to you in choosing a course  8318 non-null   object \n",
            " 12  Tags                                           8318 non-null   object \n",
            " 13  City                                           8318 non-null   object \n",
            " 14  A free copy of Mastering The Interview         8318 non-null   object \n",
            " 15  Last Notable Activity                          8318 non-null   object \n",
            "dtypes: float64(1), int64(3), object(12)\n",
            "memory usage: 1.1+ MB\n"
          ]
        }
      ]
    },
    {
      "cell_type": "code",
      "source": [
        "round(100*(ls.isnull().sum()/len(ls.index)),2)"
      ],
      "metadata": {
        "id": "2WzIiv5WtvcC",
        "outputId": "7c6655f0-8694-4b24-9b03-9e463ca7cf88",
        "colab": {
          "base_uri": "https://localhost:8080/"
        }
      },
      "execution_count": 72,
      "outputs": [
        {
          "output_type": "execute_result",
          "data": {
            "text/plain": [
              "Lead Origin                                      0.0\n",
              "Lead Source                                      0.0\n",
              "Do Not Email                                     0.0\n",
              "Converted                                        0.0\n",
              "TotalVisits                                      0.0\n",
              "Total Time Spent on Website                      0.0\n",
              "Page Views Per Visit                             0.0\n",
              "Last Activity                                    0.0\n",
              "Country                                          0.0\n",
              "Specialization                                   0.0\n",
              "What is your current occupation                  0.0\n",
              "What matters most to you in choosing a course    0.0\n",
              "Tags                                             0.0\n",
              "City                                             0.0\n",
              "A free copy of Mastering The Interview           0.0\n",
              "Last Notable Activity                            0.0\n",
              "dtype: float64"
            ]
          },
          "metadata": {},
          "execution_count": 72
        }
      ]
    },
    {
      "cell_type": "markdown",
      "source": [
        "Data cleaning is completed, modified values by imputing and removing redundant records."
      ],
      "metadata": {
        "id": "f5NS2gTwt4M7"
      }
    },
    {
      "cell_type": "markdown",
      "source": [
        "**Step 3: EXPLORATORY DATA ANALYSIS**"
      ],
      "metadata": {
        "id": "2zcgt7P-uNu0"
      }
    },
    {
      "cell_type": "code",
      "source": [
        "ls.columns.tolist()"
      ],
      "metadata": {
        "id": "9S9U0TI-t3Gi",
        "outputId": "23411b59-1adc-41b7-f813-72379bedfbec",
        "colab": {
          "base_uri": "https://localhost:8080/"
        }
      },
      "execution_count": 73,
      "outputs": [
        {
          "output_type": "execute_result",
          "data": {
            "text/plain": [
              "['Lead Origin',\n",
              " 'Lead Source',\n",
              " 'Do Not Email',\n",
              " 'Converted',\n",
              " 'TotalVisits',\n",
              " 'Total Time Spent on Website',\n",
              " 'Page Views Per Visit',\n",
              " 'Last Activity',\n",
              " 'Country',\n",
              " 'Specialization',\n",
              " 'What is your current occupation',\n",
              " 'What matters most to you in choosing a course',\n",
              " 'Tags',\n",
              " 'City',\n",
              " 'A free copy of Mastering The Interview',\n",
              " 'Last Notable Activity']"
            ]
          },
          "metadata": {},
          "execution_count": 73
        }
      ]
    },
    {
      "cell_type": "code",
      "source": [
        "num_col=[\"TotalVisits\",\"Total Time Spent on Website\",\"Page Views Per Visit\"]\n",
        "obj_col=['Lead Origin',\n",
        " 'Lead Source',\n",
        " 'Do Not Email',\n",
        " 'Converted',\n",
        " 'Last Activity',\n",
        " 'Country',\n",
        " 'Specialization',\n",
        " 'What is your current occupation',\n",
        " 'What matters most to you in choosing a course',\n",
        " 'Tags',\n",
        " 'City',\n",
        " 'A free copy of Mastering The Interview',\n",
        " 'Last Notable Activity']\n",
        "print (num_col)\n",
        "print (obj_col)"
      ],
      "metadata": {
        "id": "7iqFBumlucM1",
        "outputId": "8a831084-b114-4ac3-df63-d03cde0da29e",
        "colab": {
          "base_uri": "https://localhost:8080/"
        }
      },
      "execution_count": 74,
      "outputs": [
        {
          "output_type": "stream",
          "name": "stdout",
          "text": [
            "['TotalVisits', 'Total Time Spent on Website', 'Page Views Per Visit']\n",
            "['Lead Origin', 'Lead Source', 'Do Not Email', 'Converted', 'Last Activity', 'Country', 'Specialization', 'What is your current occupation', 'What matters most to you in choosing a course', 'Tags', 'City', 'A free copy of Mastering The Interview', 'Last Notable Activity']\n"
          ]
        }
      ]
    },
    {
      "cell_type": "code",
      "source": [
        "print(len(obj_col))"
      ],
      "metadata": {
        "id": "QQDnB5QPumTO",
        "outputId": "043261a2-5200-427a-cff8-1f6964665491",
        "colab": {
          "base_uri": "https://localhost:8080/"
        }
      },
      "execution_count": 75,
      "outputs": [
        {
          "output_type": "stream",
          "name": "stdout",
          "text": [
            "13\n"
          ]
        }
      ]
    },
    {
      "cell_type": "markdown",
      "source": [
        "UNIVARIATE ANALYSIS"
      ],
      "metadata": {
        "id": "mSH-_7yfuq0H"
      }
    },
    {
      "cell_type": "code",
      "source": [
        "# Numerical Data - Histogram\n",
        "\n",
        "a=4  # number of rows\n",
        "b=3  # number of columns\n",
        "c=1  # initialize plot counter\n",
        "fig=plt.figure(figsize=(9,9))\n",
        "for i in num_col:\n",
        "    plt.subplot(a,b,c)\n",
        "    plt.title('{},subplot:{}{}{}'.format(i,a,b,c))\n",
        "    plt.xlabel(i)\n",
        "    plt.title(i)\n",
        "    ls[i].plot.hist(color='g')\n",
        "    c=c+1\n",
        "fig.tight_layout()\n",
        "plt.show()\n"
      ],
      "metadata": {
        "id": "s1V1NyAfuulv",
        "outputId": "c152a7fb-8af0-478b-da71-a9ed4deaa7c2",
        "colab": {
          "base_uri": "https://localhost:8080/",
          "height": 270
        }
      },
      "execution_count": 76,
      "outputs": [
        {
          "output_type": "display_data",
          "data": {
            "text/plain": [
              "<Figure size 900x900 with 3 Axes>"
            ],
            "image/png": "[encoded data removed]"
          },
          "metadata": {}
        }
      ]
    },
    {
      "cell_type": "markdown",
      "source": [
        "**observation:**\n",
        "\n",
        "--> Outliers need to be checked as the plot is skewed and also the peak is relatively high"
      ],
      "metadata": {
        "id": "mTbB7aCwwVGW"
      }
    },
    {
      "cell_type": "markdown",
      "source": [
        "CATEGORICAL COLUMNS"
      ],
      "metadata": {
        "id": "hHDcJd1nwiP5"
      }
    },
    {
      "cell_type": "code",
      "source": [
        "sns.set(style=\"darkgrid\")\n",
        "# Visualising the histogram of the distribution of all categorical variables\n",
        "plt.figure(figsize=(20,40))\n",
        "for i in range(len(obj_col)):\n",
        "    plt.subplot(8, 2, i+1)\n",
        "    var=obj_col[i]\n",
        "    sns.countplot(x=var, data=ls)\n",
        "    plt.title(var+' - Distribution')\n",
        "    plt.ylabel('No. of entries')\n",
        "    plt.xticks(rotation=90)\n",
        "    plt.xlabel(None)\n",
        "    plt.subplots_adjust(hspace = 2.5)"
      ],
      "metadata": {
        "id": "UBxt1qjY00AJ",
        "outputId": "73b2f3f4-8ea3-4248-8957-29af6c964a25",
        "colab": {
          "base_uri": "https://localhost:8080/",
          "height": 1000
        }
      },
      "execution_count": 80,
      "outputs": [
        {
          "output_type": "display_data",
          "data": {
            "text/plain": [
              "<Figure size 2000x4000 with 13 Axes>"
            ],
            "image/png": "[encoded data removed]"
          },
          "metadata": {}
        }
      ]
    },
    {
      "cell_type": "markdown",
      "source": [
        "Observations:\n",
        "\n",
        "-->'Lead Origin' - Landing page submission & API have the highest count\n",
        "\n",
        "-->'Lead Source' - Google, Direct Traffic have the highest count\n",
        "\n",
        "\n",
        "-->'Do Not Email' - Most people choosed No, We need to check the percentage of people choosed Yes.\n",
        "\n",
        "-->'Last Activity' - This also we need to analyse depending on Convereted. SMS Sent and Email Opened are the highest in count\n",
        "\n",
        "-->'Country' - Maximum customers are from India\n",
        "\n",
        "--> 'Specialization' - Among the options choosed Finance Management, Human Resource and Marketing Management are higest count but not selected by majority.\n",
        "\n",
        "--> Also most of the users are currently unemployed.\n",
        "\n",
        "--> Most of the users are from Mumbai."
      ],
      "metadata": {
        "id": "oOMVeywN2dOl"
      }
    },
    {
      "cell_type": "markdown",
      "source": [],
      "metadata": {
        "id": "mXix3aO3_C9B"
      }
    },
    {
      "cell_type": "code",
      "source": [],
      "metadata": {
        "id": "4m3YztT32gWE"
      },
      "execution_count": 77,
      "outputs": []
    }
  ]
}